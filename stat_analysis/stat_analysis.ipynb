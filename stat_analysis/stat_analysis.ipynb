{
 "cells": [
  {
   "cell_type": "markdown",
   "id": "cedcfd16",
   "metadata": {
    "toc": true
   },
   "source": [
    "<h1>СОДЕРЖАНИЕ<span class=\"tocSkip\"></span></h1>\n",
    "<div class=\"toc\"><ul class=\"toc-item\"><li><span><a href=\"#Суть-исследования\" data-toc-modified-id=\"Суть-исследования-1\"><span class=\"toc-item-num\">1&nbsp;&nbsp;</span>Суть исследования</a></span></li><li><span><a href=\"#Исходные-данные\" data-toc-modified-id=\"Исходные-данные-2\"><span class=\"toc-item-num\">2&nbsp;&nbsp;</span>Исходные данные</a></span><ul class=\"toc-item\"><li><span><a href=\"#Описание-тарифов\" data-toc-modified-id=\"Описание-тарифов-2.1\"><span class=\"toc-item-num\">2.1&nbsp;&nbsp;</span>Описание тарифов</a></span><ul class=\"toc-item\"><li><span><a href=\"#Без-подписки\" data-toc-modified-id=\"Без-подписки-2.1.1\"><span class=\"toc-item-num\">2.1.1&nbsp;&nbsp;</span>Без подписки</a></span></li><li><span><a href=\"#Подписка-Ultra\" data-toc-modified-id=\"Подписка-Ultra-2.1.2\"><span class=\"toc-item-num\">2.1.2&nbsp;&nbsp;</span>Подписка Ultra</a></span></li></ul></li><li><span><a href=\"#Переданные-файлы\" data-toc-modified-id=\"Переданные-файлы-2.2\"><span class=\"toc-item-num\">2.2&nbsp;&nbsp;</span>Переданные файлы</a></span></li><li><span><a href=\"#Описание-данных\" data-toc-modified-id=\"Описание-данных-2.3\"><span class=\"toc-item-num\">2.3&nbsp;&nbsp;</span>Описание данных</a></span><ul class=\"toc-item\"><li><span><a href=\"#users_df-(инфо-о-пользователях)\" data-toc-modified-id=\"users_df-(инфо-о-пользователях)-2.3.1\"><span class=\"toc-item-num\">2.3.1&nbsp;&nbsp;</span><code>users_df</code> (инфо о пользователях)</a></span></li><li><span><a href=\"#rides_df-(инфо-о-поездках)\" data-toc-modified-id=\"rides_df-(инфо-о-поездках)-2.3.2\"><span class=\"toc-item-num\">2.3.2&nbsp;&nbsp;</span><code>rides_df</code> (инфо о поездках)</a></span></li><li><span><a href=\"#subscriptions_df-(инфо-о-тарифах)\" data-toc-modified-id=\"subscriptions_df-(инфо-о-тарифах)-2.3.3\"><span class=\"toc-item-num\">2.3.3&nbsp;&nbsp;</span><code>subscriptions_df</code> (инфо о тарифах)</a></span></li></ul></li></ul></li><li><span><a href=\"#План-работы-с-данными\" data-toc-modified-id=\"План-работы-с-данными-3\"><span class=\"toc-item-num\">3&nbsp;&nbsp;</span>План работы с данными</a></span><ul class=\"toc-item\"><li><span><a href=\"#Загрузка-данных\" data-toc-modified-id=\"Загрузка-данных-3.1\"><span class=\"toc-item-num\">3.1&nbsp;&nbsp;</span>Загрузка данных</a></span></li><li><span><a href=\"#Предобработка-данных\" data-toc-modified-id=\"Предобработка-данных-3.2\"><span class=\"toc-item-num\">3.2&nbsp;&nbsp;</span>Предобработка данных</a></span></li><li><span><a href=\"#Исследовательский-анализ-данных\" data-toc-modified-id=\"Исследовательский-анализ-данных-3.3\"><span class=\"toc-item-num\">3.3&nbsp;&nbsp;</span>Исследовательский анализ данных</a></span></li><li><span><a href=\"#Объединение-данных\" data-toc-modified-id=\"Объединение-данных-3.4\"><span class=\"toc-item-num\">3.4&nbsp;&nbsp;</span>Объединение данных</a></span></li><li><span><a href=\"#Подсчёт-выручки\" data-toc-modified-id=\"Подсчёт-выручки-3.5\"><span class=\"toc-item-num\">3.5&nbsp;&nbsp;</span>Подсчёт выручки</a></span></li><li><span><a href=\"#Проверка-гипотез\" data-toc-modified-id=\"Проверка-гипотез-3.6\"><span class=\"toc-item-num\">3.6&nbsp;&nbsp;</span>Проверка гипотез</a></span></li></ul></li><li><span><a href=\"#Загрузка-данных\" data-toc-modified-id=\"Загрузка-данных-4\"><span class=\"toc-item-num\">4&nbsp;&nbsp;</span>Загрузка данных</a></span><ul class=\"toc-item\"><li><span><a href=\"#users_df\" data-toc-modified-id=\"users_df-4.1\"><span class=\"toc-item-num\">4.1&nbsp;&nbsp;</span><code>users_df</code></a></span></li><li><span><a href=\"#rides_df\" data-toc-modified-id=\"rides_df-4.2\"><span class=\"toc-item-num\">4.2&nbsp;&nbsp;</span><code>rides_df</code></a></span></li><li><span><a href=\"#subscriptions_df\" data-toc-modified-id=\"subscriptions_df-4.3\"><span class=\"toc-item-num\">4.3&nbsp;&nbsp;</span><code>subscriptions_df</code></a></span></li><li><span><a href=\"#Вывод\" data-toc-modified-id=\"Вывод-4.4\"><span class=\"toc-item-num\">4.4&nbsp;&nbsp;</span>Вывод</a></span></li></ul></li><li><span><a href=\"#Предобработка-данных\" data-toc-modified-id=\"Предобработка-данных-5\"><span class=\"toc-item-num\">5&nbsp;&nbsp;</span>Предобработка данных</a></span><ul class=\"toc-item\"><li><span><a href=\"#Используемые-в-разделе-функции\" data-toc-modified-id=\"Используемые-в-разделе-функции-5.1\"><span class=\"toc-item-num\">5.1&nbsp;&nbsp;</span>Используемые в разделе функции</a></span></li><li><span><a href=\"#Изменение-типа-данных\" data-toc-modified-id=\"Изменение-типа-данных-5.2\"><span class=\"toc-item-num\">5.2&nbsp;&nbsp;</span>Изменение типа данных</a></span></li><li><span><a href=\"#Расчет-новых-метрик-и-доабвление-их-в-таблицу\" data-toc-modified-id=\"Расчет-новых-метрик-и-доабвление-их-в-таблицу-5.3\"><span class=\"toc-item-num\">5.3&nbsp;&nbsp;</span>Расчет новых метрик и доабвление их в таблицу</a></span></li><li><span><a href=\"#Поиск-и-обработка-аномальных-значений\" data-toc-modified-id=\"Поиск-и-обработка-аномальных-значений-5.4\"><span class=\"toc-item-num\">5.4&nbsp;&nbsp;</span>Поиск и обработка аномальных значений</a></span><ul class=\"toc-item\"><li><span><a href=\"#users_df\" data-toc-modified-id=\"users_df-5.4.1\"><span class=\"toc-item-num\">5.4.1&nbsp;&nbsp;</span><code>users_df</code></a></span></li><li><span><a href=\"#Вывод\" data-toc-modified-id=\"Вывод-5.4.2\"><span class=\"toc-item-num\">5.4.2&nbsp;&nbsp;</span>Вывод</a></span></li><li><span><a href=\"#rides_df\" data-toc-modified-id=\"rides_df-5.4.3\"><span class=\"toc-item-num\">5.4.3&nbsp;&nbsp;</span><code>rides_df</code></a></span></li><li><span><a href=\"#Вывод\" data-toc-modified-id=\"Вывод-5.4.4\"><span class=\"toc-item-num\">5.4.4&nbsp;&nbsp;</span>Вывод</a></span></li></ul></li><li><span><a href=\"#Вывод\" data-toc-modified-id=\"Вывод-5.5\"><span class=\"toc-item-num\">5.5&nbsp;&nbsp;</span>Вывод</a></span></li></ul></li><li><span><a href=\"#Исследовательский-анализ-данных\" data-toc-modified-id=\"Исследовательский-анализ-данных-6\"><span class=\"toc-item-num\">6&nbsp;&nbsp;</span>Исследовательский анализ данных</a></span><ul class=\"toc-item\"><li><span><a href=\"#Частота-встречаемости-городов\" data-toc-modified-id=\"Частота-встречаемости-городов-6.1\"><span class=\"toc-item-num\">6.1&nbsp;&nbsp;</span>Частота встречаемости городов</a></span></li><li><span><a href=\"#Соотношение-пользователей-с-подпиской-и-без-подписки\" data-toc-modified-id=\"Соотношение-пользователей-с-подпиской-и-без-подписки-6.2\"><span class=\"toc-item-num\">6.2&nbsp;&nbsp;</span>Соотношение пользователей с подпиской и без подписки</a></span></li><li><span><a href=\"#Возраст-пользователей\" data-toc-modified-id=\"Возраст-пользователей-6.3\"><span class=\"toc-item-num\">6.3&nbsp;&nbsp;</span>Возраст пользователей</a></span></li><li><span><a href=\"#Расстояние,-которое-пользователь-преодолел-за-одну-поездку\" data-toc-modified-id=\"Расстояние,-которое-пользователь-преодолел-за-одну-поездку-6.4\"><span class=\"toc-item-num\">6.4&nbsp;&nbsp;</span>Расстояние, которое пользователь преодолел за одну поездку</a></span></li><li><span><a href=\"#Продолжительность-поездок\" data-toc-modified-id=\"Продолжительность-поездок-6.5\"><span class=\"toc-item-num\">6.5&nbsp;&nbsp;</span>Продолжительность поездок</a></span></li><li><span><a href=\"#Вывод\" data-toc-modified-id=\"Вывод-6.6\"><span class=\"toc-item-num\">6.6&nbsp;&nbsp;</span>Вывод</a></span></li></ul></li><li><span><a href=\"#Объединение-данных\" data-toc-modified-id=\"Объединение-данных-7\"><span class=\"toc-item-num\">7&nbsp;&nbsp;</span>Объединение данных</a></span><ul class=\"toc-item\"><li><span><a href=\"#Объединение-данных-о-пользователях,-поездках-и-подписках-в-один-датафрейм\" data-toc-modified-id=\"Объединение-данных-о-пользователях,-поездках-и-подписках-в-один-датафрейм-7.1\"><span class=\"toc-item-num\">7.1&nbsp;&nbsp;</span>Объединение данных о пользователях, поездках и подписках в один датафрейм</a></span></li><li><span><a href=\"#Датафрейм-с-пользователями-без-подписки\" data-toc-modified-id=\"Датафрейм-с-пользователями-без-подписки-7.2\"><span class=\"toc-item-num\">7.2&nbsp;&nbsp;</span>Датафрейм с пользователями без подписки</a></span></li><li><span><a href=\"#Датафрейм-с-пользователями-с-подпиской\" data-toc-modified-id=\"Датафрейм-с-пользователями-с-подпиской-7.3\"><span class=\"toc-item-num\">7.3&nbsp;&nbsp;</span>Датафрейм с пользователями с подпиской</a></span></li><li><span><a href=\"#Вывод\" data-toc-modified-id=\"Вывод-7.4\"><span class=\"toc-item-num\">7.4&nbsp;&nbsp;</span>Вывод</a></span></li></ul></li><li><span><a href=\"#Подсчёт-выручки\" data-toc-modified-id=\"Подсчёт-выручки-8\"><span class=\"toc-item-num\">8&nbsp;&nbsp;</span>Подсчёт выручки</a></span><ul class=\"toc-item\"><li><span><a href=\"#Агрегирование-данных\" data-toc-modified-id=\"Агрегирование-данных-8.1\"><span class=\"toc-item-num\">8.1&nbsp;&nbsp;</span>Агрегирование данных</a></span></li><li><span><a href=\"#Добавление-в-таблицу-помесячной-выручки\" data-toc-modified-id=\"Добавление-в-таблицу-помесячной-выручки-8.2\"><span class=\"toc-item-num\">8.2&nbsp;&nbsp;</span>Добавление в таблицу помесячной выручки</a></span></li><li><span><a href=\"#Вывод\" data-toc-modified-id=\"Вывод-8.3\"><span class=\"toc-item-num\">8.3&nbsp;&nbsp;</span>Вывод</a></span></li></ul></li><li><span><a href=\"#Проверка-гипотез\" data-toc-modified-id=\"Проверка-гипотез-9\"><span class=\"toc-item-num\">9&nbsp;&nbsp;</span>Проверка гипотез</a></span><ul class=\"toc-item\"><li><span><a href=\"#Пользователи-с-подпиской-тратят-больше-времени-на-поездки-(?)\" data-toc-modified-id=\"Пользователи-с-подпиской-тратят-больше-времени-на-поездки-(?)-9.1\"><span class=\"toc-item-num\">9.1&nbsp;&nbsp;</span>Пользователи с подпиской тратят больше времени на поездки (?)</a></span></li><li><span><a href=\"#Пользователи-с-подпиской-за-одну-поездку-проезжают-не-более-3130-метров-(?)\" data-toc-modified-id=\"Пользователи-с-подпиской-за-одну-поездку-проезжают-не-более-3130-метров-(?)-9.2\"><span class=\"toc-item-num\">9.2&nbsp;&nbsp;</span>Пользователи с подпиской за одну поездку проезжают не более 3130 метров (?)</a></span></li><li><span><a href=\"#У-кого-(с/без-ultra)-помесячная-выручка-больше-(?)\" data-toc-modified-id=\"У-кого-(с/без-ultra)-помесячная-выручка-больше-(?)-9.3\"><span class=\"toc-item-num\">9.3&nbsp;&nbsp;</span>У кого (с/без ultra) помесячная выручка больше (?)</a></span></li><li><span><a href=\"#Количество-обращений-в-техподдержку-снизилось-из-за-обновления-серверов-(?)\" data-toc-modified-id=\"Количество-обращений-в-техподдержку-снизилось-из-за-обновления-серверов-(?)-9.4\"><span class=\"toc-item-num\">9.4&nbsp;&nbsp;</span>Количество обращений в техподдержку снизилось из-за обновления серверов (?)</a></span></li><li><span><a href=\"#Вывод\" data-toc-modified-id=\"Вывод-9.5\"><span class=\"toc-item-num\">9.5&nbsp;&nbsp;</span>Вывод</a></span></li></ul></li><li><span><a href=\"#Вывод\" data-toc-modified-id=\"Вывод-10\"><span class=\"toc-item-num\">10&nbsp;&nbsp;</span>Вывод</a></span></li></ul></div>"
   ]
  },
  {
   "cell_type": "markdown",
   "id": "9a3ebb9c",
   "metadata": {},
   "source": [
    "**СТАТИСТИЧЕСКИЙ АНАЛИЗ ДАННЫХ**\n",
    "# <font color='navy'> ИССЛЕДОВАНИЕ СЕРВИСА АРЕНДЫ САМОКАТОВ \"GOFAST\" </font>\n",
    "\n",
    "---"
   ]
  },
  {
   "cell_type": "markdown",
   "id": "d26cefd3",
   "metadata": {},
   "source": [
    "# <font color='navy'> ВВЕДЕНИЕ </font>"
   ]
  },
  {
   "cell_type": "markdown",
   "id": "14655028",
   "metadata": {},
   "source": [
    "## Суть исследования\n",
    "\n",
    "Несмотря на огромные вложения в рекламу, последние несколько месяцев компания развлекательного приложения $Procrastinate$ $Pro+$ терпит убытки. **Задача** - разобраться в причинах и помочь компании выйти в плюс."
   ]
  },
  {
   "cell_type": "markdown",
   "id": "f18ef836",
   "metadata": {},
   "source": [
    "## Исходные данные"
   ]
  },
  {
   "cell_type": "markdown",
   "id": "7af827c8",
   "metadata": {},
   "source": [
    "### Описание тарифов\n",
    "\n",
    "#### Без подписки\n",
    "1. абонентская плата отсутствует;\n",
    "2. стоимость одной минуты поездки — 8 рублей;\n",
    "3. стоимость старта (начала поездки) — 50 рублей;\n",
    "\n",
    "#### Подписка Ultra\n",
    "1. абонентская плата — 199 рублей в месяц;\n",
    "2. стоимость одной минуты поездки — 6 рублей;\n",
    "3. стоимость старта — бесплатно."
   ]
  },
  {
   "cell_type": "markdown",
   "id": "4bd3b6db",
   "metadata": {},
   "source": [
    "### Переданные файлы\n",
    "* Пользователи — users_go.csv\n",
    "* Поездки — rides_go.csv\n",
    "* Подписки — subscriptions_go.csv"
   ]
  },
  {
   "cell_type": "markdown",
   "id": "724ad55d",
   "metadata": {},
   "source": [
    "### Описание данных\n",
    "\n",
    "#### `users_df` (инфо о пользователях)\n",
    "* **user_id** - уникальный идентификатор пользователя\n",
    "* **name** - имя пользователя\n",
    "* **age** - возраст пользователя\n",
    "* **city** - город\n",
    "* **subscription_type** - тип подписки (free, ultra)\n",
    "\n",
    "#### `rides_df` (инфо о поездках)\n",
    "* **user_id** - уникальный идентификатор пользователя\n",
    "* **distance** - расстояние, которое пользователь проехал в текущей сессии (в метрах)\n",
    "* **duration** - продолжительность сессии (в минутах) — время с того момента, как пользователь нажал кнопку «Начать поездку» до момента, как он нажал кнопку «Завершить поездку»\n",
    "* **date** - дата совершения поездки\n",
    "\n",
    "#### `subscriptions_df` (инфо о тарифах)\n",
    "* **subscription_type** - тип подписки\n",
    "* **minute_price** - стоимость одной минуты поездки по данной подписке\n",
    "* **start_ride_price** - стоимость начала поездки\n",
    "* **subscription_fee** - стоимость ежемесячного платежа"
   ]
  },
  {
   "cell_type": "markdown",
   "id": "5701ce0d",
   "metadata": {},
   "source": [
    "##  План работы с данными"
   ]
  },
  {
   "cell_type": "markdown",
   "id": "e9314279",
   "metadata": {},
   "source": [
    "### Загрузка данных\n",
    "1. Подключить все необходимые для работы библиотеки.\n",
    "2. Считайть CSV-файлы с данными.\n",
    "3. Вывести общую информацию о данных."
   ]
  },
  {
   "cell_type": "markdown",
   "id": "e0d20166",
   "metadata": {},
   "source": [
    "### Предобработка данных\n",
    "1. Привести столбец *date* к типу даты *pandas*.\n",
    "2. Создать новый столбец с номером месяца на основе столбца *date*.\n",
    "3. Проверить и обработать пропущенные значения и дубликаты в датафреймах."
   ]
  },
  {
   "cell_type": "markdown",
   "id": "489036fb",
   "metadata": {},
   "source": [
    "### Исследовательский анализ данных\n",
    "Описать и визуализировать общую информацию о пользователях и поездках:\n",
    "1. частота встречаемости городов;\n",
    "2. соотношение пользователей с подпиской и без подписки;\n",
    "3. возраст пользователей;\n",
    "4. расстояние, которое пользователь преодолел за одну поездку;\n",
    "5. продолжительность поездок."
   ]
  },
  {
   "cell_type": "markdown",
   "id": "c2ba05e0",
   "metadata": {},
   "source": [
    "### Объединение данных\n",
    "1. Объединить данные о пользователях, поездках и подписках в один датафрейм.\n",
    "2. Создать ещё два датафрейма из датафрейма, созданного на предыдущем этапе:\n",
    " - c данными о пользователях без подписки;\n",
    " - с данными о пользователях с подпиской.\n",
    "3. Визуализировать информацию о расстоянии и времени поездок для пользователей обеих категорий."
   ]
  },
  {
   "cell_type": "markdown",
   "id": "b1085093",
   "metadata": {},
   "source": [
    "### Подсчёт выручки\n",
    "1. Создать датафрейм с агрегированными данными о поездках на основе датафрейма с объединёнными данными из шага 3.4: найти суммарное расстояние, количество поездок и суммарное время для каждого пользователя за каждый месяц.\n",
    "2. В этот же датафрейм добавить столбец с помесячной выручкой, которую принёс каждый пользователь. Для этого обратиться к информации об условиях оплаты для подписчиков и тех, у кого нет подписки. Продолжительность каждой поездки в каждой строке исходного датафрейма для подсчёта стоимости округляется до следующего целого числа."
   ]
  },
  {
   "cell_type": "markdown",
   "id": "0f8f56b3",
   "metadata": {},
   "source": [
    "### Проверка гипотез\n",
    "Продакт-менеджеры сервиса хотят увеличить количество пользователей с подпиской. Для этого они будут проводить различные акции, но сначала нужно выяснить несколько важных моментов.\n",
    "\n",
    "1. Важно понять, тратят ли пользователи с подпиской больше времени на поездки? Если да, то пользователи с подпиской могут быть «выгоднее» для компании. Проверим гипотезу.\n",
    "\n",
    "2. Расстояние одной поездки в 3130 метров — оптимальное с точки зрения износа самоката. Можно ли сказать, что расстояние, которое проезжают пользователи с подпиской за одну поездку, не превышает 3130 метров?\n",
    "\n",
    "3. Проверьте гипотезу о том, будет ли помесячная выручка от пользователей с подпиской по месяцам выше, чем выручка от пользователей без подписки.\n",
    "\n",
    "4. Представьте такую ситуацию: техническая команда сервиса обновила сервера, с которыми взаимодействует мобильное приложение. Она надеется, что из-за этого количество обращений в техподдержку значимо снизилось. Некоторый файл содержит для каждого пользователя данные о количестве обращений до обновления и после него."
   ]
  },
  {
   "cell_type": "markdown",
   "id": "420a894b",
   "metadata": {},
   "source": [
    "# <font color='navy'> ОСНОВНАЯ ЧАСТЬ </font>"
   ]
  },
  {
   "cell_type": "markdown",
   "id": "e41a480b",
   "metadata": {},
   "source": [
    "## Загрузка данных"
   ]
  },
  {
   "cell_type": "code",
   "execution_count": 1,
   "id": "abb248a0",
   "metadata": {
    "scrolled": true
   },
   "outputs": [
    {
     "name": "stderr",
     "output_type": "stream",
     "text": [
      "C:\\Users\\User\\anaconda3\\Lib\\site-packages\\pandas\\core\\arrays\\masked.py:60: UserWarning: Pandas requires version '1.3.6' or newer of 'bottleneck' (version '1.3.5' currently installed).\n",
      "  from pandas.core import (\n"
     ]
    }
   ],
   "source": [
    "# 1. импорт библиотек\n",
    "#! pip install --upgrade matplotlib\n",
    "#! pip install --upgrade seaborn\n",
    "\n",
    "import pandas as pd\n",
    "\n",
    "import matplotlib.pyplot as plt\n",
    "\n",
    "import seaborn as sns\n",
    "\n",
    "from scipy import stats as st\n",
    "\n",
    "import numpy as np\n",
    "\n",
    "import os\n",
    "\n",
    "import warnings\n",
    "\n",
    "warnings.filterwarnings('ignore')\n",
    "\n",
    "# 1.1 настройка форматов вывода\n",
    "pd.options.display.float_format = '{:.2f}'.format\n",
    "\n",
    "pd.set_option('display.max_columns', None)"
   ]
  },
  {
   "cell_type": "code",
   "execution_count": 2,
   "id": "24dc0bb0",
   "metadata": {},
   "outputs": [],
   "source": [
    "# 2. загрузка данных\n",
    "\n",
    "pth1 = '/datasets'\n",
    "\n",
    "if os.path.exists(pth1):\n",
    "    users_df = pd.read_csv(pth1 + '/users_go.csv') # ------------------> данные о пользователях \n",
    "    rides_df = pd.read_csv(pth1 + '/rides_go.csv') #-------------------> данные о поездках\n",
    "    subscriptions_df = pd.read_csv(pth1 + '/subscriptions_go.csv') #---> данные о тарифах\n",
    "elif os.path.exists('users_go.csv') and os.path.exists('rides_go.csv') and os.path.exists('subscriptions_go.csv'):\n",
    "    users_df = pd.read_csv('users_go.csv') # --------------------------> данные о пользователях \n",
    "    rides_df = pd.read_csv('rides_go.csv') #---------------------------> данные о поездках\n",
    "    subscriptions_df = pd.read_csv('subscriptions_go.csv') #-----------> данные о тарифах\n",
    "else:\n",
    "    print('[!] Не удалось загрузить данные')"
   ]
  },
  {
   "cell_type": "markdown",
   "id": "4060f718",
   "metadata": {},
   "source": [
    "### `users_df`"
   ]
  },
  {
   "cell_type": "code",
   "execution_count": 3,
   "id": "cdf51f7f",
   "metadata": {
    "cell_style": "split"
   },
   "outputs": [
    {
     "data": {
      "text/html": [
       "<div>\n",
       "<style scoped>\n",
       "    .dataframe tbody tr th:only-of-type {\n",
       "        vertical-align: middle;\n",
       "    }\n",
       "\n",
       "    .dataframe tbody tr th {\n",
       "        vertical-align: top;\n",
       "    }\n",
       "\n",
       "    .dataframe thead th {\n",
       "        text-align: right;\n",
       "    }\n",
       "</style>\n",
       "<table border=\"1\" class=\"dataframe\">\n",
       "  <thead>\n",
       "    <tr style=\"text-align: right;\">\n",
       "      <th></th>\n",
       "      <th>user_id</th>\n",
       "      <th>name</th>\n",
       "      <th>age</th>\n",
       "      <th>city</th>\n",
       "      <th>subscription_type</th>\n",
       "    </tr>\n",
       "  </thead>\n",
       "  <tbody>\n",
       "    <tr>\n",
       "      <th>0</th>\n",
       "      <td>1</td>\n",
       "      <td>Кира</td>\n",
       "      <td>22</td>\n",
       "      <td>Тюмень</td>\n",
       "      <td>ultra</td>\n",
       "    </tr>\n",
       "    <tr>\n",
       "      <th>1</th>\n",
       "      <td>2</td>\n",
       "      <td>Станислав</td>\n",
       "      <td>31</td>\n",
       "      <td>Омск</td>\n",
       "      <td>ultra</td>\n",
       "    </tr>\n",
       "    <tr>\n",
       "      <th>2</th>\n",
       "      <td>3</td>\n",
       "      <td>Алексей</td>\n",
       "      <td>20</td>\n",
       "      <td>Москва</td>\n",
       "      <td>ultra</td>\n",
       "    </tr>\n",
       "    <tr>\n",
       "      <th>3</th>\n",
       "      <td>4</td>\n",
       "      <td>Константин</td>\n",
       "      <td>26</td>\n",
       "      <td>Ростов-на-Дону</td>\n",
       "      <td>ultra</td>\n",
       "    </tr>\n",
       "    <tr>\n",
       "      <th>4</th>\n",
       "      <td>5</td>\n",
       "      <td>Адель</td>\n",
       "      <td>28</td>\n",
       "      <td>Омск</td>\n",
       "      <td>ultra</td>\n",
       "    </tr>\n",
       "  </tbody>\n",
       "</table>\n",
       "</div>"
      ],
      "text/plain": [
       "   user_id        name  age            city subscription_type\n",
       "0        1        Кира   22          Тюмень             ultra\n",
       "1        2   Станислав   31            Омск             ultra\n",
       "2        3     Алексей   20          Москва             ultra\n",
       "3        4  Константин   26  Ростов-на-Дону             ultra\n",
       "4        5       Адель   28            Омск             ultra"
      ]
     },
     "execution_count": 3,
     "metadata": {},
     "output_type": "execute_result"
    }
   ],
   "source": [
    "users_df.head()"
   ]
  },
  {
   "cell_type": "code",
   "execution_count": 4,
   "id": "6324bdde",
   "metadata": {
    "cell_style": "split"
   },
   "outputs": [
    {
     "name": "stdout",
     "output_type": "stream",
     "text": [
      "<class 'pandas.core.frame.DataFrame'>\n",
      "RangeIndex: 1565 entries, 0 to 1564\n",
      "Data columns (total 5 columns):\n",
      " #   Column             Non-Null Count  Dtype \n",
      "---  ------             --------------  ----- \n",
      " 0   user_id            1565 non-null   int64 \n",
      " 1   name               1565 non-null   object\n",
      " 2   age                1565 non-null   int64 \n",
      " 3   city               1565 non-null   object\n",
      " 4   subscription_type  1565 non-null   object\n",
      "dtypes: int64(2), object(3)\n",
      "memory usage: 61.3+ KB\n"
     ]
    }
   ],
   "source": [
    "users_df.info()"
   ]
  },
  {
   "cell_type": "markdown",
   "id": "5f2f062f",
   "metadata": {},
   "source": [
    "**Вывод** \n",
    "\n",
    "Данный датафрейм содержит информацию о $1565$ пользователях из разных городов, использующие один из двух возмодных тарифов. Пропущенных значений не обнаружено; изменять тип данных необходимости нет."
   ]
  },
  {
   "cell_type": "markdown",
   "id": "af554c44",
   "metadata": {},
   "source": [
    "### `rides_df`"
   ]
  },
  {
   "cell_type": "code",
   "execution_count": 5,
   "id": "56c6a659",
   "metadata": {
    "cell_style": "split"
   },
   "outputs": [
    {
     "data": {
      "text/html": [
       "<div>\n",
       "<style scoped>\n",
       "    .dataframe tbody tr th:only-of-type {\n",
       "        vertical-align: middle;\n",
       "    }\n",
       "\n",
       "    .dataframe tbody tr th {\n",
       "        vertical-align: top;\n",
       "    }\n",
       "\n",
       "    .dataframe thead th {\n",
       "        text-align: right;\n",
       "    }\n",
       "</style>\n",
       "<table border=\"1\" class=\"dataframe\">\n",
       "  <thead>\n",
       "    <tr style=\"text-align: right;\">\n",
       "      <th></th>\n",
       "      <th>user_id</th>\n",
       "      <th>distance</th>\n",
       "      <th>duration</th>\n",
       "      <th>date</th>\n",
       "    </tr>\n",
       "  </thead>\n",
       "  <tbody>\n",
       "    <tr>\n",
       "      <th>0</th>\n",
       "      <td>1</td>\n",
       "      <td>4409.92</td>\n",
       "      <td>25.60</td>\n",
       "      <td>2021-01-01</td>\n",
       "    </tr>\n",
       "    <tr>\n",
       "      <th>1</th>\n",
       "      <td>1</td>\n",
       "      <td>2617.59</td>\n",
       "      <td>15.82</td>\n",
       "      <td>2021-01-18</td>\n",
       "    </tr>\n",
       "    <tr>\n",
       "      <th>2</th>\n",
       "      <td>1</td>\n",
       "      <td>754.16</td>\n",
       "      <td>6.23</td>\n",
       "      <td>2021-04-20</td>\n",
       "    </tr>\n",
       "    <tr>\n",
       "      <th>3</th>\n",
       "      <td>1</td>\n",
       "      <td>2694.78</td>\n",
       "      <td>18.51</td>\n",
       "      <td>2021-08-11</td>\n",
       "    </tr>\n",
       "    <tr>\n",
       "      <th>4</th>\n",
       "      <td>1</td>\n",
       "      <td>4028.69</td>\n",
       "      <td>26.27</td>\n",
       "      <td>2021-08-28</td>\n",
       "    </tr>\n",
       "  </tbody>\n",
       "</table>\n",
       "</div>"
      ],
      "text/plain": [
       "   user_id  distance  duration        date\n",
       "0        1   4409.92     25.60  2021-01-01\n",
       "1        1   2617.59     15.82  2021-01-18\n",
       "2        1    754.16      6.23  2021-04-20\n",
       "3        1   2694.78     18.51  2021-08-11\n",
       "4        1   4028.69     26.27  2021-08-28"
      ]
     },
     "execution_count": 5,
     "metadata": {},
     "output_type": "execute_result"
    }
   ],
   "source": [
    "rides_df.head()"
   ]
  },
  {
   "cell_type": "code",
   "execution_count": 6,
   "id": "e3795110",
   "metadata": {
    "cell_style": "split"
   },
   "outputs": [
    {
     "name": "stdout",
     "output_type": "stream",
     "text": [
      "<class 'pandas.core.frame.DataFrame'>\n",
      "RangeIndex: 18068 entries, 0 to 18067\n",
      "Data columns (total 4 columns):\n",
      " #   Column    Non-Null Count  Dtype  \n",
      "---  ------    --------------  -----  \n",
      " 0   user_id   18068 non-null  int64  \n",
      " 1   distance  18068 non-null  float64\n",
      " 2   duration  18068 non-null  float64\n",
      " 3   date      18068 non-null  object \n",
      "dtypes: float64(2), int64(1), object(1)\n",
      "memory usage: 564.8+ KB\n"
     ]
    }
   ],
   "source": [
    "rides_df.info()"
   ]
  },
  {
   "cell_type": "markdown",
   "id": "a57c7400",
   "metadata": {},
   "source": [
    "**Вывод** \n",
    "\n",
    "Данный датафрейм содержит информацию о $18068$ поездках, их дате, дистанции и продолжительности по времени. Пропущенных значений не обнаружено; Есть необходимость привести столбец *date* к типу даты *pandas*."
   ]
  },
  {
   "cell_type": "markdown",
   "id": "a8d93a61",
   "metadata": {},
   "source": [
    "### `subscriptions_df`"
   ]
  },
  {
   "cell_type": "code",
   "execution_count": 7,
   "id": "ec1af305",
   "metadata": {
    "cell_style": "split"
   },
   "outputs": [
    {
     "data": {
      "text/html": [
       "<div>\n",
       "<style scoped>\n",
       "    .dataframe tbody tr th:only-of-type {\n",
       "        vertical-align: middle;\n",
       "    }\n",
       "\n",
       "    .dataframe tbody tr th {\n",
       "        vertical-align: top;\n",
       "    }\n",
       "\n",
       "    .dataframe thead th {\n",
       "        text-align: right;\n",
       "    }\n",
       "</style>\n",
       "<table border=\"1\" class=\"dataframe\">\n",
       "  <thead>\n",
       "    <tr style=\"text-align: right;\">\n",
       "      <th></th>\n",
       "      <th>subscription_type</th>\n",
       "      <th>minute_price</th>\n",
       "      <th>start_ride_price</th>\n",
       "      <th>subscription_fee</th>\n",
       "    </tr>\n",
       "  </thead>\n",
       "  <tbody>\n",
       "    <tr>\n",
       "      <th>0</th>\n",
       "      <td>free</td>\n",
       "      <td>8</td>\n",
       "      <td>50</td>\n",
       "      <td>0</td>\n",
       "    </tr>\n",
       "    <tr>\n",
       "      <th>1</th>\n",
       "      <td>ultra</td>\n",
       "      <td>6</td>\n",
       "      <td>0</td>\n",
       "      <td>199</td>\n",
       "    </tr>\n",
       "  </tbody>\n",
       "</table>\n",
       "</div>"
      ],
      "text/plain": [
       "  subscription_type  minute_price  start_ride_price  subscription_fee\n",
       "0              free             8                50                 0\n",
       "1             ultra             6                 0               199"
      ]
     },
     "execution_count": 7,
     "metadata": {},
     "output_type": "execute_result"
    }
   ],
   "source": [
    "subscriptions_df"
   ]
  },
  {
   "cell_type": "code",
   "execution_count": 8,
   "id": "553aeee4",
   "metadata": {
    "cell_style": "split"
   },
   "outputs": [
    {
     "name": "stdout",
     "output_type": "stream",
     "text": [
      "<class 'pandas.core.frame.DataFrame'>\n",
      "RangeIndex: 2 entries, 0 to 1\n",
      "Data columns (total 4 columns):\n",
      " #   Column             Non-Null Count  Dtype \n",
      "---  ------             --------------  ----- \n",
      " 0   subscription_type  2 non-null      object\n",
      " 1   minute_price       2 non-null      int64 \n",
      " 2   start_ride_price   2 non-null      int64 \n",
      " 3   subscription_fee   2 non-null      int64 \n",
      "dtypes: int64(3), object(1)\n",
      "memory usage: 196.0+ bytes\n"
     ]
    }
   ],
   "source": [
    "subscriptions_df.info()"
   ]
  },
  {
   "cell_type": "markdown",
   "id": "12150ac3",
   "metadata": {
    "cell_style": "center"
   },
   "source": [
    "**Вывод** \n",
    "\n",
    "Этот маленький датафрейм содержит только информацию о тарифах."
   ]
  },
  {
   "cell_type": "markdown",
   "id": "2c4083ae",
   "metadata": {},
   "source": [
    "### Вывод\n",
    "Первый взгляд на данные заставляет думать, что они в прекрасном качестве - нет пропусков и почти не нужно менять тип данных у столбцов. Наличие аномальных значений будет проверено в пункте предобработки данных."
   ]
  },
  {
   "cell_type": "markdown",
   "id": "419c7688",
   "metadata": {},
   "source": [
    "## Предобработка данных"
   ]
  },
  {
   "cell_type": "markdown",
   "id": "30727afc",
   "metadata": {},
   "source": [
    "### Используемые в разделе функции"
   ]
  },
  {
   "cell_type": "code",
   "execution_count": 9,
   "id": "9fce8f75",
   "metadata": {},
   "outputs": [],
   "source": [
    "# 1. ф-я вывода информации о столбце датафрейма\n",
    "def describe(df, col, bins = 100):\n",
    "    \n",
    "    f, (ax_box, ax_hist) = plt.subplots(2, sharex=True, figsize=(15,5), gridspec_kw={'height_ratios': [1, 2]})\n",
    "    \n",
    "    sns.boxplot(df[col], orient='h', ax = ax_box);\n",
    "    sns.histplot(df[col], shrink=.8,ax = ax_hist, bins = bins);\n",
    "    if max(df[col])<=50:\n",
    "        ax_hist.xaxis.set_major_locator(plt.MultipleLocator(1))\n",
    "    \n",
    "    ax_box.set(title = 'Диграмма размаха столбца '+col)\n",
    "    ax_hist.set(title = 'Гистограмма столбца '+col,xlabel='Столбец: '+col, ylabel='Кол-во', xlim=(0,max(df[col])))\n",
    "    return df[col].describe()"
   ]
  },
  {
   "cell_type": "markdown",
   "id": "081b8f3d",
   "metadata": {},
   "source": [
    "### Изменение типа данных\n",
    "Приведем столбец **date** в `rides_df` к типу даты **pandas**."
   ]
  },
  {
   "cell_type": "code",
   "execution_count": 10,
   "id": "19f2e075",
   "metadata": {},
   "outputs": [
    {
     "name": "stdout",
     "output_type": "stream",
     "text": [
      "<class 'pandas.core.frame.DataFrame'>\n",
      "RangeIndex: 18068 entries, 0 to 18067\n",
      "Data columns (total 4 columns):\n",
      " #   Column    Non-Null Count  Dtype         \n",
      "---  ------    --------------  -----         \n",
      " 0   user_id   18068 non-null  int64         \n",
      " 1   distance  18068 non-null  float64       \n",
      " 2   duration  18068 non-null  float64       \n",
      " 3   date      18068 non-null  datetime64[ns]\n",
      "dtypes: datetime64[ns](1), float64(2), int64(1)\n",
      "memory usage: 564.8 KB\n"
     ]
    }
   ],
   "source": [
    "rides_df['date'] = pd.to_datetime(rides_df['date'], format = '%Y-%m-%d')\n",
    "rides_df.info()"
   ]
  },
  {
   "cell_type": "markdown",
   "id": "6d8cbe6a",
   "metadata": {
    "cell_style": "center"
   },
   "source": [
    "**Вывод**  \n",
    "  \n",
    "На данном этапе предобработки данных в таблице `rides_df`:\n",
    "- тип данных столбца **date** заменили на **datetime64**."
   ]
  },
  {
   "cell_type": "markdown",
   "id": "68ead95a",
   "metadata": {},
   "source": [
    "### Расчет новых метрик и доабвление их в таблицу"
   ]
  },
  {
   "cell_type": "markdown",
   "id": "e14685c2",
   "metadata": {},
   "source": [
    "Узнаем, за какой период собраны данные."
   ]
  },
  {
   "cell_type": "code",
   "execution_count": 11,
   "id": "197b9528",
   "metadata": {},
   "outputs": [
    {
     "data": {
      "text/plain": [
       "array([2021])"
      ]
     },
     "execution_count": 11,
     "metadata": {},
     "output_type": "execute_result"
    }
   ],
   "source": [
    "rides_df['date'].dt.year.unique()"
   ]
  },
  {
   "cell_type": "markdown",
   "id": "ea26387e",
   "metadata": {},
   "source": [
    "Все данные датируются 2021 годом."
   ]
  },
  {
   "cell_type": "markdown",
   "id": "7d3dac05",
   "metadata": {},
   "source": [
    "Создадим новый столбец с номером месяца на основе столбца **date**."
   ]
  },
  {
   "cell_type": "code",
   "execution_count": 12,
   "id": "159af0a1",
   "metadata": {},
   "outputs": [
    {
     "data": {
      "text/html": [
       "<div>\n",
       "<style scoped>\n",
       "    .dataframe tbody tr th:only-of-type {\n",
       "        vertical-align: middle;\n",
       "    }\n",
       "\n",
       "    .dataframe tbody tr th {\n",
       "        vertical-align: top;\n",
       "    }\n",
       "\n",
       "    .dataframe thead th {\n",
       "        text-align: right;\n",
       "    }\n",
       "</style>\n",
       "<table border=\"1\" class=\"dataframe\">\n",
       "  <thead>\n",
       "    <tr style=\"text-align: right;\">\n",
       "      <th></th>\n",
       "      <th>user_id</th>\n",
       "      <th>distance</th>\n",
       "      <th>duration</th>\n",
       "      <th>date</th>\n",
       "      <th>month</th>\n",
       "    </tr>\n",
       "  </thead>\n",
       "  <tbody>\n",
       "    <tr>\n",
       "      <th>0</th>\n",
       "      <td>1</td>\n",
       "      <td>4409.92</td>\n",
       "      <td>25.60</td>\n",
       "      <td>2021-01-01</td>\n",
       "      <td>1</td>\n",
       "    </tr>\n",
       "    <tr>\n",
       "      <th>1</th>\n",
       "      <td>1</td>\n",
       "      <td>2617.59</td>\n",
       "      <td>15.82</td>\n",
       "      <td>2021-01-18</td>\n",
       "      <td>1</td>\n",
       "    </tr>\n",
       "    <tr>\n",
       "      <th>2</th>\n",
       "      <td>1</td>\n",
       "      <td>754.16</td>\n",
       "      <td>6.23</td>\n",
       "      <td>2021-04-20</td>\n",
       "      <td>4</td>\n",
       "    </tr>\n",
       "    <tr>\n",
       "      <th>3</th>\n",
       "      <td>1</td>\n",
       "      <td>2694.78</td>\n",
       "      <td>18.51</td>\n",
       "      <td>2021-08-11</td>\n",
       "      <td>8</td>\n",
       "    </tr>\n",
       "    <tr>\n",
       "      <th>4</th>\n",
       "      <td>1</td>\n",
       "      <td>4028.69</td>\n",
       "      <td>26.27</td>\n",
       "      <td>2021-08-28</td>\n",
       "      <td>8</td>\n",
       "    </tr>\n",
       "  </tbody>\n",
       "</table>\n",
       "</div>"
      ],
      "text/plain": [
       "   user_id  distance  duration       date  month\n",
       "0        1   4409.92     25.60 2021-01-01      1\n",
       "1        1   2617.59     15.82 2021-01-18      1\n",
       "2        1    754.16      6.23 2021-04-20      4\n",
       "3        1   2694.78     18.51 2021-08-11      8\n",
       "4        1   4028.69     26.27 2021-08-28      8"
      ]
     },
     "execution_count": 12,
     "metadata": {},
     "output_type": "execute_result"
    }
   ],
   "source": [
    "rides_df['month'] = rides_df['date'].dt.month\n",
    "rides_df.head()"
   ]
  },
  {
   "cell_type": "markdown",
   "id": "6c0c04b5",
   "metadata": {},
   "source": [
    "**Вывод**  \n",
    "  \n",
    "На данном этапе предобработки данных в таблице `rides_df`:\n",
    "- добавлен столбец **mouth** с номером месяца поездки."
   ]
  },
  {
   "cell_type": "markdown",
   "id": "1f93d89c",
   "metadata": {},
   "source": [
    "### Поиск и обработка аномальных значений\n",
    "Изучим данные более подробно в поисках возмоных аномалий."
   ]
  },
  {
   "cell_type": "markdown",
   "id": "5d7a9a9d",
   "metadata": {},
   "source": [
    "#### `users_df`"
   ]
  },
  {
   "cell_type": "markdown",
   "id": "17999bf1",
   "metadata": {},
   "source": [
    "Проверим, нет ли дубликатов в датафрейме."
   ]
  },
  {
   "cell_type": "code",
   "execution_count": 13,
   "id": "08d06a34",
   "metadata": {
    "scrolled": true
   },
   "outputs": [
    {
     "name": "stdout",
     "output_type": "stream",
     "text": [
      "Количество уникальных id: 1534\n",
      "Количество записей всего: 1565\n",
      "Количество повторений записей: 31\n",
      "Доля повторяющихся записей:  1.98%\n"
     ]
    }
   ],
   "source": [
    "print(f'Количество уникальных id: {len(users_df.user_id.unique())}')\n",
    "print(f'Количество записей всего: {len(users_df)}')\n",
    "print(f'Количество повторений записей: {users_df.duplicated().sum()}')\n",
    "print(f'Доля повторяющихся записей: {users_df.duplicated().sum() / len(users_df): 0.2%}')"
   ]
  },
  {
   "cell_type": "markdown",
   "id": "86d71429",
   "metadata": {},
   "source": [
    "**Избавимся от дубликатов, которые составляют 2% от датафрейма.**"
   ]
  },
  {
   "cell_type": "code",
   "execution_count": 14,
   "id": "4b1356b9",
   "metadata": {},
   "outputs": [],
   "source": [
    "users_df = users_df.drop_duplicates()"
   ]
  },
  {
   "cell_type": "markdown",
   "id": "7ebf7dd6",
   "metadata": {},
   "source": [
    "На всякий случай проверим столбец с именами пользователей."
   ]
  },
  {
   "cell_type": "code",
   "execution_count": 15,
   "id": "7b457ac1",
   "metadata": {
    "scrolled": true
   },
   "outputs": [
    {
     "data": {
      "text/plain": [
       "array(['Кира', 'Станислав', 'Алексей', 'Константин', 'Адель', 'Регина',\n",
       "       'Игорь', 'Юрий', 'Ян', 'Валерий', 'Агата', 'Марк', 'Ева',\n",
       "       'Антонина', 'Валерия', 'Амалия', 'Даниил', 'Аделина', 'Святогор',\n",
       "       'Борис', 'Вероника', 'Ростислав', 'Назар', 'Эдуард', 'Василий',\n",
       "       'Денис', 'Тамара', 'Николай', 'Эвелина', 'Федор', 'Руслан', 'Иван',\n",
       "       'Любовь', 'Ярослава', 'Майя', 'Ильдар', 'Данила', 'Нина',\n",
       "       'Стефания', 'Ясмина', 'Дмитрий', 'Александр', 'Одиссей', 'Арсений',\n",
       "       'Алла', 'Таисия', 'Максим', 'Юлиана', 'Павел', 'Карина', 'Алиса',\n",
       "       'Лидия', 'Рамиль', 'Родион', 'Ника', 'Оксана', 'Анастасия',\n",
       "       'Маргарита', 'Вера', 'Тимур', 'Никита', 'Лев', 'Влад', 'Артур',\n",
       "       'Анна', 'Ольга', 'Вячеслав', 'Ксения', 'Виталина', 'Владислав',\n",
       "       'Тамерлан', 'Амина', 'Вадим', 'Олеся', 'Зарина', 'Егор', 'Гордей',\n",
       "       'Лилия', 'Святослав', 'Роберт', 'Амир', 'Влада', 'Богдан',\n",
       "       'Полина', 'Марат', 'Елисей', 'Макар', 'Алина', 'Глеб', 'Андрей',\n",
       "       'Альбина', 'Людмила', 'Марсель', 'Милена', 'Диана', 'Дарина',\n",
       "       'Данил', 'Артемий', 'Лиана', 'Альберт', 'Герман', 'Жанна', 'Нелли',\n",
       "       'Евгения', 'Ариана', 'Самира', 'Захар', 'Эльвира', 'Екатерина',\n",
       "       'Инна', 'Демид', 'Яна', 'Михаил', 'Татьяна', 'Степан', 'Мелания',\n",
       "       'Тимофей', 'Ирина', 'Анжелика', 'Владислава', 'Елизавета',\n",
       "       'Мадина', 'Снежана', 'Даниэль', 'Рустам', 'Каролина', 'Ангелина',\n",
       "       'Владимир', 'Виктория', 'Валентина', 'Семен', 'Арина', 'Лариса',\n",
       "       'Есения', 'Галина', 'Кирилл', 'Игнат', 'Виталий', 'Эмилия',\n",
       "       'Виолетта', 'Яромир', 'Софья', 'Мирослава', 'Евгений', 'Варвара',\n",
       "       'Платон', 'Наталия', 'Анатолий', 'Кристина', 'Всеволод', 'Дарья',\n",
       "       'Наташа', 'Мария', 'Марина', 'Василиса', 'Юлия', 'Илья', 'Злата',\n",
       "       'Роман', 'Наталья', 'Элина', 'Арсен', 'Айдар', 'Алия', 'Виктор',\n",
       "       'Мирон', 'Ульяна', 'Георгий', 'Петр', 'Эльмира', 'Олег', 'Дамир',\n",
       "       'Самир', 'Ярослав', 'Камилла', 'Сергей', 'Эмиль', 'Радмир',\n",
       "       'Савелий', 'Елена', 'Антон', 'Мирослав', 'София', 'Тихон', 'Артём',\n",
       "       'Давид', 'Григорий', 'Алёна', 'Светлана', 'Леонид', 'Александра',\n",
       "       'Василина', 'Милана', 'Матвей'], dtype=object)"
      ]
     },
     "execution_count": 15,
     "metadata": {},
     "output_type": "execute_result"
    }
   ],
   "source": [
    "users_df['name'].unique()"
   ]
  },
  {
   "cell_type": "markdown",
   "id": "b4ca8607",
   "metadata": {},
   "source": [
    "Никаких аномалий не обнаружено.\n",
    "\n",
    "**Никаких изменений столбец не требует.**"
   ]
  },
  {
   "cell_type": "markdown",
   "id": "e6229c69",
   "metadata": {},
   "source": [
    "Проверим столбец с возврастом клиентов на наличие аномалий."
   ]
  },
  {
   "cell_type": "code",
   "execution_count": 16,
   "id": "f2a18ae0",
   "metadata": {
    "scrolled": false
   },
   "outputs": [
    {
     "data": {
      "text/plain": [
       "count   1534.00\n",
       "mean      24.90\n",
       "std        4.57\n",
       "min       12.00\n",
       "25%       22.00\n",
       "50%       25.00\n",
       "75%       28.00\n",
       "max       43.00\n",
       "Name: age, dtype: float64"
      ]
     },
     "execution_count": 16,
     "metadata": {},
     "output_type": "execute_result"
    },
    {
     "data": {
      "image/png": "[encoded data removed]",
      "text/plain": [
       "<Figure size 1500x500 with 2 Axes>"
      ]
     },
     "metadata": {},
     "output_type": "display_data"
    }
   ],
   "source": [
    "describe(users_df,'age')"
   ]
  },
  {
   "cell_type": "markdown",
   "id": "ec567b33",
   "metadata": {},
   "source": [
    "Гистограмма показывает нормальное распределение возрастов клиентов с модой в 25 лет.\n",
    "\n",
    "**Никаких изменений столбец не требует.**"
   ]
  },
  {
   "cell_type": "markdown",
   "id": "85140fd3",
   "metadata": {},
   "source": [
    "Рассмотрим столбец **city**"
   ]
  },
  {
   "cell_type": "code",
   "execution_count": 17,
   "id": "2bb25ce9",
   "metadata": {},
   "outputs": [
    {
     "data": {
      "text/plain": [
       "array(['Тюмень', 'Омск', 'Москва', 'Ростов-на-Дону', 'Краснодар',\n",
       "       'Пятигорск', 'Екатеринбург', 'Сочи'], dtype=object)"
      ]
     },
     "execution_count": 17,
     "metadata": {},
     "output_type": "execute_result"
    }
   ],
   "source": [
    "users_df['city'].unique()"
   ]
  },
  {
   "cell_type": "markdown",
   "id": "68f616fb",
   "metadata": {},
   "source": [
    "В таблице представлены клиенты из восьми городов. \n",
    "\n",
    "**Никаких изменений столбец не требует.**"
   ]
  },
  {
   "cell_type": "markdown",
   "id": "7cb29397",
   "metadata": {},
   "source": [
    "Рассмотрим столбец `subscription_type`"
   ]
  },
  {
   "cell_type": "code",
   "execution_count": 18,
   "id": "843524d2",
   "metadata": {},
   "outputs": [
    {
     "name": "stdout",
     "output_type": "stream",
     "text": [
      "['ultra' 'free']\n"
     ]
    }
   ],
   "source": [
    "print(users_df['subscription_type'].unique())"
   ]
  },
  {
   "cell_type": "markdown",
   "id": "b6a4e7f2",
   "metadata": {},
   "source": [
    "Стоблец соержит только тип тарифа, которым пользуется клиент. \n",
    "\n",
    "**Никаких изменений столбец не требует.**"
   ]
  },
  {
   "cell_type": "markdown",
   "id": "665e1324",
   "metadata": {},
   "source": [
    "#### Вывод\n",
    "\n",
    "* Было выявлено около **2%** дубликатов в датафрейме `users_df, которые были удалены. \n",
    "* Никаких аномальных значений в столбцах не обнаружено."
   ]
  },
  {
   "cell_type": "markdown",
   "id": "df78404a",
   "metadata": {},
   "source": [
    "#### `rides_df`"
   ]
  },
  {
   "cell_type": "markdown",
   "id": "0efd27b7",
   "metadata": {},
   "source": [
    "Проверим, нет ли дубликатов в датафрейме."
   ]
  },
  {
   "cell_type": "code",
   "execution_count": 19,
   "id": "1197c97c",
   "metadata": {},
   "outputs": [
    {
     "data": {
      "text/plain": [
       "0"
      ]
     },
     "execution_count": 19,
     "metadata": {},
     "output_type": "execute_result"
    }
   ],
   "source": [
    "rides_df.duplicated().sum()"
   ]
  },
  {
   "cell_type": "markdown",
   "id": "1c4e5ddb",
   "metadata": {},
   "source": [
    "Дубликаты отсутсвуют.\n",
    "\n",
    "Узнаем, какое количество уникальных пользователей существует в таблице."
   ]
  },
  {
   "cell_type": "code",
   "execution_count": 20,
   "id": "8dfe067d",
   "metadata": {
    "scrolled": true
   },
   "outputs": [
    {
     "data": {
      "text/plain": [
       "1534"
      ]
     },
     "execution_count": 20,
     "metadata": {},
     "output_type": "execute_result"
    }
   ],
   "source": [
    "len(rides_df['user_id'].unique())"
   ]
  },
  {
   "cell_type": "markdown",
   "id": "ba49cc31",
   "metadata": {},
   "source": [
    "1534 - ровно как и в `users_df`"
   ]
  },
  {
   "cell_type": "markdown",
   "id": "56a474ff",
   "metadata": {},
   "source": [
    "Рассмотрим столбец **distance** с длиной дистанции одной поездки."
   ]
  },
  {
   "cell_type": "code",
   "execution_count": 21,
   "id": "c5d910be",
   "metadata": {
    "cell_style": "center",
    "scrolled": false
   },
   "outputs": [
    {
     "data": {
      "text/plain": [
       "count   18068.00\n",
       "mean     3070.66\n",
       "std      1116.83\n",
       "min         0.86\n",
       "25%      2543.23\n",
       "50%      3133.61\n",
       "75%      3776.22\n",
       "max      7211.01\n",
       "Name: distance, dtype: float64"
      ]
     },
     "execution_count": 21,
     "metadata": {},
     "output_type": "execute_result"
    },
    {
     "data": {
      "image/png": "[encoded data removed]",
      "text/plain": [
       "<Figure size 1500x500 with 2 Axes>"
      ]
     },
     "metadata": {},
     "output_type": "display_data"
    }
   ],
   "source": [
    "describe(rides_df,'distance')"
   ]
  },
  {
   "cell_type": "markdown",
   "id": "816b48c9",
   "metadata": {},
   "source": [
    "Медианное значение длины поездки - **3133.61м**. \n",
    "\n",
    "Расстояние, меньше **1км** и больше **6км**, судя по диаграмме размаха, являются выбросами и составляют около **6%** от общего количество данных. Тем не менее, за них также было заплачено пользователями, поэтому не будем их удалять для корректного подсчета прибыли."
   ]
  },
  {
   "cell_type": "markdown",
   "id": "ead9e3e1",
   "metadata": {},
   "source": [
    "Аналогичную процедуру проделаем со столбцом **duration** с временем поездки."
   ]
  },
  {
   "cell_type": "code",
   "execution_count": 22,
   "id": "92114529",
   "metadata": {
    "scrolled": false
   },
   "outputs": [
    {
     "data": {
      "text/plain": [
       "count   18068.00\n",
       "mean       17.81\n",
       "std         6.09\n",
       "min         0.50\n",
       "25%        13.60\n",
       "50%        17.68\n",
       "75%        21.72\n",
       "max        40.82\n",
       "Name: duration, dtype: float64"
      ]
     },
     "execution_count": 22,
     "metadata": {},
     "output_type": "execute_result"
    },
    {
     "data": {
      "image/png": "[encoded data removed]",
      "text/plain": [
       "<Figure size 1500x500 with 2 Axes>"
      ]
     },
     "metadata": {},
     "output_type": "display_data"
    }
   ],
   "source": [
    "describe(rides_df,'duration')"
   ]
  },
  {
   "cell_type": "code",
   "execution_count": 23,
   "id": "6464340b",
   "metadata": {},
   "outputs": [
    {
     "data": {
      "image/png": "[encoded data removed]",
      "text/plain": [
       "<Figure size 640x480 with 1 Axes>"
      ]
     },
     "metadata": {},
     "output_type": "display_data"
    }
   ],
   "source": [
    "#rides_df.hist('duration', bins = 100, range = (0,100))\n",
    "ax = sns.histplot(rides_df['duration'])\n",
    "ax.set_xlim(0,100);"
   ]
  },
  {
   "cell_type": "markdown",
   "id": "4ec3a71c",
   "metadata": {},
   "source": [
    "Опять виден пик у нуля. Скорее всего такие поездки являются просто тестом приложения простым пользователем и на самом деле он никуда не ездил, но за время аренды все равно пользователю пришлось заплатить, поэтому оставим данные без изменения."
   ]
  },
  {
   "cell_type": "markdown",
   "id": "4fc06cfc",
   "metadata": {},
   "source": [
    "#### Вывод\n",
    "\n",
    "* Дубликатов в датафрейме не обнаружено. Количество id пользователй совпадает с количеством пользователей в `users_df`.\n"
   ]
  },
  {
   "cell_type": "markdown",
   "id": "757b7b88",
   "metadata": {},
   "source": [
    "### Вывод\n",
    "\n",
    "В результате предобработки данных:\n",
    "* Тип данных с датой поездки изменен на **datetime64**\n",
    "* Добавлен столбец с номером месяца, когда была совершена поездка в таблицу `rides_df`\n",
    "* Удалены повторяющиеся записи в `users_df`\n",
    "* Удалены выбросы в столбцах  **duration** и **distance** таблицы `rides_df`.\n",
    "* В `rides_df` в общей сложности удалено **7%** данных от исходного количетсва."
   ]
  },
  {
   "cell_type": "markdown",
   "id": "a5467c98",
   "metadata": {},
   "source": [
    "## Исследовательский анализ данных"
   ]
  },
  {
   "cell_type": "markdown",
   "id": "fc97a457",
   "metadata": {},
   "source": [
    "### Частота встречаемости городов\n",
    "\n",
    "Изучим, как часто в записи поездок встречаются те или иные города **среди пользователей**."
   ]
  },
  {
   "cell_type": "code",
   "execution_count": 24,
   "id": "b94ce32b",
   "metadata": {
    "scrolled": false
   },
   "outputs": [
    {
     "data": {
      "image/png": "[encoded data removed]",
      "text/plain": [
       "<Figure size 700x700 with 1 Axes>"
      ]
     },
     "metadata": {},
     "output_type": "display_data"
    }
   ],
   "source": [
    "users_df.pivot_table(index = 'city', \n",
    "                     values = 'user_id', \n",
    "                     aggfunc = 'count')\\\n",
    ".sort_values(by = 'user_id')\\\n",
    ".plot(y = 'user_id', \n",
    "      kind = 'barh', \n",
    "      figsize=(7,7), \n",
    "      legend = False, \n",
    "      title = 'Количество клиентов в городах', \n",
    "      xlabel = 'Города', \n",
    "      ylabel = 'Количество пользователей',\n",
    "      grid = True);"
   ]
  },
  {
   "cell_type": "markdown",
   "id": "28414247",
   "metadata": {},
   "source": [
    "**Вывод**\n",
    "\n",
    "Каждый из восьми городов представляет примерно по 200 пользователей."
   ]
  },
  {
   "cell_type": "markdown",
   "id": "1bc339e3",
   "metadata": {},
   "source": [
    "### Соотношение пользователей с подпиской и без подписки"
   ]
  },
  {
   "cell_type": "markdown",
   "id": "0c865ee1",
   "metadata": {},
   "source": [
    "Исследуем соотношение количества пользователей с подпиской и без."
   ]
  },
  {
   "cell_type": "code",
   "execution_count": 25,
   "id": "9173967f",
   "metadata": {
    "cell_style": "center"
   },
   "outputs": [
    {
     "data": {
      "image/png": "[encoded data removed]",
      "text/plain": [
       "<Figure size 700x700 with 1 Axes>"
      ]
     },
     "metadata": {},
     "output_type": "display_data"
    }
   ],
   "source": [
    "users_df.pivot_table(index = 'subscription_type', values = 'user_id', aggfunc = 'count')\\\n",
    ".plot(y = 'user_id', \n",
    "      kind = 'pie', \n",
    "      autopct='%1.1f%%', \n",
    "      figsize=(7,7), \n",
    "      title = 'Соотношение пользователей с подпиской и без', \n",
    "      ylabel = '');"
   ]
  },
  {
   "cell_type": "markdown",
   "id": "01b7f57c",
   "metadata": {},
   "source": [
    "**Вывод**\n",
    "\n",
    "45.6% пользователей используют подписку ultra, в то время как 54.4% пользователей пользуются самокатами без подписки. Соотношение групп пользователей примерно одинаковое."
   ]
  },
  {
   "cell_type": "markdown",
   "id": "b7adc4c6",
   "metadata": {},
   "source": [
    "### Возраст пользователей"
   ]
  },
  {
   "cell_type": "code",
   "execution_count": 26,
   "id": "83c28776",
   "metadata": {},
   "outputs": [
    {
     "data": {
      "text/plain": [
       "count   1534.00\n",
       "mean      24.90\n",
       "std        4.57\n",
       "min       12.00\n",
       "25%       22.00\n",
       "50%       25.00\n",
       "75%       28.00\n",
       "max       43.00\n",
       "Name: age, dtype: float64"
      ]
     },
     "execution_count": 26,
     "metadata": {},
     "output_type": "execute_result"
    },
    {
     "data": {
      "image/png": "[encoded data removed]",
      "text/plain": [
       "<Figure size 1500x500 with 2 Axes>"
      ]
     },
     "metadata": {},
     "output_type": "display_data"
    }
   ],
   "source": [
    "describe(users_df,'age',61)"
   ]
  },
  {
   "cell_type": "markdown",
   "id": "4d749427",
   "metadata": {},
   "source": [
    "**Вывод**\n",
    "\n",
    "Рспределение возрастов является нормальным. Средний возраст клиентов - 25 лет. Минимальный - 12 лет, а максимальный - 43."
   ]
  },
  {
   "cell_type": "markdown",
   "id": "b63f1a3b",
   "metadata": {},
   "source": [
    "### Расстояние, которое пользователь преодолел за одну поездку"
   ]
  },
  {
   "cell_type": "code",
   "execution_count": 27,
   "id": "c84f5d3f",
   "metadata": {},
   "outputs": [
    {
     "data": {
      "text/plain": [
       "count   18068.00\n",
       "mean     3070.66\n",
       "std      1116.83\n",
       "min         0.86\n",
       "25%      2543.23\n",
       "50%      3133.61\n",
       "75%      3776.22\n",
       "max      7211.01\n",
       "Name: distance, dtype: float64"
      ]
     },
     "execution_count": 27,
     "metadata": {},
     "output_type": "execute_result"
    },
    {
     "data": {
      "image/png": "[encoded data removed]",
      "text/plain": [
       "<Figure size 1500x500 with 2 Axes>"
      ]
     },
     "metadata": {},
     "output_type": "display_data"
    }
   ],
   "source": [
    "describe(rides_df,'distance')"
   ]
  },
  {
   "cell_type": "code",
   "execution_count": 28,
   "id": "163bad3c",
   "metadata": {},
   "outputs": [
    {
     "data": {
      "text/plain": [
       "0.07593535532433031"
      ]
     },
     "execution_count": 28,
     "metadata": {},
     "output_type": "execute_result"
    }
   ],
   "source": [
    "len(rides_df.query('distance < 1000')) / len(rides_df)"
   ]
  },
  {
   "cell_type": "markdown",
   "id": "49e76b8e",
   "metadata": {},
   "source": [
    " **Вывод**\n",
    " \n",
    " Медианное значение - 3163м. Нельзя не отметить, что по гистограмме также популярны поездки до 1км, но на деле таких поездок менее 3%."
   ]
  },
  {
   "cell_type": "markdown",
   "id": "5c07833c",
   "metadata": {},
   "source": [
    "### Продолжительность поездок"
   ]
  },
  {
   "cell_type": "code",
   "execution_count": 29,
   "id": "fb099f89",
   "metadata": {
    "scrolled": false
   },
   "outputs": [
    {
     "name": "stdout",
     "output_type": "stream",
     "text": [
      "Доля поездок менее 10 мин. : 0.09071286251937126\n",
      "Доля поездок более 30 мин. : 0.030053132610139473\n"
     ]
    },
    {
     "data": {
      "text/plain": [
       "count   18068.00\n",
       "mean       17.81\n",
       "std         6.09\n",
       "min         0.50\n",
       "25%        13.60\n",
       "50%        17.68\n",
       "75%        21.72\n",
       "max        40.82\n",
       "Name: duration, dtype: float64"
      ]
     },
     "execution_count": 29,
     "metadata": {},
     "output_type": "execute_result"
    },
    {
     "data": {
      "image/png": "[encoded data removed]",
      "text/plain": [
       "<Figure size 1500x500 with 2 Axes>"
      ]
     },
     "metadata": {},
     "output_type": "display_data"
    }
   ],
   "source": [
    "print('Доля поездок менее 10 мин. :', len(rides_df.query('duration < 10'))/ len(rides_df))\n",
    "print('Доля поездок более 30 мин. :', len(rides_df.query('duration > 30'))/ len(rides_df))\n",
    "describe(rides_df,'duration')"
   ]
  },
  {
   "cell_type": "markdown",
   "id": "4780f2ad",
   "metadata": {},
   "source": [
    "**Вывод**\n",
    "\n",
    "Средняя длительность поездки - 18 мин. Поездок больше 30 мин. менее 3%, а поездки длительностью менее 10 мин. составляют примерно 6%"
   ]
  },
  {
   "cell_type": "markdown",
   "id": "9c267814",
   "metadata": {},
   "source": [
    "### Вывод\n",
    "Исследовательский анализ данных позволяет сделать следующие выводы:\n",
    "\n",
    "* Количество пользователей из всех восьми городов примерно одинаковое и составляет порядка 200 человек.\n",
    "* Доля пользователей без подписки - 54.4%, с подпиской ultra - 45.6%\n",
    "* Средний возраст клиентов - 25 лет.\n",
    "* Большая часть пользователей проезжает от 2 до 4 км.\n",
    "* Средняя продолжительность поездки 18 мин."
   ]
  },
  {
   "cell_type": "markdown",
   "id": "0d652a3f",
   "metadata": {},
   "source": [
    "##  Объединение данных"
   ]
  },
  {
   "cell_type": "markdown",
   "id": "c51042a7",
   "metadata": {},
   "source": [
    "### Объединение данных о пользователях, поездках и подписках в один датафрейм"
   ]
  },
  {
   "cell_type": "code",
   "execution_count": 30,
   "id": "92b35ed8",
   "metadata": {
    "scrolled": false
   },
   "outputs": [
    {
     "data": {
      "text/html": [
       "<div>\n",
       "<style scoped>\n",
       "    .dataframe tbody tr th:only-of-type {\n",
       "        vertical-align: middle;\n",
       "    }\n",
       "\n",
       "    .dataframe tbody tr th {\n",
       "        vertical-align: top;\n",
       "    }\n",
       "\n",
       "    .dataframe thead th {\n",
       "        text-align: right;\n",
       "    }\n",
       "</style>\n",
       "<table border=\"1\" class=\"dataframe\">\n",
       "  <thead>\n",
       "    <tr style=\"text-align: right;\">\n",
       "      <th></th>\n",
       "      <th>user_id</th>\n",
       "      <th>name</th>\n",
       "      <th>age</th>\n",
       "      <th>city</th>\n",
       "      <th>subscription_type</th>\n",
       "      <th>distance</th>\n",
       "      <th>duration</th>\n",
       "      <th>date</th>\n",
       "      <th>month</th>\n",
       "      <th>minute_price</th>\n",
       "      <th>start_ride_price</th>\n",
       "      <th>subscription_fee</th>\n",
       "    </tr>\n",
       "  </thead>\n",
       "  <tbody>\n",
       "    <tr>\n",
       "      <th>0</th>\n",
       "      <td>1</td>\n",
       "      <td>Кира</td>\n",
       "      <td>22</td>\n",
       "      <td>Тюмень</td>\n",
       "      <td>ultra</td>\n",
       "      <td>4409.92</td>\n",
       "      <td>25.60</td>\n",
       "      <td>2021-01-01</td>\n",
       "      <td>1</td>\n",
       "      <td>6</td>\n",
       "      <td>0</td>\n",
       "      <td>199</td>\n",
       "    </tr>\n",
       "    <tr>\n",
       "      <th>1</th>\n",
       "      <td>1</td>\n",
       "      <td>Кира</td>\n",
       "      <td>22</td>\n",
       "      <td>Тюмень</td>\n",
       "      <td>ultra</td>\n",
       "      <td>2617.59</td>\n",
       "      <td>15.82</td>\n",
       "      <td>2021-01-18</td>\n",
       "      <td>1</td>\n",
       "      <td>6</td>\n",
       "      <td>0</td>\n",
       "      <td>199</td>\n",
       "    </tr>\n",
       "    <tr>\n",
       "      <th>2</th>\n",
       "      <td>1</td>\n",
       "      <td>Кира</td>\n",
       "      <td>22</td>\n",
       "      <td>Тюмень</td>\n",
       "      <td>ultra</td>\n",
       "      <td>754.16</td>\n",
       "      <td>6.23</td>\n",
       "      <td>2021-04-20</td>\n",
       "      <td>4</td>\n",
       "      <td>6</td>\n",
       "      <td>0</td>\n",
       "      <td>199</td>\n",
       "    </tr>\n",
       "    <tr>\n",
       "      <th>3</th>\n",
       "      <td>1</td>\n",
       "      <td>Кира</td>\n",
       "      <td>22</td>\n",
       "      <td>Тюмень</td>\n",
       "      <td>ultra</td>\n",
       "      <td>2694.78</td>\n",
       "      <td>18.51</td>\n",
       "      <td>2021-08-11</td>\n",
       "      <td>8</td>\n",
       "      <td>6</td>\n",
       "      <td>0</td>\n",
       "      <td>199</td>\n",
       "    </tr>\n",
       "    <tr>\n",
       "      <th>4</th>\n",
       "      <td>1</td>\n",
       "      <td>Кира</td>\n",
       "      <td>22</td>\n",
       "      <td>Тюмень</td>\n",
       "      <td>ultra</td>\n",
       "      <td>4028.69</td>\n",
       "      <td>26.27</td>\n",
       "      <td>2021-08-28</td>\n",
       "      <td>8</td>\n",
       "      <td>6</td>\n",
       "      <td>0</td>\n",
       "      <td>199</td>\n",
       "    </tr>\n",
       "    <tr>\n",
       "      <th>...</th>\n",
       "      <td>...</td>\n",
       "      <td>...</td>\n",
       "      <td>...</td>\n",
       "      <td>...</td>\n",
       "      <td>...</td>\n",
       "      <td>...</td>\n",
       "      <td>...</td>\n",
       "      <td>...</td>\n",
       "      <td>...</td>\n",
       "      <td>...</td>\n",
       "      <td>...</td>\n",
       "      <td>...</td>\n",
       "    </tr>\n",
       "    <tr>\n",
       "      <th>18063</th>\n",
       "      <td>1534</td>\n",
       "      <td>Альберт</td>\n",
       "      <td>25</td>\n",
       "      <td>Краснодар</td>\n",
       "      <td>free</td>\n",
       "      <td>3781.10</td>\n",
       "      <td>19.82</td>\n",
       "      <td>2021-11-04</td>\n",
       "      <td>11</td>\n",
       "      <td>8</td>\n",
       "      <td>50</td>\n",
       "      <td>0</td>\n",
       "    </tr>\n",
       "    <tr>\n",
       "      <th>18064</th>\n",
       "      <td>1534</td>\n",
       "      <td>Альберт</td>\n",
       "      <td>25</td>\n",
       "      <td>Краснодар</td>\n",
       "      <td>free</td>\n",
       "      <td>2840.42</td>\n",
       "      <td>21.41</td>\n",
       "      <td>2021-11-16</td>\n",
       "      <td>11</td>\n",
       "      <td>8</td>\n",
       "      <td>50</td>\n",
       "      <td>0</td>\n",
       "    </tr>\n",
       "    <tr>\n",
       "      <th>18065</th>\n",
       "      <td>1534</td>\n",
       "      <td>Альберт</td>\n",
       "      <td>25</td>\n",
       "      <td>Краснодар</td>\n",
       "      <td>free</td>\n",
       "      <td>3826.19</td>\n",
       "      <td>18.44</td>\n",
       "      <td>2021-11-18</td>\n",
       "      <td>11</td>\n",
       "      <td>8</td>\n",
       "      <td>50</td>\n",
       "      <td>0</td>\n",
       "    </tr>\n",
       "    <tr>\n",
       "      <th>18066</th>\n",
       "      <td>1534</td>\n",
       "      <td>Альберт</td>\n",
       "      <td>25</td>\n",
       "      <td>Краснодар</td>\n",
       "      <td>free</td>\n",
       "      <td>2902.31</td>\n",
       "      <td>16.67</td>\n",
       "      <td>2021-11-27</td>\n",
       "      <td>11</td>\n",
       "      <td>8</td>\n",
       "      <td>50</td>\n",
       "      <td>0</td>\n",
       "    </tr>\n",
       "    <tr>\n",
       "      <th>18067</th>\n",
       "      <td>1534</td>\n",
       "      <td>Альберт</td>\n",
       "      <td>25</td>\n",
       "      <td>Краснодар</td>\n",
       "      <td>free</td>\n",
       "      <td>2371.71</td>\n",
       "      <td>15.89</td>\n",
       "      <td>2021-12-29</td>\n",
       "      <td>12</td>\n",
       "      <td>8</td>\n",
       "      <td>50</td>\n",
       "      <td>0</td>\n",
       "    </tr>\n",
       "  </tbody>\n",
       "</table>\n",
       "<p>18068 rows × 12 columns</p>\n",
       "</div>"
      ],
      "text/plain": [
       "       user_id     name  age       city subscription_type  distance  duration  \\\n",
       "0            1     Кира   22     Тюмень             ultra   4409.92     25.60   \n",
       "1            1     Кира   22     Тюмень             ultra   2617.59     15.82   \n",
       "2            1     Кира   22     Тюмень             ultra    754.16      6.23   \n",
       "3            1     Кира   22     Тюмень             ultra   2694.78     18.51   \n",
       "4            1     Кира   22     Тюмень             ultra   4028.69     26.27   \n",
       "...        ...      ...  ...        ...               ...       ...       ...   \n",
       "18063     1534  Альберт   25  Краснодар              free   3781.10     19.82   \n",
       "18064     1534  Альберт   25  Краснодар              free   2840.42     21.41   \n",
       "18065     1534  Альберт   25  Краснодар              free   3826.19     18.44   \n",
       "18066     1534  Альберт   25  Краснодар              free   2902.31     16.67   \n",
       "18067     1534  Альберт   25  Краснодар              free   2371.71     15.89   \n",
       "\n",
       "            date  month  minute_price  start_ride_price  subscription_fee  \n",
       "0     2021-01-01      1             6                 0               199  \n",
       "1     2021-01-18      1             6                 0               199  \n",
       "2     2021-04-20      4             6                 0               199  \n",
       "3     2021-08-11      8             6                 0               199  \n",
       "4     2021-08-28      8             6                 0               199  \n",
       "...          ...    ...           ...               ...               ...  \n",
       "18063 2021-11-04     11             8                50                 0  \n",
       "18064 2021-11-16     11             8                50                 0  \n",
       "18065 2021-11-18     11             8                50                 0  \n",
       "18066 2021-11-27     11             8                50                 0  \n",
       "18067 2021-12-29     12             8                50                 0  \n",
       "\n",
       "[18068 rows x 12 columns]"
      ]
     },
     "execution_count": 30,
     "metadata": {},
     "output_type": "execute_result"
    }
   ],
   "source": [
    "merged_df = users_df.merge(rides_df).merge(subscriptions_df)\n",
    "merged_df"
   ]
  },
  {
   "cell_type": "markdown",
   "id": "f03d0c20",
   "metadata": {},
   "source": [
    "**Вывод**\n",
    "\n",
    "Итого имеем один датафрейм `merged_df`, который содержит информацию из трех исходных."
   ]
  },
  {
   "cell_type": "markdown",
   "id": "90734748",
   "metadata": {},
   "source": [
    "### Датафрейм с пользователями без подписки"
   ]
  },
  {
   "cell_type": "code",
   "execution_count": 31,
   "id": "c308a50d",
   "metadata": {
    "cell_style": "center",
    "scrolled": true
   },
   "outputs": [
    {
     "data": {
      "text/html": [
       "<div>\n",
       "<style scoped>\n",
       "    .dataframe tbody tr th:only-of-type {\n",
       "        vertical-align: middle;\n",
       "    }\n",
       "\n",
       "    .dataframe tbody tr th {\n",
       "        vertical-align: top;\n",
       "    }\n",
       "\n",
       "    .dataframe thead th {\n",
       "        text-align: right;\n",
       "    }\n",
       "</style>\n",
       "<table border=\"1\" class=\"dataframe\">\n",
       "  <thead>\n",
       "    <tr style=\"text-align: right;\">\n",
       "      <th></th>\n",
       "      <th>user_id</th>\n",
       "      <th>name</th>\n",
       "      <th>age</th>\n",
       "      <th>city</th>\n",
       "      <th>subscription_type</th>\n",
       "      <th>distance</th>\n",
       "      <th>duration</th>\n",
       "      <th>date</th>\n",
       "      <th>month</th>\n",
       "      <th>minute_price</th>\n",
       "      <th>start_ride_price</th>\n",
       "      <th>subscription_fee</th>\n",
       "    </tr>\n",
       "  </thead>\n",
       "  <tbody>\n",
       "    <tr>\n",
       "      <th>6500</th>\n",
       "      <td>700</td>\n",
       "      <td>Айдар</td>\n",
       "      <td>22</td>\n",
       "      <td>Омск</td>\n",
       "      <td>free</td>\n",
       "      <td>2515.69</td>\n",
       "      <td>14.94</td>\n",
       "      <td>2021-01-02</td>\n",
       "      <td>1</td>\n",
       "      <td>8</td>\n",
       "      <td>50</td>\n",
       "      <td>0</td>\n",
       "    </tr>\n",
       "    <tr>\n",
       "      <th>6501</th>\n",
       "      <td>700</td>\n",
       "      <td>Айдар</td>\n",
       "      <td>22</td>\n",
       "      <td>Омск</td>\n",
       "      <td>free</td>\n",
       "      <td>846.93</td>\n",
       "      <td>16.23</td>\n",
       "      <td>2021-02-01</td>\n",
       "      <td>2</td>\n",
       "      <td>8</td>\n",
       "      <td>50</td>\n",
       "      <td>0</td>\n",
       "    </tr>\n",
       "    <tr>\n",
       "      <th>6502</th>\n",
       "      <td>700</td>\n",
       "      <td>Айдар</td>\n",
       "      <td>22</td>\n",
       "      <td>Омск</td>\n",
       "      <td>free</td>\n",
       "      <td>4004.43</td>\n",
       "      <td>20.02</td>\n",
       "      <td>2021-02-04</td>\n",
       "      <td>2</td>\n",
       "      <td>8</td>\n",
       "      <td>50</td>\n",
       "      <td>0</td>\n",
       "    </tr>\n",
       "    <tr>\n",
       "      <th>6503</th>\n",
       "      <td>700</td>\n",
       "      <td>Айдар</td>\n",
       "      <td>22</td>\n",
       "      <td>Омск</td>\n",
       "      <td>free</td>\n",
       "      <td>1205.91</td>\n",
       "      <td>9.78</td>\n",
       "      <td>2021-02-10</td>\n",
       "      <td>2</td>\n",
       "      <td>8</td>\n",
       "      <td>50</td>\n",
       "      <td>0</td>\n",
       "    </tr>\n",
       "    <tr>\n",
       "      <th>6504</th>\n",
       "      <td>700</td>\n",
       "      <td>Айдар</td>\n",
       "      <td>22</td>\n",
       "      <td>Омск</td>\n",
       "      <td>free</td>\n",
       "      <td>3047.38</td>\n",
       "      <td>17.43</td>\n",
       "      <td>2021-02-14</td>\n",
       "      <td>2</td>\n",
       "      <td>8</td>\n",
       "      <td>50</td>\n",
       "      <td>0</td>\n",
       "    </tr>\n",
       "  </tbody>\n",
       "</table>\n",
       "</div>"
      ],
      "text/plain": [
       "      user_id   name  age  city subscription_type  distance  duration  \\\n",
       "6500      700  Айдар   22  Омск              free   2515.69     14.94   \n",
       "6501      700  Айдар   22  Омск              free    846.93     16.23   \n",
       "6502      700  Айдар   22  Омск              free   4004.43     20.02   \n",
       "6503      700  Айдар   22  Омск              free   1205.91      9.78   \n",
       "6504      700  Айдар   22  Омск              free   3047.38     17.43   \n",
       "\n",
       "           date  month  minute_price  start_ride_price  subscription_fee  \n",
       "6500 2021-01-02      1             8                50                 0  \n",
       "6501 2021-02-01      2             8                50                 0  \n",
       "6502 2021-02-04      2             8                50                 0  \n",
       "6503 2021-02-10      2             8                50                 0  \n",
       "6504 2021-02-14      2             8                50                 0  "
      ]
     },
     "execution_count": 31,
     "metadata": {},
     "output_type": "execute_result"
    }
   ],
   "source": [
    "df_no_sub = merged_df.query('subscription_type == \"free\"')\n",
    "df_no_sub.head()"
   ]
  },
  {
   "cell_type": "code",
   "execution_count": 32,
   "id": "e4738202",
   "metadata": {
    "scrolled": true
   },
   "outputs": [
    {
     "name": "stdout",
     "output_type": "stream",
     "text": [
      "<class 'pandas.core.frame.DataFrame'>\n",
      "Index: 11568 entries, 6500 to 18067\n",
      "Data columns (total 12 columns):\n",
      " #   Column             Non-Null Count  Dtype         \n",
      "---  ------             --------------  -----         \n",
      " 0   user_id            11568 non-null  int64         \n",
      " 1   name               11568 non-null  object        \n",
      " 2   age                11568 non-null  int64         \n",
      " 3   city               11568 non-null  object        \n",
      " 4   subscription_type  11568 non-null  object        \n",
      " 5   distance           11568 non-null  float64       \n",
      " 6   duration           11568 non-null  float64       \n",
      " 7   date               11568 non-null  datetime64[ns]\n",
      " 8   month              11568 non-null  int32         \n",
      " 9   minute_price       11568 non-null  int64         \n",
      " 10  start_ride_price   11568 non-null  int64         \n",
      " 11  subscription_fee   11568 non-null  int64         \n",
      "dtypes: datetime64[ns](1), float64(2), int32(1), int64(5), object(3)\n",
      "memory usage: 1.1+ MB\n"
     ]
    }
   ],
   "source": [
    "df_no_sub.info()"
   ]
  },
  {
   "cell_type": "markdown",
   "id": "5c8af65f",
   "metadata": {},
   "source": [
    "Датафрейм содержит 10499 записей без пропусков."
   ]
  },
  {
   "cell_type": "markdown",
   "id": "cefa602c",
   "metadata": {},
   "source": [
    "### Датафрейм с пользователями с подпиской"
   ]
  },
  {
   "cell_type": "code",
   "execution_count": 33,
   "id": "0b61b073",
   "metadata": {
    "scrolled": true
   },
   "outputs": [
    {
     "data": {
      "text/html": [
       "<div>\n",
       "<style scoped>\n",
       "    .dataframe tbody tr th:only-of-type {\n",
       "        vertical-align: middle;\n",
       "    }\n",
       "\n",
       "    .dataframe tbody tr th {\n",
       "        vertical-align: top;\n",
       "    }\n",
       "\n",
       "    .dataframe thead th {\n",
       "        text-align: right;\n",
       "    }\n",
       "</style>\n",
       "<table border=\"1\" class=\"dataframe\">\n",
       "  <thead>\n",
       "    <tr style=\"text-align: right;\">\n",
       "      <th></th>\n",
       "      <th>user_id</th>\n",
       "      <th>name</th>\n",
       "      <th>age</th>\n",
       "      <th>city</th>\n",
       "      <th>subscription_type</th>\n",
       "      <th>distance</th>\n",
       "      <th>duration</th>\n",
       "      <th>date</th>\n",
       "      <th>month</th>\n",
       "      <th>minute_price</th>\n",
       "      <th>start_ride_price</th>\n",
       "      <th>subscription_fee</th>\n",
       "    </tr>\n",
       "  </thead>\n",
       "  <tbody>\n",
       "    <tr>\n",
       "      <th>0</th>\n",
       "      <td>1</td>\n",
       "      <td>Кира</td>\n",
       "      <td>22</td>\n",
       "      <td>Тюмень</td>\n",
       "      <td>ultra</td>\n",
       "      <td>4409.92</td>\n",
       "      <td>25.60</td>\n",
       "      <td>2021-01-01</td>\n",
       "      <td>1</td>\n",
       "      <td>6</td>\n",
       "      <td>0</td>\n",
       "      <td>199</td>\n",
       "    </tr>\n",
       "    <tr>\n",
       "      <th>1</th>\n",
       "      <td>1</td>\n",
       "      <td>Кира</td>\n",
       "      <td>22</td>\n",
       "      <td>Тюмень</td>\n",
       "      <td>ultra</td>\n",
       "      <td>2617.59</td>\n",
       "      <td>15.82</td>\n",
       "      <td>2021-01-18</td>\n",
       "      <td>1</td>\n",
       "      <td>6</td>\n",
       "      <td>0</td>\n",
       "      <td>199</td>\n",
       "    </tr>\n",
       "    <tr>\n",
       "      <th>2</th>\n",
       "      <td>1</td>\n",
       "      <td>Кира</td>\n",
       "      <td>22</td>\n",
       "      <td>Тюмень</td>\n",
       "      <td>ultra</td>\n",
       "      <td>754.16</td>\n",
       "      <td>6.23</td>\n",
       "      <td>2021-04-20</td>\n",
       "      <td>4</td>\n",
       "      <td>6</td>\n",
       "      <td>0</td>\n",
       "      <td>199</td>\n",
       "    </tr>\n",
       "    <tr>\n",
       "      <th>3</th>\n",
       "      <td>1</td>\n",
       "      <td>Кира</td>\n",
       "      <td>22</td>\n",
       "      <td>Тюмень</td>\n",
       "      <td>ultra</td>\n",
       "      <td>2694.78</td>\n",
       "      <td>18.51</td>\n",
       "      <td>2021-08-11</td>\n",
       "      <td>8</td>\n",
       "      <td>6</td>\n",
       "      <td>0</td>\n",
       "      <td>199</td>\n",
       "    </tr>\n",
       "    <tr>\n",
       "      <th>4</th>\n",
       "      <td>1</td>\n",
       "      <td>Кира</td>\n",
       "      <td>22</td>\n",
       "      <td>Тюмень</td>\n",
       "      <td>ultra</td>\n",
       "      <td>4028.69</td>\n",
       "      <td>26.27</td>\n",
       "      <td>2021-08-28</td>\n",
       "      <td>8</td>\n",
       "      <td>6</td>\n",
       "      <td>0</td>\n",
       "      <td>199</td>\n",
       "    </tr>\n",
       "  </tbody>\n",
       "</table>\n",
       "</div>"
      ],
      "text/plain": [
       "   user_id  name  age    city subscription_type  distance  duration  \\\n",
       "0        1  Кира   22  Тюмень             ultra   4409.92     25.60   \n",
       "1        1  Кира   22  Тюмень             ultra   2617.59     15.82   \n",
       "2        1  Кира   22  Тюмень             ultra    754.16      6.23   \n",
       "3        1  Кира   22  Тюмень             ultra   2694.78     18.51   \n",
       "4        1  Кира   22  Тюмень             ultra   4028.69     26.27   \n",
       "\n",
       "        date  month  minute_price  start_ride_price  subscription_fee  \n",
       "0 2021-01-01      1             6                 0               199  \n",
       "1 2021-01-18      1             6                 0               199  \n",
       "2 2021-04-20      4             6                 0               199  \n",
       "3 2021-08-11      8             6                 0               199  \n",
       "4 2021-08-28      8             6                 0               199  "
      ]
     },
     "execution_count": 33,
     "metadata": {},
     "output_type": "execute_result"
    }
   ],
   "source": [
    "df_with_sub = merged_df.query('subscription_type == \"ultra\"')\n",
    "df_with_sub.head()"
   ]
  },
  {
   "cell_type": "markdown",
   "id": "0e97e149",
   "metadata": {},
   "source": [
    "Проверим размерность и наличие пропусков."
   ]
  },
  {
   "cell_type": "code",
   "execution_count": 34,
   "id": "ad86f25d",
   "metadata": {},
   "outputs": [
    {
     "name": "stdout",
     "output_type": "stream",
     "text": [
      "<class 'pandas.core.frame.DataFrame'>\n",
      "Index: 6500 entries, 0 to 6499\n",
      "Data columns (total 12 columns):\n",
      " #   Column             Non-Null Count  Dtype         \n",
      "---  ------             --------------  -----         \n",
      " 0   user_id            6500 non-null   int64         \n",
      " 1   name               6500 non-null   object        \n",
      " 2   age                6500 non-null   int64         \n",
      " 3   city               6500 non-null   object        \n",
      " 4   subscription_type  6500 non-null   object        \n",
      " 5   distance           6500 non-null   float64       \n",
      " 6   duration           6500 non-null   float64       \n",
      " 7   date               6500 non-null   datetime64[ns]\n",
      " 8   month              6500 non-null   int32         \n",
      " 9   minute_price       6500 non-null   int64         \n",
      " 10  start_ride_price   6500 non-null   int64         \n",
      " 11  subscription_fee   6500 non-null   int64         \n",
      "dtypes: datetime64[ns](1), float64(2), int32(1), int64(5), object(3)\n",
      "memory usage: 634.8+ KB\n"
     ]
    }
   ],
   "source": [
    "df_with_sub.info()"
   ]
  },
  {
   "cell_type": "markdown",
   "id": "a4ca010d",
   "metadata": {},
   "source": [
    "Датафрейм содержит 6359 записей без пропусков.\n",
    "\n",
    "Проверим, совпадают ли размерности новых датафреймов (`df_with_sub` и `df_no_sub`) с исходным (`merged_df`)."
   ]
  },
  {
   "cell_type": "code",
   "execution_count": 35,
   "id": "3f2c7e87",
   "metadata": {
    "scrolled": true
   },
   "outputs": [
    {
     "data": {
      "text/plain": [
       "True"
      ]
     },
     "execution_count": 35,
     "metadata": {},
     "output_type": "execute_result"
    }
   ],
   "source": [
    "len(df_with_sub)+len(df_no_sub) == len(merged_df)"
   ]
  },
  {
   "cell_type": "markdown",
   "id": "a06ae7f6",
   "metadata": {},
   "source": [
    "Исходный датафрейм полностью поделен на две неравные части - пользователей с подпиской и без."
   ]
  },
  {
   "cell_type": "markdown",
   "id": "0a957455",
   "metadata": {},
   "source": [
    "### Вывод"
   ]
  },
  {
   "cell_type": "code",
   "execution_count": 36,
   "id": "260a7f23",
   "metadata": {
    "scrolled": false
   },
   "outputs": [
    {
     "data": {
      "image/png": "[encoded data removed]",
      "text/plain": [
       "<Figure size 640x480 with 1 Axes>"
      ]
     },
     "metadata": {},
     "output_type": "display_data"
    },
    {
     "data": {
      "image/png": "[encoded data removed]",
      "text/plain": [
       "<Figure size 640x480 with 1 Axes>"
      ]
     },
     "metadata": {},
     "output_type": "display_data"
    }
   ],
   "source": [
    "bins1 = np.linspace(0, 6000, 50)\n",
    "plt.hist([df_no_sub['distance'], df_with_sub['distance']], bins1, label = ['free', 'ultra']);\n",
    "plt.legend(loc='upper right');\n",
    "plt.title('Расстояние в м.')\n",
    "plt.show()\n",
    "\n",
    "bins2 = np.linspace(0, 40, 30)\n",
    "plt.hist([df_no_sub['duration'], df_with_sub['duration']], bins2, label = ['free', 'ultra']);\n",
    "plt.legend(loc='upper right');\n",
    "plt.title('Время в мин.')\n",
    "plt.show()"
   ]
  },
  {
   "cell_type": "markdown",
   "id": "82586255",
   "metadata": {},
   "source": [
    "В результате объединения данных:\n",
    "* Создан датафрейм `merged_df`, который содержит информацию из трех исходных.\n",
    "* Создан отдельный датафрейм `df_no_sub` с пользователями без подписки.\n",
    "* Создан отдельный датафрейм `df_with_sub` с пользователями с подпиской.\n",
    "\n",
    "После разеделения пользователей на группы выявлено:\n",
    "* Распеределение пройденного расстояния пользователями с подпиской напоминает нормальное распределение с медианным значением оклоко 3000м.\n",
    "* Количество пользователей без подписки больше поличетсва пользователей с подпиской внезависимости от времени использования самоката.\n",
    "* В распеределении пользоватлеей с подпиской и без наблюдается пик около 1000м пройденного расстояния.\n",
    "* Пользователей с подпиской больше только среди тех групп, которые за одну поездку проезжают 3-3.5км. На любом другом расстоянии больше пользователей без подписки."
   ]
  },
  {
   "cell_type": "markdown",
   "id": "8a02823e",
   "metadata": {},
   "source": [
    "## Подсчёт выручки"
   ]
  },
  {
   "cell_type": "markdown",
   "id": "17d98768",
   "metadata": {},
   "source": [
    "### Агрегирование данных\n",
    "Создадим датафрейм с агрегированными данными о поездках на основе датафрейма с объединёнными данными из предыдущего пункта: найдем суммарное расстояние, количество поездок и суммарное время для каждого пользователя за каждый месяц."
   ]
  },
  {
   "cell_type": "code",
   "execution_count": 37,
   "id": "83073b5d",
   "metadata": {
    "scrolled": false
   },
   "outputs": [
    {
     "data": {
      "text/html": [
       "<div>\n",
       "<style scoped>\n",
       "    .dataframe tbody tr th:only-of-type {\n",
       "        vertical-align: middle;\n",
       "    }\n",
       "\n",
       "    .dataframe tbody tr th {\n",
       "        vertical-align: top;\n",
       "    }\n",
       "\n",
       "    .dataframe thead th {\n",
       "        text-align: right;\n",
       "    }\n",
       "</style>\n",
       "<table border=\"1\" class=\"dataframe\">\n",
       "  <thead>\n",
       "    <tr style=\"text-align: right;\">\n",
       "      <th></th>\n",
       "      <th>user_id</th>\n",
       "      <th>month</th>\n",
       "      <th>distance</th>\n",
       "      <th>duration</th>\n",
       "      <th>name</th>\n",
       "      <th>age</th>\n",
       "      <th>city</th>\n",
       "      <th>subscription_type</th>\n",
       "      <th>minute_price</th>\n",
       "      <th>start_ride_price</th>\n",
       "      <th>subscription_fee</th>\n",
       "      <th>num_rides</th>\n",
       "    </tr>\n",
       "  </thead>\n",
       "  <tbody>\n",
       "    <tr>\n",
       "      <th>0</th>\n",
       "      <td>1</td>\n",
       "      <td>1</td>\n",
       "      <td>7027.51</td>\n",
       "      <td>42</td>\n",
       "      <td>Кира</td>\n",
       "      <td>22</td>\n",
       "      <td>Тюмень</td>\n",
       "      <td>ultra</td>\n",
       "      <td>6</td>\n",
       "      <td>0</td>\n",
       "      <td>199</td>\n",
       "      <td>2</td>\n",
       "    </tr>\n",
       "    <tr>\n",
       "      <th>1</th>\n",
       "      <td>1</td>\n",
       "      <td>4</td>\n",
       "      <td>754.16</td>\n",
       "      <td>7</td>\n",
       "      <td>Кира</td>\n",
       "      <td>22</td>\n",
       "      <td>Тюмень</td>\n",
       "      <td>ultra</td>\n",
       "      <td>6</td>\n",
       "      <td>0</td>\n",
       "      <td>199</td>\n",
       "      <td>1</td>\n",
       "    </tr>\n",
       "    <tr>\n",
       "      <th>2</th>\n",
       "      <td>1</td>\n",
       "      <td>8</td>\n",
       "      <td>6723.47</td>\n",
       "      <td>46</td>\n",
       "      <td>Кира</td>\n",
       "      <td>22</td>\n",
       "      <td>Тюмень</td>\n",
       "      <td>ultra</td>\n",
       "      <td>6</td>\n",
       "      <td>0</td>\n",
       "      <td>199</td>\n",
       "      <td>2</td>\n",
       "    </tr>\n",
       "    <tr>\n",
       "      <th>3</th>\n",
       "      <td>1</td>\n",
       "      <td>10</td>\n",
       "      <td>5809.91</td>\n",
       "      <td>32</td>\n",
       "      <td>Кира</td>\n",
       "      <td>22</td>\n",
       "      <td>Тюмень</td>\n",
       "      <td>ultra</td>\n",
       "      <td>6</td>\n",
       "      <td>0</td>\n",
       "      <td>199</td>\n",
       "      <td>2</td>\n",
       "    </tr>\n",
       "    <tr>\n",
       "      <th>4</th>\n",
       "      <td>1</td>\n",
       "      <td>11</td>\n",
       "      <td>7003.50</td>\n",
       "      <td>56</td>\n",
       "      <td>Кира</td>\n",
       "      <td>22</td>\n",
       "      <td>Тюмень</td>\n",
       "      <td>ultra</td>\n",
       "      <td>6</td>\n",
       "      <td>0</td>\n",
       "      <td>199</td>\n",
       "      <td>3</td>\n",
       "    </tr>\n",
       "    <tr>\n",
       "      <th>...</th>\n",
       "      <td>...</td>\n",
       "      <td>...</td>\n",
       "      <td>...</td>\n",
       "      <td>...</td>\n",
       "      <td>...</td>\n",
       "      <td>...</td>\n",
       "      <td>...</td>\n",
       "      <td>...</td>\n",
       "      <td>...</td>\n",
       "      <td>...</td>\n",
       "      <td>...</td>\n",
       "      <td>...</td>\n",
       "    </tr>\n",
       "    <tr>\n",
       "      <th>11326</th>\n",
       "      <td>1534</td>\n",
       "      <td>6</td>\n",
       "      <td>3409.47</td>\n",
       "      <td>26</td>\n",
       "      <td>Альберт</td>\n",
       "      <td>25</td>\n",
       "      <td>Краснодар</td>\n",
       "      <td>free</td>\n",
       "      <td>8</td>\n",
       "      <td>50</td>\n",
       "      <td>0</td>\n",
       "      <td>2</td>\n",
       "    </tr>\n",
       "    <tr>\n",
       "      <th>11327</th>\n",
       "      <td>1534</td>\n",
       "      <td>8</td>\n",
       "      <td>7622.45</td>\n",
       "      <td>48</td>\n",
       "      <td>Альберт</td>\n",
       "      <td>25</td>\n",
       "      <td>Краснодар</td>\n",
       "      <td>free</td>\n",
       "      <td>8</td>\n",
       "      <td>50</td>\n",
       "      <td>0</td>\n",
       "      <td>2</td>\n",
       "    </tr>\n",
       "    <tr>\n",
       "      <th>11328</th>\n",
       "      <td>1534</td>\n",
       "      <td>9</td>\n",
       "      <td>4928.17</td>\n",
       "      <td>23</td>\n",
       "      <td>Альберт</td>\n",
       "      <td>25</td>\n",
       "      <td>Краснодар</td>\n",
       "      <td>free</td>\n",
       "      <td>8</td>\n",
       "      <td>50</td>\n",
       "      <td>0</td>\n",
       "      <td>1</td>\n",
       "    </tr>\n",
       "    <tr>\n",
       "      <th>11329</th>\n",
       "      <td>1534</td>\n",
       "      <td>11</td>\n",
       "      <td>13350.02</td>\n",
       "      <td>78</td>\n",
       "      <td>Альберт</td>\n",
       "      <td>25</td>\n",
       "      <td>Краснодар</td>\n",
       "      <td>free</td>\n",
       "      <td>8</td>\n",
       "      <td>50</td>\n",
       "      <td>0</td>\n",
       "      <td>4</td>\n",
       "    </tr>\n",
       "    <tr>\n",
       "      <th>11330</th>\n",
       "      <td>1534</td>\n",
       "      <td>12</td>\n",
       "      <td>2371.71</td>\n",
       "      <td>16</td>\n",
       "      <td>Альберт</td>\n",
       "      <td>25</td>\n",
       "      <td>Краснодар</td>\n",
       "      <td>free</td>\n",
       "      <td>8</td>\n",
       "      <td>50</td>\n",
       "      <td>0</td>\n",
       "      <td>1</td>\n",
       "    </tr>\n",
       "  </tbody>\n",
       "</table>\n",
       "<p>11331 rows × 12 columns</p>\n",
       "</div>"
      ],
      "text/plain": [
       "       user_id  month  distance  duration     name  age       city  \\\n",
       "0            1      1   7027.51        42     Кира   22     Тюмень   \n",
       "1            1      4    754.16         7     Кира   22     Тюмень   \n",
       "2            1      8   6723.47        46     Кира   22     Тюмень   \n",
       "3            1     10   5809.91        32     Кира   22     Тюмень   \n",
       "4            1     11   7003.50        56     Кира   22     Тюмень   \n",
       "...        ...    ...       ...       ...      ...  ...        ...   \n",
       "11326     1534      6   3409.47        26  Альберт   25  Краснодар   \n",
       "11327     1534      8   7622.45        48  Альберт   25  Краснодар   \n",
       "11328     1534      9   4928.17        23  Альберт   25  Краснодар   \n",
       "11329     1534     11  13350.02        78  Альберт   25  Краснодар   \n",
       "11330     1534     12   2371.71        16  Альберт   25  Краснодар   \n",
       "\n",
       "      subscription_type  minute_price  start_ride_price  subscription_fee  \\\n",
       "0                 ultra             6                 0               199   \n",
       "1                 ultra             6                 0               199   \n",
       "2                 ultra             6                 0               199   \n",
       "3                 ultra             6                 0               199   \n",
       "4                 ultra             6                 0               199   \n",
       "...                 ...           ...               ...               ...   \n",
       "11326              free             8                50                 0   \n",
       "11327              free             8                50                 0   \n",
       "11328              free             8                50                 0   \n",
       "11329              free             8                50                 0   \n",
       "11330              free             8                50                 0   \n",
       "\n",
       "       num_rides  \n",
       "0              2  \n",
       "1              1  \n",
       "2              2  \n",
       "3              2  \n",
       "4              3  \n",
       "...          ...  \n",
       "11326          2  \n",
       "11327          2  \n",
       "11328          1  \n",
       "11329          4  \n",
       "11330          1  \n",
       "\n",
       "[11331 rows x 12 columns]"
      ]
     },
     "execution_count": 37,
     "metadata": {},
     "output_type": "execute_result"
    }
   ],
   "source": [
    "# округление вверх продолжительности поездки\n",
    "merged_df['duration'] = np.ceil( merged_df['duration']) \n",
    "merged_df['duration'] = merged_df['duration'].astype(int)\n",
    "\n",
    "# Создание агрегированных данных о поездках\n",
    "\n",
    "# суммарное время и расстояние\n",
    "aggregated_df = merged_df.groupby(['user_id', 'month'])[['distance', 'duration']].sum().reset_index() \n",
    "aggregated_df = aggregated_df.merge(users_df, how = 'left').merge(rides_df, how = 'left').\\\n",
    "                              merge(subscriptions_df).drop(columns =['date'])\n",
    "\n",
    "# количество поездок в месяц\n",
    "rides_per_month = merged_df.groupby(['user_id', 'month'])[['name']].count().reset_index() \n",
    "rides_per_month.columns = ['user_id', 'month', 'rides']\n",
    "aggregated_df['num_rides'] = rides_per_month['rides']\n",
    "\n",
    "aggregated_df"
   ]
  },
  {
   "cell_type": "markdown",
   "id": "872b4fa5",
   "metadata": {},
   "source": [
    "###  Добавление в таблицу помесячной выручки\n",
    "\n",
    "В этот же датафрейм добавим столбец с помесячной выручкой, которую принёс каждый пользователь. \n",
    "\n",
    "**(!) Продолжительность каждой поездки в каждой строке исходного датафрейма для подсчёта стоимости округляется до следующего целого числа.**\n",
    "\n",
    "Помесячная выручка считается по формуле: **стоимость старта поездки $\\times$ количествоп поездок $+$ стоимость одной минуты поездки $\\times$ общая продолжительность всех поездок в минутах $+$ стоимость подписки.**\n"
   ]
  },
  {
   "cell_type": "code",
   "execution_count": 38,
   "id": "efdc2ed9",
   "metadata": {},
   "outputs": [
    {
     "data": {
      "text/html": [
       "<div>\n",
       "<style scoped>\n",
       "    .dataframe tbody tr th:only-of-type {\n",
       "        vertical-align: middle;\n",
       "    }\n",
       "\n",
       "    .dataframe tbody tr th {\n",
       "        vertical-align: top;\n",
       "    }\n",
       "\n",
       "    .dataframe thead th {\n",
       "        text-align: right;\n",
       "    }\n",
       "</style>\n",
       "<table border=\"1\" class=\"dataframe\">\n",
       "  <thead>\n",
       "    <tr style=\"text-align: right;\">\n",
       "      <th></th>\n",
       "      <th>user_id</th>\n",
       "      <th>month</th>\n",
       "      <th>distance</th>\n",
       "      <th>duration</th>\n",
       "      <th>name</th>\n",
       "      <th>age</th>\n",
       "      <th>city</th>\n",
       "      <th>subscription_type</th>\n",
       "      <th>minute_price</th>\n",
       "      <th>start_ride_price</th>\n",
       "      <th>subscription_fee</th>\n",
       "      <th>num_rides</th>\n",
       "      <th>monthly_revenue</th>\n",
       "    </tr>\n",
       "  </thead>\n",
       "  <tbody>\n",
       "    <tr>\n",
       "      <th>0</th>\n",
       "      <td>1</td>\n",
       "      <td>1</td>\n",
       "      <td>7027.51</td>\n",
       "      <td>42</td>\n",
       "      <td>Кира</td>\n",
       "      <td>22</td>\n",
       "      <td>Тюмень</td>\n",
       "      <td>ultra</td>\n",
       "      <td>6</td>\n",
       "      <td>0</td>\n",
       "      <td>199</td>\n",
       "      <td>2</td>\n",
       "      <td>451</td>\n",
       "    </tr>\n",
       "    <tr>\n",
       "      <th>1</th>\n",
       "      <td>1</td>\n",
       "      <td>4</td>\n",
       "      <td>754.16</td>\n",
       "      <td>7</td>\n",
       "      <td>Кира</td>\n",
       "      <td>22</td>\n",
       "      <td>Тюмень</td>\n",
       "      <td>ultra</td>\n",
       "      <td>6</td>\n",
       "      <td>0</td>\n",
       "      <td>199</td>\n",
       "      <td>1</td>\n",
       "      <td>241</td>\n",
       "    </tr>\n",
       "    <tr>\n",
       "      <th>2</th>\n",
       "      <td>1</td>\n",
       "      <td>8</td>\n",
       "      <td>6723.47</td>\n",
       "      <td>46</td>\n",
       "      <td>Кира</td>\n",
       "      <td>22</td>\n",
       "      <td>Тюмень</td>\n",
       "      <td>ultra</td>\n",
       "      <td>6</td>\n",
       "      <td>0</td>\n",
       "      <td>199</td>\n",
       "      <td>2</td>\n",
       "      <td>475</td>\n",
       "    </tr>\n",
       "    <tr>\n",
       "      <th>3</th>\n",
       "      <td>1</td>\n",
       "      <td>10</td>\n",
       "      <td>5809.91</td>\n",
       "      <td>32</td>\n",
       "      <td>Кира</td>\n",
       "      <td>22</td>\n",
       "      <td>Тюмень</td>\n",
       "      <td>ultra</td>\n",
       "      <td>6</td>\n",
       "      <td>0</td>\n",
       "      <td>199</td>\n",
       "      <td>2</td>\n",
       "      <td>391</td>\n",
       "    </tr>\n",
       "    <tr>\n",
       "      <th>4</th>\n",
       "      <td>1</td>\n",
       "      <td>11</td>\n",
       "      <td>7003.50</td>\n",
       "      <td>56</td>\n",
       "      <td>Кира</td>\n",
       "      <td>22</td>\n",
       "      <td>Тюмень</td>\n",
       "      <td>ultra</td>\n",
       "      <td>6</td>\n",
       "      <td>0</td>\n",
       "      <td>199</td>\n",
       "      <td>3</td>\n",
       "      <td>535</td>\n",
       "    </tr>\n",
       "    <tr>\n",
       "      <th>...</th>\n",
       "      <td>...</td>\n",
       "      <td>...</td>\n",
       "      <td>...</td>\n",
       "      <td>...</td>\n",
       "      <td>...</td>\n",
       "      <td>...</td>\n",
       "      <td>...</td>\n",
       "      <td>...</td>\n",
       "      <td>...</td>\n",
       "      <td>...</td>\n",
       "      <td>...</td>\n",
       "      <td>...</td>\n",
       "      <td>...</td>\n",
       "    </tr>\n",
       "    <tr>\n",
       "      <th>11326</th>\n",
       "      <td>1534</td>\n",
       "      <td>6</td>\n",
       "      <td>3409.47</td>\n",
       "      <td>26</td>\n",
       "      <td>Альберт</td>\n",
       "      <td>25</td>\n",
       "      <td>Краснодар</td>\n",
       "      <td>free</td>\n",
       "      <td>8</td>\n",
       "      <td>50</td>\n",
       "      <td>0</td>\n",
       "      <td>2</td>\n",
       "      <td>308</td>\n",
       "    </tr>\n",
       "    <tr>\n",
       "      <th>11327</th>\n",
       "      <td>1534</td>\n",
       "      <td>8</td>\n",
       "      <td>7622.45</td>\n",
       "      <td>48</td>\n",
       "      <td>Альберт</td>\n",
       "      <td>25</td>\n",
       "      <td>Краснодар</td>\n",
       "      <td>free</td>\n",
       "      <td>8</td>\n",
       "      <td>50</td>\n",
       "      <td>0</td>\n",
       "      <td>2</td>\n",
       "      <td>484</td>\n",
       "    </tr>\n",
       "    <tr>\n",
       "      <th>11328</th>\n",
       "      <td>1534</td>\n",
       "      <td>9</td>\n",
       "      <td>4928.17</td>\n",
       "      <td>23</td>\n",
       "      <td>Альберт</td>\n",
       "      <td>25</td>\n",
       "      <td>Краснодар</td>\n",
       "      <td>free</td>\n",
       "      <td>8</td>\n",
       "      <td>50</td>\n",
       "      <td>0</td>\n",
       "      <td>1</td>\n",
       "      <td>234</td>\n",
       "    </tr>\n",
       "    <tr>\n",
       "      <th>11329</th>\n",
       "      <td>1534</td>\n",
       "      <td>11</td>\n",
       "      <td>13350.02</td>\n",
       "      <td>78</td>\n",
       "      <td>Альберт</td>\n",
       "      <td>25</td>\n",
       "      <td>Краснодар</td>\n",
       "      <td>free</td>\n",
       "      <td>8</td>\n",
       "      <td>50</td>\n",
       "      <td>0</td>\n",
       "      <td>4</td>\n",
       "      <td>824</td>\n",
       "    </tr>\n",
       "    <tr>\n",
       "      <th>11330</th>\n",
       "      <td>1534</td>\n",
       "      <td>12</td>\n",
       "      <td>2371.71</td>\n",
       "      <td>16</td>\n",
       "      <td>Альберт</td>\n",
       "      <td>25</td>\n",
       "      <td>Краснодар</td>\n",
       "      <td>free</td>\n",
       "      <td>8</td>\n",
       "      <td>50</td>\n",
       "      <td>0</td>\n",
       "      <td>1</td>\n",
       "      <td>178</td>\n",
       "    </tr>\n",
       "  </tbody>\n",
       "</table>\n",
       "<p>11331 rows × 13 columns</p>\n",
       "</div>"
      ],
      "text/plain": [
       "       user_id  month  distance  duration     name  age       city  \\\n",
       "0            1      1   7027.51        42     Кира   22     Тюмень   \n",
       "1            1      4    754.16         7     Кира   22     Тюмень   \n",
       "2            1      8   6723.47        46     Кира   22     Тюмень   \n",
       "3            1     10   5809.91        32     Кира   22     Тюмень   \n",
       "4            1     11   7003.50        56     Кира   22     Тюмень   \n",
       "...        ...    ...       ...       ...      ...  ...        ...   \n",
       "11326     1534      6   3409.47        26  Альберт   25  Краснодар   \n",
       "11327     1534      8   7622.45        48  Альберт   25  Краснодар   \n",
       "11328     1534      9   4928.17        23  Альберт   25  Краснодар   \n",
       "11329     1534     11  13350.02        78  Альберт   25  Краснодар   \n",
       "11330     1534     12   2371.71        16  Альберт   25  Краснодар   \n",
       "\n",
       "      subscription_type  minute_price  start_ride_price  subscription_fee  \\\n",
       "0                 ultra             6                 0               199   \n",
       "1                 ultra             6                 0               199   \n",
       "2                 ultra             6                 0               199   \n",
       "3                 ultra             6                 0               199   \n",
       "4                 ultra             6                 0               199   \n",
       "...                 ...           ...               ...               ...   \n",
       "11326              free             8                50                 0   \n",
       "11327              free             8                50                 0   \n",
       "11328              free             8                50                 0   \n",
       "11329              free             8                50                 0   \n",
       "11330              free             8                50                 0   \n",
       "\n",
       "       num_rides  monthly_revenue  \n",
       "0              2              451  \n",
       "1              1              241  \n",
       "2              2              475  \n",
       "3              2              391  \n",
       "4              3              535  \n",
       "...          ...              ...  \n",
       "11326          2              308  \n",
       "11327          2              484  \n",
       "11328          1              234  \n",
       "11329          4              824  \n",
       "11330          1              178  \n",
       "\n",
       "[11331 rows x 13 columns]"
      ]
     },
     "execution_count": 38,
     "metadata": {},
     "output_type": "execute_result"
    }
   ],
   "source": [
    "# функция для подсчета месячной выручки\n",
    "def calculate_monthly_revenue(row):\n",
    "    return row['start_ride_price'] * row['num_rides'] +\\\n",
    "           row['minute_price'] * row['duration'] + row['subscription_fee']\n",
    "\n",
    "# подсчет месячной выручки\n",
    "aggregated_df['monthly_revenue'] = aggregated_df.apply(calculate_monthly_revenue, axis = 1)\n",
    "\n",
    "# вывод результатов\n",
    "aggregated_df"
   ]
  },
  {
   "cell_type": "markdown",
   "id": "217ec640",
   "metadata": {},
   "source": [
    "### Вывод\n",
    "\n",
    "В результате подсчета выручки:\n",
    "\n",
    "* Создан агрегированный датафрейм `aggregated_df` с суммарными длительснотью и пробегом за каждый месяц каждого пользователя.\n",
    "* Подсчитано количество поездок каждого пользователя за каждый месяц использования самокатов.\n",
    "* Добавлено в таблицу помесячная выручка для каждого пользователя."
   ]
  },
  {
   "cell_type": "code",
   "execution_count": 39,
   "id": "3fe2abfe",
   "metadata": {},
   "outputs": [
    {
     "data": {
      "text/plain": [
       "subscription_type\n",
       "free    328.64\n",
       "ultra   362.79\n",
       "Name: monthly_revenue, dtype: float64"
      ]
     },
     "execution_count": 39,
     "metadata": {},
     "output_type": "execute_result"
    }
   ],
   "source": [
    "# Код ревьюера\n",
    "aggregated_df.groupby('subscription_type')['monthly_revenue'].mean()"
   ]
  },
  {
   "cell_type": "markdown",
   "id": "517d295c",
   "metadata": {},
   "source": [
    "## Проверка гипотез"
   ]
  },
  {
   "cell_type": "markdown",
   "id": "7fac6fc4",
   "metadata": {},
   "source": [
    "### Пользователи с подпиской тратят больше времени на поездки (?)\n",
    "\n",
    "Важно понять, тратят ли пользователи с подпиской больше времени на поездки? Если да, то пользователи с подпиской могут быть «выгоднее» для компании. Проверим гипотезу.\n",
    "\n",
    "\n",
    "$H_0 : \\mu_1 = \\mu_2$ - Средние значения длительности проката самокатов для пользователей из двух групп равны.\n",
    "\n",
    "\n",
    "$H_1 : \\mu_1 < \\mu_2$ - Среднее значение длительности проката самокатов для т пользователей с подпиской больше, чем среднее значение трат пользователей без подписки"
   ]
  },
  {
   "cell_type": "code",
   "execution_count": 40,
   "id": "a9138e6e",
   "metadata": {},
   "outputs": [
    {
     "name": "stdout",
     "output_type": "stream",
     "text": [
      "p-value: 1.2804098316645618e-34\n",
      "Отвергаем нулевую гипотезу\n"
     ]
    }
   ],
   "source": [
    "# задаем уровень значимости \n",
    "alpha = 0.01\n",
    "\n",
    "# время пользователей без подписки\n",
    "group_no_sub_total_time = df_no_sub['duration']\n",
    "\n",
    "# время пользователей с подпиской\n",
    "group_with_sub_total_time = df_with_sub['duration']\n",
    "\n",
    "# проводим ttest для двух выборок, в качестве альтернативной используем одностороннюю гипотезу «больше»\n",
    "results = st.ttest_ind(group_no_sub_total_time, group_with_sub_total_time, alternative='less')\n",
    "\n",
    "print(f'p-value: {results.pvalue}')\n",
    "\n",
    "if results.pvalue < alpha:\n",
    "    print('Отвергаем нулевую гипотезу')\n",
    "else:\n",
    "    print('Нет оснований отвергнуть нулевую гипотезу')"
   ]
  },
  {
   "cell_type": "markdown",
   "id": "d6090a8f",
   "metadata": {},
   "source": [
    "**Вывод**\n",
    "\n",
    "Отвергаем гипотезу о том, что средние значения длительности проката самокатов для пользователей из двух групп равны. Соответственно, можем утверждать, что пользователи с подпиской тратят больше времени на поездки."
   ]
  },
  {
   "cell_type": "markdown",
   "id": "3fbaa663",
   "metadata": {},
   "source": [
    "###  Пользователи с подпиской за одну поездку проезжают не более 3130 метров (?)\n",
    "Расстояние одной поездки в 3130 метров — оптимальное с точки зрения износа самоката. Проверим, можно ли сказать, что расстояние, которое проезжают пользователи с подпиской за одну поездку, не превышает 3130 метров?\n",
    "\n",
    "$H_0 : \\mu = 3130$ - Средние значения длительности поездки для пользователей равно 3130 метра.\n",
    "\n",
    "$H_1 : \\mu > 3130$ - Среднее значение дальности поездки для пользователей с подпиской больше, чем 3130 метра"
   ]
  },
  {
   "cell_type": "code",
   "execution_count": 41,
   "id": "89ce7bba",
   "metadata": {
    "scrolled": true
   },
   "outputs": [
    {
     "name": "stdout",
     "output_type": "stream",
     "text": [
      "p-значение: 0.9195368847849785\n",
      "Не получилось отвергнуть нулевую гипотезу\n"
     ]
    }
   ],
   "source": [
    "group_with_sub_total_distance = df_with_sub['distance']\n",
    "\n",
    "# оптимальное расстояние в м.\n",
    "interested_value = 3130\n",
    "\n",
    "# задаем уровень значимости \n",
    "alpha = 0.01\n",
    "\n",
    "results = st.ttest_1samp(group_with_sub_total_distance, interested_value, alternative='greater')\n",
    "\n",
    "print('p-значение:', results.pvalue)\n",
    "\n",
    "if (results.pvalue < alpha):\n",
    "    print('Отвергаем нулевую гипотезу')\n",
    "else:\n",
    "    print('Не получилось отвергнуть нулевую гипотезу')"
   ]
  },
  {
   "cell_type": "markdown",
   "id": "4cd655ec",
   "metadata": {},
   "source": [
    "**Вывод**\n",
    "\n",
    "Не получилось опровергнуть гипотезу о том, что пользователи с подписой проезжают обычно не больше, чем 3130 метра за одну поездку. Следовательно, нельзя утверждать, что пользователи с подпиской оптимально используют самокаты в плане преодоленной дистанции."
   ]
  },
  {
   "cell_type": "markdown",
   "id": "508b9d72",
   "metadata": {},
   "source": [
    "###  У кого (с/без ultra) помесячная выручка больше (?)\n",
    "\n",
    "Проверим гипотезу о том, будет ли помесячная выручка от пользователей с подпиской по месяцам выше, чем выручка от пользователей без подписки.\n",
    "\n",
    "$H_0 : \\mu_1 = \\mu_2$ - Средние значения помесячной выручки для пользователей из двух групп равны.\n",
    "\n",
    "\n",
    "$H_1 : \\mu_1 < \\mu_2$ - Среднее значение помесячной выручки для пользователей с подпиской больше, чем среднее значение пользователей без подписки."
   ]
  },
  {
   "cell_type": "code",
   "execution_count": 42,
   "id": "153bb52b",
   "metadata": {},
   "outputs": [
    {
     "name": "stdout",
     "output_type": "stream",
     "text": [
      "p-значение: 1.8850394384715216e-31\n",
      "Отвергаем нулевую гипотезу\n"
     ]
    }
   ],
   "source": [
    "# задаем уровень значимости \n",
    "alpha = 0.01\n",
    "\n",
    "# помесячная выручка пользователей без подписки\n",
    "group_no_sub_monthly_revenue = aggregated_df.query('subscription_type == \"free\"')['monthly_revenue']\n",
    "\n",
    "# помесячная выручка пользователей с подпиской\n",
    "group_with_sub_monthly_revenue = aggregated_df.query('subscription_type == \"ultra\"')['monthly_revenue']\n",
    "\n",
    "results = st.ttest_ind(group_no_sub_monthly_revenue, group_with_sub_monthly_revenue, alternative='less')\n",
    "\n",
    "print('p-значение:', results.pvalue)\n",
    "\n",
    "if (results.pvalue < alpha):\n",
    "    print('Отвергаем нулевую гипотезу')\n",
    "else:\n",
    "    print('Не получилось отвергнуть нулевую гипотезу')"
   ]
  },
  {
   "cell_type": "markdown",
   "id": "a0562be1",
   "metadata": {},
   "source": [
    "**Вывод**\n",
    "\n",
    "Помесячная выручка от пользователей с подпиской по месяцам выше, чем выручка от пользователей без подписки."
   ]
  },
  {
   "cell_type": "markdown",
   "id": "9eaf83af",
   "metadata": {},
   "source": [
    "### Количество обращений в техподдержку снизилось из-за обновления серверов (?)\n",
    "Представим такую ситуацию: техническая команда сервиса обновила сервера, с которыми взаимодействует мобильное приложение. Она надеется, что из-за этого количество обращений в техподдержку значимо снизилось. Некоторый файл содержит для каждого пользователя данные о количестве обращений до обновления и после него. Какой тест понадобился бы для проверки этой гипотезы?"
   ]
  },
  {
   "cell_type": "markdown",
   "id": "d76b8655",
   "metadata": {},
   "source": [
    "**Ответ**\n",
    "\n",
    "**st.ttest_rel(<обращения_до_обновления_серверов>, <обращения_полсе_обновления_серверов>, alternative = 'greater')**"
   ]
  },
  {
   "cell_type": "markdown",
   "id": "3185b2b8",
   "metadata": {},
   "source": [
    "### Вывод\n",
    "\n",
    "В результате проверки гипотез:\n",
    "* Нельзя утверждать, что пользователи с подпиской тратят больше времени на поездки.\n",
    "* Пользователи с подписой проезжают обычно не больше, чем 3130 метра за одну поездку.\n",
    "* Помесячная выручка от пользователей с подпиской по месяцам выше, чем выручка от пользователей без подписки."
   ]
  },
  {
   "cell_type": "markdown",
   "id": "091992a9",
   "metadata": {},
   "source": [
    "# <font color='navy'> ЗАКЛЮЧЕНИЕ </font>"
   ]
  },
  {
   "cell_type": "markdown",
   "id": "36258907",
   "metadata": {},
   "source": [
    "## Вывод"
   ]
  },
  {
   "cell_type": "markdown",
   "id": "33dc58d4",
   "metadata": {},
   "source": [
    "В процессе обработки и **анализа** переданных данных были выполнены преобразования и сделаны выводы, описанные ниже.\n",
    "\n",
    "В данных представлены примерно по 200 пользователей из восьми городов. 45.6% пользователей используют подписку ultra, в то время как 54.4% пользователей пользуются самокатами без подписки. Рспределение возрастов является нормальным. Средний возраст клиентов - 25 лет. Минимальный - 12 лет, а максимальный - 43. Медианное значение поездок - 3163м. Средняя длительность поездки - 18 мин. Поездок больше 30 мин. менее 3%, а поездки длительностью менее 10 мин. составляют примерно 6%. \n",
    "\n",
    "Результаты **проверки гипотез** позволили сделать следующие выводы:\n",
    "\n",
    "1. Пользователи с подпиской тратят в среднем больше времени на поездки.\n",
    "2. Пользователи с подписой оптимально используют ресурсы самоката и проезжают в среднем не больше 3130м.\n",
    "3. Помесячная выручка от пользователей с подпиской по месяцам выше, чем выручка от пользователей без подписки.\n",
    "\n",
    "**Таким образом, прибыльнее для GoFast являются пользователи с подпиской ultra**"
   ]
  }
 ],
 "metadata": {
  "ExecuteTimeLog": [
   {
    "duration": 42,
    "start_time": "2023-08-21T14:36:52.390Z"
   },
   {
    "duration": 383,
    "start_time": "2023-08-21T14:36:54.820Z"
   },
   {
    "duration": 194,
    "start_time": "2023-08-21T14:36:55.308Z"
   },
   {
    "duration": 13,
    "start_time": "2023-08-21T14:37:11.913Z"
   },
   {
    "duration": 7,
    "start_time": "2023-08-21T14:37:21.263Z"
   },
   {
    "duration": 6,
    "start_time": "2023-08-21T14:37:30.964Z"
   },
   {
    "duration": 6,
    "start_time": "2023-08-21T14:37:56.627Z"
   },
   {
    "duration": 46,
    "start_time": "2023-08-21T18:12:19.757Z"
   },
   {
    "duration": 392,
    "start_time": "2023-08-21T18:12:23.161Z"
   },
   {
    "duration": 313,
    "start_time": "2023-08-21T18:12:23.568Z"
   },
   {
    "duration": 18,
    "start_time": "2023-08-21T18:12:23.883Z"
   },
   {
    "duration": 5,
    "start_time": "2023-08-21T18:12:58.428Z"
   },
   {
    "duration": 8,
    "start_time": "2023-08-21T18:13:12.599Z"
   },
   {
    "duration": 14,
    "start_time": "2023-08-21T18:13:27.908Z"
   },
   {
    "duration": 11,
    "start_time": "2023-08-21T18:13:38.216Z"
   },
   {
    "duration": 31,
    "start_time": "2023-08-21T18:33:37.711Z"
   },
   {
    "duration": 11,
    "start_time": "2023-08-21T18:42:30.346Z"
   },
   {
    "duration": 491,
    "start_time": "2023-08-22T11:28:45.041Z"
   },
   {
    "duration": 903,
    "start_time": "2023-08-22T11:29:18.261Z"
   },
   {
    "duration": 288,
    "start_time": "2023-08-22T11:32:21.171Z"
   },
   {
    "duration": 14,
    "start_time": "2023-08-22T11:34:03.732Z"
   },
   {
    "duration": 13,
    "start_time": "2023-08-22T11:34:17.152Z"
   },
   {
    "duration": 7,
    "start_time": "2023-08-22T11:34:48.190Z"
   },
   {
    "duration": 10,
    "start_time": "2023-08-22T11:38:40.850Z"
   },
   {
    "duration": 13,
    "start_time": "2023-08-22T11:38:59.649Z"
   },
   {
    "duration": 7,
    "start_time": "2023-08-22T11:43:19.827Z"
   },
   {
    "duration": 8,
    "start_time": "2023-08-22T12:05:18.894Z"
   },
   {
    "duration": 9,
    "start_time": "2023-08-22T12:05:24.966Z"
   },
   {
    "duration": 104,
    "start_time": "2023-08-22T12:05:46.156Z"
   },
   {
    "duration": 16,
    "start_time": "2023-08-22T12:06:14.268Z"
   },
   {
    "duration": 20,
    "start_time": "2023-08-22T12:06:24.869Z"
   },
   {
    "duration": 19,
    "start_time": "2023-08-22T12:07:14.189Z"
   },
   {
    "duration": 13,
    "start_time": "2023-08-22T12:13:59.649Z"
   },
   {
    "duration": 16,
    "start_time": "2023-08-22T12:15:33.900Z"
   },
   {
    "duration": 11,
    "start_time": "2023-08-22T12:15:41.610Z"
   },
   {
    "duration": 12,
    "start_time": "2023-08-22T12:40:04.180Z"
   },
   {
    "duration": 4,
    "start_time": "2023-08-22T12:40:30.219Z"
   },
   {
    "duration": 4,
    "start_time": "2023-08-22T12:40:34.654Z"
   },
   {
    "duration": 11,
    "start_time": "2023-08-22T12:40:43.135Z"
   },
   {
    "duration": 4,
    "start_time": "2023-08-22T12:40:52.906Z"
   },
   {
    "duration": 4,
    "start_time": "2023-08-22T12:41:34.818Z"
   },
   {
    "duration": 5,
    "start_time": "2023-08-22T12:41:46.374Z"
   },
   {
    "duration": 5,
    "start_time": "2023-08-22T12:46:19.042Z"
   },
   {
    "duration": 5,
    "start_time": "2023-08-22T12:46:35.589Z"
   },
   {
    "duration": 85,
    "start_time": "2023-08-22T12:47:17.720Z"
   },
   {
    "duration": 5,
    "start_time": "2023-08-22T12:47:24.431Z"
   },
   {
    "duration": 4,
    "start_time": "2023-08-22T12:48:10.099Z"
   },
   {
    "duration": 7,
    "start_time": "2023-08-22T12:49:09.209Z"
   },
   {
    "duration": 8,
    "start_time": "2023-08-22T12:49:14.269Z"
   },
   {
    "duration": 6,
    "start_time": "2023-08-22T12:50:37.669Z"
   },
   {
    "duration": 6,
    "start_time": "2023-08-22T12:51:02.916Z"
   },
   {
    "duration": 8,
    "start_time": "2023-08-22T12:51:05.429Z"
   },
   {
    "duration": 6,
    "start_time": "2023-08-22T12:51:21.209Z"
   },
   {
    "duration": 9,
    "start_time": "2023-08-22T12:53:35.826Z"
   },
   {
    "duration": 6,
    "start_time": "2023-08-22T12:53:41.710Z"
   },
   {
    "duration": 8,
    "start_time": "2023-08-22T12:53:44.106Z"
   },
   {
    "duration": 11,
    "start_time": "2023-08-22T12:53:56.314Z"
   },
   {
    "duration": 8,
    "start_time": "2023-08-22T12:55:28.198Z"
   },
   {
    "duration": 1022,
    "start_time": "2023-08-22T12:55:47.789Z"
   },
   {
    "duration": 68,
    "start_time": "2023-08-22T12:55:48.813Z"
   },
   {
    "duration": 12,
    "start_time": "2023-08-22T12:55:48.883Z"
   },
   {
    "duration": 11,
    "start_time": "2023-08-22T12:55:49.550Z"
   },
   {
    "duration": 8,
    "start_time": "2023-08-22T12:55:50.759Z"
   },
   {
    "duration": 11,
    "start_time": "2023-08-22T12:55:51.110Z"
   },
   {
    "duration": 7,
    "start_time": "2023-08-22T12:55:51.820Z"
   },
   {
    "duration": 14,
    "start_time": "2023-08-22T12:55:53.040Z"
   },
   {
    "duration": 12,
    "start_time": "2023-08-22T12:55:53.949Z"
   },
   {
    "duration": 9,
    "start_time": "2023-08-22T12:55:55.509Z"
   },
   {
    "duration": 6,
    "start_time": "2023-08-22T12:56:48.679Z"
   },
   {
    "duration": 14,
    "start_time": "2023-08-22T12:57:48.585Z"
   },
   {
    "duration": 95,
    "start_time": "2023-08-22T12:58:27.259Z"
   },
   {
    "duration": 5,
    "start_time": "2023-08-22T12:58:34.230Z"
   },
   {
    "duration": 4,
    "start_time": "2023-08-22T12:58:46.890Z"
   },
   {
    "duration": 152,
    "start_time": "2023-08-22T12:58:52.949Z"
   },
   {
    "duration": 239,
    "start_time": "2023-08-22T12:59:01.879Z"
   },
   {
    "duration": 178,
    "start_time": "2023-08-22T12:59:10.019Z"
   },
   {
    "duration": 194,
    "start_time": "2023-08-22T12:59:17.940Z"
   },
   {
    "duration": 194,
    "start_time": "2023-08-22T12:59:25.169Z"
   },
   {
    "duration": 192,
    "start_time": "2023-08-22T12:59:27.794Z"
   },
   {
    "duration": 194,
    "start_time": "2023-08-22T12:59:31.682Z"
   },
   {
    "duration": 18424,
    "start_time": "2023-08-22T13:01:23.030Z"
   },
   {
    "duration": 13330,
    "start_time": "2023-08-22T13:01:57.915Z"
   },
   {
    "duration": 188,
    "start_time": "2023-08-22T13:02:23.585Z"
   },
   {
    "duration": 201,
    "start_time": "2023-08-22T13:02:47.119Z"
   },
   {
    "duration": 209,
    "start_time": "2023-08-22T13:02:53.000Z"
   },
   {
    "duration": 196,
    "start_time": "2023-08-22T13:02:58.679Z"
   },
   {
    "duration": 13,
    "start_time": "2023-08-22T13:03:25.769Z"
   },
   {
    "duration": 5,
    "start_time": "2023-08-22T13:06:03.650Z"
   },
   {
    "duration": 5,
    "start_time": "2023-08-22T13:06:20.000Z"
   },
   {
    "duration": 12,
    "start_time": "2023-08-22T13:06:24.212Z"
   },
   {
    "duration": 4,
    "start_time": "2023-08-22T13:06:29.260Z"
   },
   {
    "duration": 6,
    "start_time": "2023-08-22T13:06:33.019Z"
   },
   {
    "duration": 5,
    "start_time": "2023-08-22T13:08:19.618Z"
   },
   {
    "duration": 5,
    "start_time": "2023-08-22T13:09:23.563Z"
   },
   {
    "duration": 4,
    "start_time": "2023-08-22T13:09:57.032Z"
   },
   {
    "duration": 386,
    "start_time": "2023-08-22T13:10:26.839Z"
   },
   {
    "duration": 359,
    "start_time": "2023-08-22T13:10:42.208Z"
   },
   {
    "duration": 30786,
    "start_time": "2023-08-22T13:14:09.909Z"
   },
   {
    "duration": 13,
    "start_time": "2023-08-22T13:17:23.780Z"
   },
   {
    "duration": 1394,
    "start_time": "2023-08-22T13:17:29.379Z"
   },
   {
    "duration": 12,
    "start_time": "2023-08-22T13:17:37.340Z"
   },
   {
    "duration": 140,
    "start_time": "2023-08-22T13:17:49.659Z"
   },
   {
    "duration": 143,
    "start_time": "2023-08-22T13:18:46.829Z"
   },
   {
    "duration": 133,
    "start_time": "2023-08-22T13:20:49.899Z"
   },
   {
    "duration": 5,
    "start_time": "2023-08-22T13:22:22.569Z"
   },
   {
    "duration": 6,
    "start_time": "2023-08-22T13:22:58.679Z"
   },
   {
    "duration": 11,
    "start_time": "2023-08-22T13:26:28.970Z"
   },
   {
    "duration": 5,
    "start_time": "2023-08-22T13:26:55.199Z"
   },
   {
    "duration": 4,
    "start_time": "2023-08-22T13:26:59.859Z"
   },
   {
    "duration": 6,
    "start_time": "2023-08-22T13:27:28.711Z"
   },
   {
    "duration": 9,
    "start_time": "2023-08-22T13:27:31.709Z"
   },
   {
    "duration": 8,
    "start_time": "2023-08-22T13:27:51.599Z"
   },
   {
    "duration": 10,
    "start_time": "2023-08-22T13:28:55.980Z"
   },
   {
    "duration": 6,
    "start_time": "2023-08-22T13:29:02.641Z"
   },
   {
    "duration": 5,
    "start_time": "2023-08-22T13:40:12.360Z"
   },
   {
    "duration": 258,
    "start_time": "2023-08-22T13:40:39.759Z"
   },
   {
    "duration": 262,
    "start_time": "2023-08-22T13:41:48.079Z"
   },
   {
    "duration": 266,
    "start_time": "2023-08-22T13:42:33.482Z"
   },
   {
    "duration": 272,
    "start_time": "2023-08-22T13:42:37.379Z"
   },
   {
    "duration": 17,
    "start_time": "2023-08-22T13:43:11.819Z"
   },
   {
    "duration": 9,
    "start_time": "2023-08-22T13:43:21.609Z"
   },
   {
    "duration": 15,
    "start_time": "2023-08-22T13:43:24.809Z"
   },
   {
    "duration": 900,
    "start_time": "2023-08-22T13:43:50.679Z"
   },
   {
    "duration": 490,
    "start_time": "2023-08-22T13:44:44.580Z"
   },
   {
    "duration": 8,
    "start_time": "2023-08-22T13:45:14.751Z"
   },
   {
    "duration": 118,
    "start_time": "2023-08-22T13:46:01.176Z"
   },
   {
    "duration": 527,
    "start_time": "2023-08-22T13:46:24.940Z"
   },
   {
    "duration": 618,
    "start_time": "2023-08-22T13:46:40.252Z"
   },
   {
    "duration": 7,
    "start_time": "2023-08-22T13:48:31.882Z"
   },
   {
    "duration": 641,
    "start_time": "2023-08-22T13:48:46.219Z"
   },
   {
    "duration": 9,
    "start_time": "2023-08-22T13:48:54.016Z"
   },
   {
    "duration": 1202,
    "start_time": "2023-08-22T13:50:45.419Z"
   },
   {
    "duration": 10,
    "start_time": "2023-08-22T13:50:54.081Z"
   },
   {
    "duration": 11,
    "start_time": "2023-08-22T13:50:57.630Z"
   },
   {
    "duration": 3,
    "start_time": "2023-08-22T13:52:23.850Z"
   },
   {
    "duration": 8,
    "start_time": "2023-08-22T13:53:52.045Z"
   },
   {
    "duration": 4,
    "start_time": "2023-08-22T13:53:52.841Z"
   },
   {
    "duration": 13,
    "start_time": "2023-08-22T13:53:54.989Z"
   },
   {
    "duration": 7,
    "start_time": "2023-08-22T13:53:57.193Z"
   },
   {
    "duration": 4,
    "start_time": "2023-08-22T13:53:57.397Z"
   },
   {
    "duration": 12,
    "start_time": "2023-08-22T13:53:57.590Z"
   },
   {
    "duration": 10,
    "start_time": "2023-08-22T13:53:59.199Z"
   },
   {
    "duration": 4,
    "start_time": "2023-08-22T13:53:59.392Z"
   },
   {
    "duration": 11,
    "start_time": "2023-08-22T13:53:59.549Z"
   },
   {
    "duration": 620,
    "start_time": "2023-08-22T13:54:37.389Z"
   },
   {
    "duration": 639,
    "start_time": "2023-08-22T13:54:59.970Z"
   },
   {
    "duration": 657,
    "start_time": "2023-08-22T13:55:13.864Z"
   },
   {
    "duration": 10,
    "start_time": "2023-08-22T13:58:25.197Z"
   },
   {
    "duration": 12,
    "start_time": "2023-08-22T13:58:25.945Z"
   },
   {
    "duration": 8,
    "start_time": "2023-08-22T14:01:46.670Z"
   },
   {
    "duration": 6,
    "start_time": "2023-08-22T14:01:55.013Z"
   },
   {
    "duration": 1175,
    "start_time": "2023-08-22T14:12:44.178Z"
   },
   {
    "duration": 71,
    "start_time": "2023-08-22T14:12:45.355Z"
   },
   {
    "duration": 13,
    "start_time": "2023-08-22T14:12:45.428Z"
   },
   {
    "duration": 21,
    "start_time": "2023-08-22T14:12:45.443Z"
   },
   {
    "duration": 10,
    "start_time": "2023-08-22T14:12:45.466Z"
   },
   {
    "duration": 29,
    "start_time": "2023-08-22T14:12:45.478Z"
   },
   {
    "duration": 13,
    "start_time": "2023-08-22T14:12:45.509Z"
   },
   {
    "duration": 21,
    "start_time": "2023-08-22T14:12:45.524Z"
   },
   {
    "duration": 10,
    "start_time": "2023-08-22T14:12:45.547Z"
   },
   {
    "duration": 13,
    "start_time": "2023-08-22T14:12:45.559Z"
   },
   {
    "duration": 7,
    "start_time": "2023-08-22T14:12:45.574Z"
   },
   {
    "duration": 16,
    "start_time": "2023-08-22T14:12:45.583Z"
   },
   {
    "duration": 238,
    "start_time": "2023-08-22T14:12:45.601Z"
   },
   {
    "duration": 5,
    "start_time": "2023-08-22T14:12:45.842Z"
   },
   {
    "duration": 159,
    "start_time": "2023-08-22T14:12:45.849Z"
   },
   {
    "duration": 10,
    "start_time": "2023-08-22T14:12:46.010Z"
   },
   {
    "duration": 8,
    "start_time": "2023-08-22T14:12:46.021Z"
   },
   {
    "duration": 675,
    "start_time": "2023-08-22T14:12:46.031Z"
   },
   {
    "duration": 11,
    "start_time": "2023-08-22T14:12:46.709Z"
   },
   {
    "duration": 787,
    "start_time": "2023-08-22T14:12:46.722Z"
   },
   {
    "duration": 9,
    "start_time": "2023-08-22T14:12:47.510Z"
   },
   {
    "duration": 1132,
    "start_time": "2023-08-22T14:12:49.598Z"
   },
   {
    "duration": 68,
    "start_time": "2023-08-22T14:12:50.732Z"
   },
   {
    "duration": 11,
    "start_time": "2023-08-22T14:12:50.802Z"
   },
   {
    "duration": 18,
    "start_time": "2023-08-22T14:12:50.815Z"
   },
   {
    "duration": 23,
    "start_time": "2023-08-22T14:12:50.835Z"
   },
   {
    "duration": 20,
    "start_time": "2023-08-22T14:12:50.860Z"
   },
   {
    "duration": 13,
    "start_time": "2023-08-22T14:12:50.882Z"
   },
   {
    "duration": 16,
    "start_time": "2023-08-22T14:12:50.897Z"
   },
   {
    "duration": 23,
    "start_time": "2023-08-22T14:12:50.914Z"
   },
   {
    "duration": 8,
    "start_time": "2023-08-22T14:12:50.939Z"
   },
   {
    "duration": 22,
    "start_time": "2023-08-22T14:12:50.949Z"
   },
   {
    "duration": 20,
    "start_time": "2023-08-22T14:12:50.973Z"
   },
   {
    "duration": 242,
    "start_time": "2023-08-22T14:12:50.995Z"
   },
   {
    "duration": 5,
    "start_time": "2023-08-22T14:12:51.239Z"
   },
   {
    "duration": 157,
    "start_time": "2023-08-22T14:12:51.246Z"
   },
   {
    "duration": 9,
    "start_time": "2023-08-22T14:12:51.404Z"
   },
   {
    "duration": 20,
    "start_time": "2023-08-22T14:12:51.415Z"
   },
   {
    "duration": 638,
    "start_time": "2023-08-22T14:12:51.437Z"
   },
   {
    "duration": 8,
    "start_time": "2023-08-22T14:12:52.077Z"
   },
   {
    "duration": 793,
    "start_time": "2023-08-22T14:12:52.086Z"
   },
   {
    "duration": 7,
    "start_time": "2023-08-22T14:12:52.881Z"
   },
   {
    "duration": 11,
    "start_time": "2023-08-22T14:13:05.313Z"
   },
   {
    "duration": 5,
    "start_time": "2023-08-22T14:15:00.623Z"
   },
   {
    "duration": 47,
    "start_time": "2023-08-22T19:15:26.141Z"
   },
   {
    "duration": 1645,
    "start_time": "2023-08-22T20:14:27.088Z"
   },
   {
    "duration": 393,
    "start_time": "2023-08-22T20:14:28.735Z"
   },
   {
    "duration": 21,
    "start_time": "2023-08-22T20:14:30.390Z"
   },
   {
    "duration": 24,
    "start_time": "2023-08-22T20:14:30.771Z"
   },
   {
    "duration": 10,
    "start_time": "2023-08-22T20:14:31.696Z"
   },
   {
    "duration": 16,
    "start_time": "2023-08-22T20:14:32.212Z"
   },
   {
    "duration": 12,
    "start_time": "2023-08-22T20:14:33.199Z"
   },
   {
    "duration": 15,
    "start_time": "2023-08-22T20:14:34.506Z"
   },
   {
    "duration": 13,
    "start_time": "2023-08-22T20:14:35.297Z"
   },
   {
    "duration": 10,
    "start_time": "2023-08-22T20:14:36.526Z"
   },
   {
    "duration": 7,
    "start_time": "2023-08-22T20:14:37.046Z"
   },
   {
    "duration": 6,
    "start_time": "2023-08-22T20:14:37.583Z"
   },
   {
    "duration": 225,
    "start_time": "2023-08-22T20:14:51.396Z"
   },
   {
    "duration": 6,
    "start_time": "2023-08-22T20:15:01.306Z"
   },
   {
    "duration": 8,
    "start_time": "2023-08-22T20:15:14.883Z"
   },
   {
    "duration": 10,
    "start_time": "2023-08-22T20:15:32.222Z"
   },
   {
    "duration": 8,
    "start_time": "2023-08-22T20:15:33.286Z"
   },
   {
    "duration": 775,
    "start_time": "2023-08-22T20:15:34.637Z"
   },
   {
    "duration": 14,
    "start_time": "2023-08-22T20:15:36.035Z"
   },
   {
    "duration": 759,
    "start_time": "2023-08-22T20:15:36.942Z"
   },
   {
    "duration": 10,
    "start_time": "2023-08-22T20:15:38.115Z"
   },
   {
    "duration": 138,
    "start_time": "2023-08-22T20:15:46.005Z"
   },
   {
    "duration": 350,
    "start_time": "2023-08-22T20:15:54.230Z"
   },
   {
    "duration": 17,
    "start_time": "2023-08-22T20:19:20.282Z"
   },
   {
    "duration": 1136,
    "start_time": "2023-08-22T20:19:35.973Z"
   },
   {
    "duration": 13,
    "start_time": "2023-08-22T20:20:12.116Z"
   },
   {
    "duration": 1158,
    "start_time": "2023-08-22T20:20:31.282Z"
   },
   {
    "duration": 325,
    "start_time": "2023-08-22T20:20:53.018Z"
   },
   {
    "duration": 302,
    "start_time": "2023-08-22T20:22:19.479Z"
   },
   {
    "duration": 310,
    "start_time": "2023-08-22T20:22:47.754Z"
   },
   {
    "duration": 326,
    "start_time": "2023-08-22T20:22:57.586Z"
   },
   {
    "duration": 276,
    "start_time": "2023-08-22T20:26:40.054Z"
   },
   {
    "duration": 342,
    "start_time": "2023-08-22T20:26:44.532Z"
   },
   {
    "duration": 324,
    "start_time": "2023-08-22T20:27:09.494Z"
   },
   {
    "duration": 162,
    "start_time": "2023-08-22T20:27:17.184Z"
   },
   {
    "duration": 277,
    "start_time": "2023-08-22T20:27:47.494Z"
   },
   {
    "duration": 20,
    "start_time": "2023-08-22T20:30:40.008Z"
   },
   {
    "duration": 275,
    "start_time": "2023-08-22T20:31:20.658Z"
   },
   {
    "duration": 351,
    "start_time": "2023-08-22T20:32:09.157Z"
   },
   {
    "duration": 240,
    "start_time": "2023-08-22T20:32:18.848Z"
   },
   {
    "duration": 7,
    "start_time": "2023-08-22T20:33:46.003Z"
   },
   {
    "duration": 187,
    "start_time": "2023-08-22T20:33:49.709Z"
   },
   {
    "duration": 253,
    "start_time": "2023-08-22T20:34:02.503Z"
   },
   {
    "duration": 1539,
    "start_time": "2023-08-22T20:34:25.676Z"
   },
   {
    "duration": 15059,
    "start_time": "2023-08-22T20:34:43.049Z"
   },
   {
    "duration": 236,
    "start_time": "2023-08-22T20:35:22.590Z"
   },
   {
    "duration": 243,
    "start_time": "2023-08-22T20:35:50.399Z"
   },
   {
    "duration": 15,
    "start_time": "2023-08-22T20:38:06.830Z"
   },
   {
    "duration": 16,
    "start_time": "2023-08-22T20:38:10.743Z"
   },
   {
    "duration": 7,
    "start_time": "2023-08-22T20:38:15.136Z"
   },
   {
    "duration": 11,
    "start_time": "2023-08-22T20:38:30.040Z"
   },
   {
    "duration": 337,
    "start_time": "2023-08-22T20:40:02.957Z"
   },
   {
    "duration": 10,
    "start_time": "2023-08-22T20:40:33.603Z"
   },
   {
    "duration": 7,
    "start_time": "2023-08-22T20:40:46.180Z"
   },
   {
    "duration": 10,
    "start_time": "2023-08-22T20:40:49.584Z"
   },
   {
    "duration": 11,
    "start_time": "2023-08-22T20:41:17.898Z"
   },
   {
    "duration": 6,
    "start_time": "2023-08-22T20:41:23.986Z"
   },
   {
    "duration": 9,
    "start_time": "2023-08-22T20:41:28.860Z"
   },
   {
    "duration": 1096,
    "start_time": "2023-08-22T20:44:11.291Z"
   },
   {
    "duration": 303,
    "start_time": "2023-08-22T20:44:26.597Z"
   },
   {
    "duration": 360,
    "start_time": "2023-08-22T20:44:41.268Z"
   },
   {
    "duration": 78,
    "start_time": "2023-08-22T20:44:57.408Z"
   },
   {
    "duration": 594,
    "start_time": "2023-08-22T20:45:02.162Z"
   },
   {
    "duration": 73,
    "start_time": "2023-08-22T20:45:09.953Z"
   },
   {
    "duration": 273,
    "start_time": "2023-08-22T20:45:13.489Z"
   },
   {
    "duration": 272,
    "start_time": "2023-08-22T20:45:21.368Z"
   },
   {
    "duration": 309,
    "start_time": "2023-08-22T20:45:36.597Z"
   },
   {
    "duration": 339,
    "start_time": "2023-08-22T20:45:52.576Z"
   },
   {
    "duration": 6,
    "start_time": "2023-08-22T20:48:35.219Z"
   },
   {
    "duration": 6,
    "start_time": "2023-08-22T20:48:39.811Z"
   },
   {
    "duration": 310,
    "start_time": "2023-08-22T20:51:29.964Z"
   },
   {
    "duration": 14,
    "start_time": "2023-08-22T20:59:21.387Z"
   },
   {
    "duration": 36,
    "start_time": "2023-08-22T20:59:25.731Z"
   },
   {
    "duration": 25,
    "start_time": "2023-08-22T21:00:04.329Z"
   },
   {
    "duration": 33,
    "start_time": "2023-08-22T21:00:06.153Z"
   },
   {
    "duration": 48,
    "start_time": "2023-08-22T21:00:22.066Z"
   },
   {
    "duration": 58,
    "start_time": "2023-08-22T21:00:33.269Z"
   },
   {
    "duration": 20,
    "start_time": "2023-08-22T21:01:16.825Z"
   },
   {
    "duration": 26,
    "start_time": "2023-08-22T21:01:23.805Z"
   },
   {
    "duration": 34,
    "start_time": "2023-08-22T21:02:14.900Z"
   },
   {
    "duration": 11,
    "start_time": "2023-08-22T21:09:03.450Z"
   },
   {
    "duration": 23,
    "start_time": "2023-08-22T21:09:08.984Z"
   },
   {
    "duration": 48,
    "start_time": "2023-08-22T21:09:38.259Z"
   },
   {
    "duration": 22,
    "start_time": "2023-08-22T21:09:53.137Z"
   },
   {
    "duration": 23,
    "start_time": "2023-08-22T21:09:57.225Z"
   },
   {
    "duration": 25,
    "start_time": "2023-08-22T21:10:01.206Z"
   },
   {
    "duration": 17,
    "start_time": "2023-08-22T21:10:10.695Z"
   },
   {
    "duration": 24,
    "start_time": "2023-08-22T21:10:13.574Z"
   },
   {
    "duration": 14,
    "start_time": "2023-08-22T21:27:20.705Z"
   },
   {
    "duration": 24,
    "start_time": "2023-08-22T21:27:22.687Z"
   },
   {
    "duration": 22,
    "start_time": "2023-08-22T21:27:23.484Z"
   },
   {
    "duration": 35,
    "start_time": "2023-08-22T21:27:48.646Z"
   },
   {
    "duration": 60,
    "start_time": "2023-08-23T09:27:25.780Z"
   },
   {
    "duration": 1338,
    "start_time": "2023-08-23T09:27:38.852Z"
   },
   {
    "duration": 199,
    "start_time": "2023-08-23T09:27:40.194Z"
   },
   {
    "duration": 17,
    "start_time": "2023-08-23T09:27:40.396Z"
   },
   {
    "duration": 42,
    "start_time": "2023-08-23T09:27:40.417Z"
   },
   {
    "duration": 29,
    "start_time": "2023-08-23T09:27:40.461Z"
   },
   {
    "duration": 14,
    "start_time": "2023-08-23T09:27:40.492Z"
   },
   {
    "duration": 17,
    "start_time": "2023-08-23T09:27:40.509Z"
   },
   {
    "duration": 27,
    "start_time": "2023-08-23T09:27:40.528Z"
   },
   {
    "duration": 24,
    "start_time": "2023-08-23T09:27:40.557Z"
   },
   {
    "duration": 11,
    "start_time": "2023-08-23T09:27:40.585Z"
   },
   {
    "duration": 16,
    "start_time": "2023-08-23T09:27:40.598Z"
   },
   {
    "duration": 17,
    "start_time": "2023-08-23T09:27:40.616Z"
   },
   {
    "duration": 240,
    "start_time": "2023-08-23T09:27:40.635Z"
   },
   {
    "duration": 7,
    "start_time": "2023-08-23T09:27:40.880Z"
   },
   {
    "duration": 8,
    "start_time": "2023-08-23T09:27:40.889Z"
   },
   {
    "duration": 23,
    "start_time": "2023-08-23T09:27:40.899Z"
   },
   {
    "duration": 7,
    "start_time": "2023-08-23T09:27:40.924Z"
   },
   {
    "duration": 656,
    "start_time": "2023-08-23T09:27:40.933Z"
   },
   {
    "duration": 10,
    "start_time": "2023-08-23T09:27:41.595Z"
   },
   {
    "duration": 646,
    "start_time": "2023-08-23T09:27:41.606Z"
   },
   {
    "duration": 8,
    "start_time": "2023-08-23T09:27:42.253Z"
   },
   {
    "duration": 385,
    "start_time": "2023-08-23T09:27:42.262Z"
   },
   {
    "duration": 171,
    "start_time": "2023-08-23T09:27:42.649Z"
   },
   {
    "duration": 222,
    "start_time": "2023-08-23T09:27:42.822Z"
   },
   {
    "duration": 268,
    "start_time": "2023-08-23T09:27:43.046Z"
   },
   {
    "duration": 8,
    "start_time": "2023-08-23T09:27:43.315Z"
   },
   {
    "duration": 316,
    "start_time": "2023-08-23T09:27:43.325Z"
   },
   {
    "duration": 25,
    "start_time": "2023-08-23T09:27:43.644Z"
   },
   {
    "duration": 33,
    "start_time": "2023-08-23T09:27:43.670Z"
   },
   {
    "duration": 14,
    "start_time": "2023-08-23T09:27:43.704Z"
   },
   {
    "duration": 54,
    "start_time": "2023-08-23T09:27:45.698Z"
   },
   {
    "duration": 106,
    "start_time": "2023-08-23T09:30:09.535Z"
   },
   {
    "duration": 89,
    "start_time": "2023-08-23T09:30:15.841Z"
   },
   {
    "duration": 33,
    "start_time": "2023-08-23T09:30:31.753Z"
   },
   {
    "duration": 4,
    "start_time": "2023-08-23T09:40:36.173Z"
   },
   {
    "duration": 4,
    "start_time": "2023-08-23T09:40:47.248Z"
   },
   {
    "duration": 5,
    "start_time": "2023-08-23T09:40:51.587Z"
   },
   {
    "duration": 19,
    "start_time": "2023-08-23T09:40:57.005Z"
   },
   {
    "duration": 11,
    "start_time": "2023-08-23T09:41:13.612Z"
   },
   {
    "duration": 21,
    "start_time": "2023-08-23T09:41:17.336Z"
   },
   {
    "duration": 10,
    "start_time": "2023-08-23T09:41:38.663Z"
   },
   {
    "duration": 7,
    "start_time": "2023-08-23T09:41:50.965Z"
   },
   {
    "duration": 15,
    "start_time": "2023-08-23T09:41:54.706Z"
   },
   {
    "duration": 1232,
    "start_time": "2023-08-23T10:00:10.525Z"
   },
   {
    "duration": 70,
    "start_time": "2023-08-23T10:00:11.759Z"
   },
   {
    "duration": 12,
    "start_time": "2023-08-23T10:00:11.831Z"
   },
   {
    "duration": 22,
    "start_time": "2023-08-23T10:00:11.845Z"
   },
   {
    "duration": 20,
    "start_time": "2023-08-23T10:00:11.868Z"
   },
   {
    "duration": 27,
    "start_time": "2023-08-23T10:00:11.890Z"
   },
   {
    "duration": 7,
    "start_time": "2023-08-23T10:00:11.918Z"
   },
   {
    "duration": 16,
    "start_time": "2023-08-23T10:00:11.926Z"
   },
   {
    "duration": 10,
    "start_time": "2023-08-23T10:00:11.943Z"
   },
   {
    "duration": 10,
    "start_time": "2023-08-23T10:00:11.954Z"
   },
   {
    "duration": 4,
    "start_time": "2023-08-23T10:00:11.966Z"
   },
   {
    "duration": 6,
    "start_time": "2023-08-23T10:00:11.971Z"
   },
   {
    "duration": 210,
    "start_time": "2023-08-23T10:00:11.979Z"
   },
   {
    "duration": 5,
    "start_time": "2023-08-23T10:00:12.190Z"
   },
   {
    "duration": 7,
    "start_time": "2023-08-23T10:00:12.196Z"
   },
   {
    "duration": 10,
    "start_time": "2023-08-23T10:00:12.204Z"
   },
   {
    "duration": 6,
    "start_time": "2023-08-23T10:00:12.215Z"
   },
   {
    "duration": 769,
    "start_time": "2023-08-23T10:00:12.222Z"
   },
   {
    "duration": 9,
    "start_time": "2023-08-23T10:00:12.992Z"
   },
   {
    "duration": 667,
    "start_time": "2023-08-23T10:00:13.003Z"
   },
   {
    "duration": 13,
    "start_time": "2023-08-23T10:00:13.671Z"
   },
   {
    "duration": 356,
    "start_time": "2023-08-23T10:00:13.685Z"
   },
   {
    "duration": 155,
    "start_time": "2023-08-23T10:00:14.043Z"
   },
   {
    "duration": 211,
    "start_time": "2023-08-23T10:00:14.200Z"
   },
   {
    "duration": 248,
    "start_time": "2023-08-23T10:00:14.412Z"
   },
   {
    "duration": 7,
    "start_time": "2023-08-23T10:00:14.661Z"
   },
   {
    "duration": 274,
    "start_time": "2023-08-23T10:00:14.670Z"
   },
   {
    "duration": 36,
    "start_time": "2023-08-23T10:00:14.946Z"
   },
   {
    "duration": 18,
    "start_time": "2023-08-23T10:00:14.983Z"
   },
   {
    "duration": 15,
    "start_time": "2023-08-23T10:00:15.002Z"
   },
   {
    "duration": 17,
    "start_time": "2023-08-23T10:00:28.298Z"
   },
   {
    "duration": 4,
    "start_time": "2023-08-23T10:00:35.720Z"
   },
   {
    "duration": 18,
    "start_time": "2023-08-23T10:00:40.019Z"
   },
   {
    "duration": 18,
    "start_time": "2023-08-23T10:00:57.089Z"
   },
   {
    "duration": 18,
    "start_time": "2023-08-23T10:01:00.491Z"
   },
   {
    "duration": 21,
    "start_time": "2023-08-23T10:01:07.899Z"
   },
   {
    "duration": 18,
    "start_time": "2023-08-23T10:01:13.709Z"
   },
   {
    "duration": 27,
    "start_time": "2023-08-23T10:09:55.846Z"
   },
   {
    "duration": 17,
    "start_time": "2023-08-23T10:10:02.837Z"
   },
   {
    "duration": 15,
    "start_time": "2023-08-23T10:10:07.577Z"
   },
   {
    "duration": 95,
    "start_time": "2023-08-23T10:11:03.436Z"
   },
   {
    "duration": 18,
    "start_time": "2023-08-23T10:11:10.769Z"
   },
   {
    "duration": 17,
    "start_time": "2023-08-23T10:11:18.206Z"
   },
   {
    "duration": 2152,
    "start_time": "2023-08-23T10:13:16.019Z"
   },
   {
    "duration": 10,
    "start_time": "2023-08-23T10:13:38.267Z"
   },
   {
    "duration": 24,
    "start_time": "2023-08-23T10:13:43.099Z"
   },
   {
    "duration": 31,
    "start_time": "2023-08-23T10:14:07.746Z"
   },
   {
    "duration": 28,
    "start_time": "2023-08-23T10:14:10.830Z"
   },
   {
    "duration": 13,
    "start_time": "2023-08-23T10:14:45.345Z"
   },
   {
    "duration": 19,
    "start_time": "2023-08-23T10:14:50.738Z"
   },
   {
    "duration": 32,
    "start_time": "2023-08-23T10:15:00.798Z"
   },
   {
    "duration": 27,
    "start_time": "2023-08-23T10:15:07.648Z"
   },
   {
    "duration": 13,
    "start_time": "2023-08-23T10:15:45.237Z"
   },
   {
    "duration": 26,
    "start_time": "2023-08-23T10:20:50.177Z"
   },
   {
    "duration": 34,
    "start_time": "2023-08-23T10:20:54.467Z"
   },
   {
    "duration": 32,
    "start_time": "2023-08-23T10:21:07.236Z"
   },
   {
    "duration": 30,
    "start_time": "2023-08-23T10:21:24.649Z"
   },
   {
    "duration": 47,
    "start_time": "2023-08-23T10:22:56.397Z"
   },
   {
    "duration": 48,
    "start_time": "2023-08-23T10:23:08.885Z"
   },
   {
    "duration": 47,
    "start_time": "2023-08-23T10:23:09.537Z"
   },
   {
    "duration": 44,
    "start_time": "2023-08-23T10:23:10.023Z"
   },
   {
    "duration": 42,
    "start_time": "2023-08-23T10:23:10.367Z"
   },
   {
    "duration": 44,
    "start_time": "2023-08-23T10:23:10.787Z"
   },
   {
    "duration": 47,
    "start_time": "2023-08-23T10:23:11.187Z"
   },
   {
    "duration": 46,
    "start_time": "2023-08-23T10:23:11.547Z"
   },
   {
    "duration": 44,
    "start_time": "2023-08-23T10:23:11.908Z"
   },
   {
    "duration": 45,
    "start_time": "2023-08-23T10:23:12.287Z"
   },
   {
    "duration": 47,
    "start_time": "2023-08-23T10:23:12.667Z"
   },
   {
    "duration": 44,
    "start_time": "2023-08-23T10:23:13.087Z"
   },
   {
    "duration": 45,
    "start_time": "2023-08-23T10:23:13.550Z"
   },
   {
    "duration": 42,
    "start_time": "2023-08-23T10:23:32.526Z"
   },
   {
    "duration": 52,
    "start_time": "2023-08-23T10:24:03.877Z"
   },
   {
    "duration": 48,
    "start_time": "2023-08-23T10:25:12.687Z"
   },
   {
    "duration": 47,
    "start_time": "2023-08-23T10:25:22.398Z"
   },
   {
    "duration": 46,
    "start_time": "2023-08-23T10:26:54.132Z"
   },
   {
    "duration": 22,
    "start_time": "2023-08-23T10:28:23.648Z"
   },
   {
    "duration": 45,
    "start_time": "2023-08-23T10:28:28.659Z"
   },
   {
    "duration": 4,
    "start_time": "2023-08-23T10:28:42.259Z"
   },
   {
    "duration": 20,
    "start_time": "2023-08-23T10:28:47.594Z"
   },
   {
    "duration": 24,
    "start_time": "2023-08-23T10:29:09.068Z"
   },
   {
    "duration": 52,
    "start_time": "2023-08-23T10:32:14.058Z"
   },
   {
    "duration": 5,
    "start_time": "2023-08-23T10:37:07.557Z"
   },
   {
    "duration": 21,
    "start_time": "2023-08-23T10:37:13.832Z"
   },
   {
    "duration": 18,
    "start_time": "2023-08-23T10:37:49.127Z"
   },
   {
    "duration": 57,
    "start_time": "2023-08-23T10:37:53.236Z"
   },
   {
    "duration": 9,
    "start_time": "2023-08-23T10:38:05.567Z"
   },
   {
    "duration": 29,
    "start_time": "2023-08-23T10:38:47.617Z"
   },
   {
    "duration": 15,
    "start_time": "2023-08-23T10:39:00.857Z"
   },
   {
    "duration": 56,
    "start_time": "2023-08-23T10:39:05.045Z"
   },
   {
    "duration": 8,
    "start_time": "2023-08-23T10:40:22.157Z"
   },
   {
    "duration": 9,
    "start_time": "2023-08-23T10:40:31.177Z"
   },
   {
    "duration": 447,
    "start_time": "2023-08-23T10:41:32.608Z"
   },
   {
    "duration": 47,
    "start_time": "2023-08-23T10:41:41.866Z"
   },
   {
    "duration": 54,
    "start_time": "2023-08-23T10:41:47.319Z"
   },
   {
    "duration": 41,
    "start_time": "2023-08-23T10:41:52.378Z"
   },
   {
    "duration": 8,
    "start_time": "2023-08-23T10:41:57.816Z"
   },
   {
    "duration": 9,
    "start_time": "2023-08-23T10:42:04.216Z"
   },
   {
    "duration": 115,
    "start_time": "2023-08-23T10:43:34.805Z"
   },
   {
    "duration": 6,
    "start_time": "2023-08-23T10:43:37.946Z"
   },
   {
    "duration": 10,
    "start_time": "2023-08-23T10:43:41.666Z"
   },
   {
    "duration": 52,
    "start_time": "2023-08-23T10:43:54.985Z"
   },
   {
    "duration": 6,
    "start_time": "2023-08-23T10:44:27.026Z"
   },
   {
    "duration": 11,
    "start_time": "2023-08-23T10:44:31.402Z"
   },
   {
    "duration": 1303,
    "start_time": "2023-08-23T10:44:51.656Z"
   },
   {
    "duration": 15,
    "start_time": "2023-08-23T10:44:56.619Z"
   },
   {
    "duration": 18,
    "start_time": "2023-08-23T10:45:15.339Z"
   },
   {
    "duration": 26,
    "start_time": "2023-08-23T10:45:29.366Z"
   },
   {
    "duration": 2082,
    "start_time": "2023-08-23T10:45:46.437Z"
   },
   {
    "duration": 13,
    "start_time": "2023-08-23T10:46:03.552Z"
   },
   {
    "duration": 14,
    "start_time": "2023-08-23T10:46:09.504Z"
   },
   {
    "duration": 11,
    "start_time": "2023-08-23T10:46:19.166Z"
   },
   {
    "duration": 16,
    "start_time": "2023-08-23T10:46:30.631Z"
   },
   {
    "duration": 21,
    "start_time": "2023-08-23T10:47:16.536Z"
   },
   {
    "duration": 16,
    "start_time": "2023-08-23T10:47:19.324Z"
   },
   {
    "duration": 22,
    "start_time": "2023-08-23T10:47:36.834Z"
   },
   {
    "duration": 15,
    "start_time": "2023-08-23T10:48:28.094Z"
   },
   {
    "duration": 17,
    "start_time": "2023-08-23T10:48:45.616Z"
   },
   {
    "duration": 42,
    "start_time": "2023-08-23T10:49:27.236Z"
   },
   {
    "duration": 69,
    "start_time": "2023-08-23T10:51:00.864Z"
   },
   {
    "duration": 66,
    "start_time": "2023-08-23T10:51:14.236Z"
   },
   {
    "duration": 62,
    "start_time": "2023-08-23T10:51:15.796Z"
   },
   {
    "duration": 52,
    "start_time": "2023-08-23T10:51:49.716Z"
   },
   {
    "duration": 47,
    "start_time": "2023-08-23T10:51:58.431Z"
   },
   {
    "duration": 73,
    "start_time": "2023-08-23T10:52:07.266Z"
   },
   {
    "duration": 137,
    "start_time": "2023-08-23T10:55:50.755Z"
   },
   {
    "duration": 356,
    "start_time": "2023-08-23T10:55:54.726Z"
   },
   {
    "duration": 85,
    "start_time": "2023-08-23T10:59:20.895Z"
   },
   {
    "duration": 58,
    "start_time": "2023-08-23T10:59:34.276Z"
   },
   {
    "duration": 73,
    "start_time": "2023-08-23T11:04:26.515Z"
   },
   {
    "duration": 59,
    "start_time": "2023-08-23T11:06:18.667Z"
   },
   {
    "duration": 9,
    "start_time": "2023-08-23T11:07:37.698Z"
   },
   {
    "duration": 3,
    "start_time": "2023-08-23T11:08:01.797Z"
   },
   {
    "duration": 4,
    "start_time": "2023-08-23T11:08:08.856Z"
   },
   {
    "duration": 1215,
    "start_time": "2023-08-23T11:09:43.012Z"
   },
   {
    "duration": 1138,
    "start_time": "2023-08-23T11:10:32.170Z"
   },
   {
    "duration": 190,
    "start_time": "2023-08-23T11:10:39.644Z"
   },
   {
    "duration": 198,
    "start_time": "2023-08-23T11:10:47.243Z"
   },
   {
    "duration": 209,
    "start_time": "2023-08-23T11:10:56.143Z"
   },
   {
    "duration": 197,
    "start_time": "2023-08-23T11:14:33.876Z"
   },
   {
    "duration": 196,
    "start_time": "2023-08-23T11:16:06.948Z"
   },
   {
    "duration": 18,
    "start_time": "2023-08-23T11:44:45.412Z"
   },
   {
    "duration": 21,
    "start_time": "2023-08-23T11:45:09.170Z"
   },
   {
    "duration": 16,
    "start_time": "2023-08-23T11:45:25.772Z"
   },
   {
    "duration": 18,
    "start_time": "2023-08-23T11:45:34.698Z"
   },
   {
    "duration": 17,
    "start_time": "2023-08-23T11:45:43.403Z"
   },
   {
    "duration": 21,
    "start_time": "2023-08-23T11:45:44.710Z"
   },
   {
    "duration": 31,
    "start_time": "2023-08-23T11:45:49.645Z"
   },
   {
    "duration": 10,
    "start_time": "2023-08-23T11:46:19.790Z"
   },
   {
    "duration": 11,
    "start_time": "2023-08-23T11:46:27.268Z"
   },
   {
    "duration": 14,
    "start_time": "2023-08-23T11:46:41.529Z"
   },
   {
    "duration": 14,
    "start_time": "2023-08-23T11:48:42.680Z"
   },
   {
    "duration": 10,
    "start_time": "2023-08-23T11:48:51.413Z"
   },
   {
    "duration": 15,
    "start_time": "2023-08-23T11:48:54.878Z"
   },
   {
    "duration": 20,
    "start_time": "2023-08-23T11:50:05.356Z"
   },
   {
    "duration": 16,
    "start_time": "2023-08-23T11:50:15.569Z"
   },
   {
    "duration": 10,
    "start_time": "2023-08-23T11:54:45.577Z"
   },
   {
    "duration": 1149,
    "start_time": "2023-08-23T12:29:06.721Z"
   },
   {
    "duration": 72,
    "start_time": "2023-08-23T12:29:07.872Z"
   },
   {
    "duration": 12,
    "start_time": "2023-08-23T12:29:07.946Z"
   },
   {
    "duration": 65,
    "start_time": "2023-08-23T12:29:07.959Z"
   },
   {
    "duration": 70,
    "start_time": "2023-08-23T12:29:08.026Z"
   },
   {
    "duration": 57,
    "start_time": "2023-08-23T12:29:08.098Z"
   },
   {
    "duration": 29,
    "start_time": "2023-08-23T12:29:08.157Z"
   },
   {
    "duration": 55,
    "start_time": "2023-08-23T12:29:08.188Z"
   },
   {
    "duration": 19,
    "start_time": "2023-08-23T12:29:08.245Z"
   },
   {
    "duration": 82,
    "start_time": "2023-08-23T12:29:08.266Z"
   },
   {
    "duration": 105,
    "start_time": "2023-08-23T12:29:08.350Z"
   },
   {
    "duration": 17,
    "start_time": "2023-08-23T12:29:08.457Z"
   },
   {
    "duration": 231,
    "start_time": "2023-08-23T12:29:08.476Z"
   },
   {
    "duration": 5,
    "start_time": "2023-08-23T12:29:08.710Z"
   },
   {
    "duration": 28,
    "start_time": "2023-08-23T12:29:08.717Z"
   },
   {
    "duration": 74,
    "start_time": "2023-08-23T12:29:08.747Z"
   },
   {
    "duration": 23,
    "start_time": "2023-08-23T12:29:08.823Z"
   },
   {
    "duration": 724,
    "start_time": "2023-08-23T12:29:08.848Z"
   },
   {
    "duration": 13,
    "start_time": "2023-08-23T12:29:09.574Z"
   },
   {
    "duration": 686,
    "start_time": "2023-08-23T12:29:09.589Z"
   },
   {
    "duration": 7,
    "start_time": "2023-08-23T12:29:10.281Z"
   },
   {
    "duration": 397,
    "start_time": "2023-08-23T12:29:10.290Z"
   },
   {
    "duration": 165,
    "start_time": "2023-08-23T12:29:10.689Z"
   },
   {
    "duration": 209,
    "start_time": "2023-08-23T12:29:10.856Z"
   },
   {
    "duration": 271,
    "start_time": "2023-08-23T12:29:11.066Z"
   },
   {
    "duration": 6,
    "start_time": "2023-08-23T12:29:11.340Z"
   },
   {
    "duration": 281,
    "start_time": "2023-08-23T12:29:11.348Z"
   },
   {
    "duration": 33,
    "start_time": "2023-08-23T12:29:11.632Z"
   },
   {
    "duration": 28,
    "start_time": "2023-08-23T12:29:11.666Z"
   },
   {
    "duration": 16,
    "start_time": "2023-08-23T12:29:11.695Z"
   },
   {
    "duration": 110,
    "start_time": "2023-08-23T12:29:11.714Z"
   },
   {
    "duration": 221,
    "start_time": "2023-08-23T12:29:11.826Z"
   },
   {
    "duration": 11,
    "start_time": "2023-08-23T12:29:12.049Z"
   },
   {
    "duration": 147,
    "start_time": "2023-08-23T12:29:13.420Z"
   },
   {
    "duration": 278,
    "start_time": "2023-08-23T12:29:23.260Z"
   },
   {
    "duration": 673,
    "start_time": "2023-08-23T12:29:36.311Z"
   },
   {
    "duration": 522,
    "start_time": "2023-08-23T12:30:01.722Z"
   },
   {
    "duration": 519,
    "start_time": "2023-08-23T12:30:10.231Z"
   },
   {
    "duration": 670,
    "start_time": "2023-08-23T12:30:16.850Z"
   },
   {
    "duration": 12,
    "start_time": "2023-08-23T12:31:10.981Z"
   },
   {
    "duration": 142,
    "start_time": "2023-08-23T12:34:10.128Z"
   },
   {
    "duration": 3,
    "start_time": "2023-08-23T12:44:54.298Z"
   },
   {
    "duration": 1207,
    "start_time": "2023-08-23T12:45:36.447Z"
   },
   {
    "duration": 67,
    "start_time": "2023-08-23T12:45:37.657Z"
   },
   {
    "duration": 12,
    "start_time": "2023-08-23T12:45:37.726Z"
   },
   {
    "duration": 14,
    "start_time": "2023-08-23T12:45:37.739Z"
   },
   {
    "duration": 10,
    "start_time": "2023-08-23T12:45:37.755Z"
   },
   {
    "duration": 18,
    "start_time": "2023-08-23T12:45:37.766Z"
   },
   {
    "duration": 6,
    "start_time": "2023-08-23T12:45:37.786Z"
   },
   {
    "duration": 16,
    "start_time": "2023-08-23T12:45:37.794Z"
   },
   {
    "duration": 9,
    "start_time": "2023-08-23T12:45:37.812Z"
   },
   {
    "duration": 8,
    "start_time": "2023-08-23T12:45:37.822Z"
   },
   {
    "duration": 8,
    "start_time": "2023-08-23T12:45:37.831Z"
   },
   {
    "duration": 6,
    "start_time": "2023-08-23T12:45:37.881Z"
   },
   {
    "duration": 243,
    "start_time": "2023-08-23T12:45:37.889Z"
   },
   {
    "duration": 5,
    "start_time": "2023-08-23T12:45:38.135Z"
   },
   {
    "duration": 8,
    "start_time": "2023-08-23T12:45:38.142Z"
   },
   {
    "duration": 30,
    "start_time": "2023-08-23T12:45:38.152Z"
   },
   {
    "duration": 6,
    "start_time": "2023-08-23T12:45:38.185Z"
   },
   {
    "duration": 686,
    "start_time": "2023-08-23T12:45:38.193Z"
   },
   {
    "duration": 10,
    "start_time": "2023-08-23T12:45:38.881Z"
   },
   {
    "duration": 658,
    "start_time": "2023-08-23T12:45:38.892Z"
   },
   {
    "duration": 8,
    "start_time": "2023-08-23T12:45:39.552Z"
   },
   {
    "duration": 240,
    "start_time": "2023-08-23T12:45:39.562Z"
   },
   {
    "duration": 152,
    "start_time": "2023-08-23T12:45:39.804Z"
   },
   {
    "duration": 210,
    "start_time": "2023-08-23T12:45:39.958Z"
   },
   {
    "duration": 255,
    "start_time": "2023-08-23T12:45:40.169Z"
   },
   {
    "duration": 11,
    "start_time": "2023-08-23T12:45:40.427Z"
   },
   {
    "duration": 326,
    "start_time": "2023-08-23T12:45:40.440Z"
   },
   {
    "duration": 38,
    "start_time": "2023-08-23T12:45:40.768Z"
   },
   {
    "duration": 18,
    "start_time": "2023-08-23T12:45:40.807Z"
   },
   {
    "duration": 14,
    "start_time": "2023-08-23T12:45:40.826Z"
   },
   {
    "duration": 85,
    "start_time": "2023-08-23T12:45:40.841Z"
   },
   {
    "duration": 204,
    "start_time": "2023-08-23T12:45:40.928Z"
   },
   {
    "duration": 9,
    "start_time": "2023-08-23T12:45:41.134Z"
   },
   {
    "duration": 19,
    "start_time": "2023-08-23T12:46:08.750Z"
   },
   {
    "duration": 16,
    "start_time": "2023-08-23T12:52:09.725Z"
   },
   {
    "duration": 13,
    "start_time": "2023-08-23T12:52:36.272Z"
   },
   {
    "duration": 12,
    "start_time": "2023-08-23T12:52:40.833Z"
   },
   {
    "duration": 11,
    "start_time": "2023-08-23T13:01:51.304Z"
   },
   {
    "duration": 11,
    "start_time": "2023-08-23T13:02:20.638Z"
   },
   {
    "duration": 16,
    "start_time": "2023-08-23T13:02:32.336Z"
   },
   {
    "duration": 11,
    "start_time": "2023-08-23T13:02:34.667Z"
   },
   {
    "duration": 19,
    "start_time": "2023-08-23T13:05:38.422Z"
   },
   {
    "duration": 171,
    "start_time": "2023-08-23T13:07:39.982Z"
   },
   {
    "duration": 169,
    "start_time": "2023-08-23T13:08:02.323Z"
   },
   {
    "duration": 382,
    "start_time": "2023-08-23T13:08:07.619Z"
   },
   {
    "duration": 13,
    "start_time": "2023-08-23T13:08:44.673Z"
   },
   {
    "duration": 7,
    "start_time": "2023-08-23T13:08:55.128Z"
   },
   {
    "duration": 13,
    "start_time": "2023-08-23T13:09:01.208Z"
   },
   {
    "duration": 8,
    "start_time": "2023-08-23T13:10:53.259Z"
   },
   {
    "duration": 12,
    "start_time": "2023-08-23T13:11:04.539Z"
   },
   {
    "duration": 11,
    "start_time": "2023-08-23T13:11:23.114Z"
   },
   {
    "duration": 12,
    "start_time": "2023-08-23T13:11:29.419Z"
   },
   {
    "duration": 10,
    "start_time": "2023-08-23T13:14:13.210Z"
   },
   {
    "duration": 14,
    "start_time": "2023-08-23T13:16:21.922Z"
   },
   {
    "duration": 8,
    "start_time": "2023-08-23T13:16:30.263Z"
   },
   {
    "duration": 150,
    "start_time": "2023-08-23T13:16:57.919Z"
   },
   {
    "duration": 1546,
    "start_time": "2023-08-23T13:17:04.978Z"
   },
   {
    "duration": 9,
    "start_time": "2023-08-23T13:17:23.416Z"
   },
   {
    "duration": 9,
    "start_time": "2023-08-23T13:17:25.479Z"
   },
   {
    "duration": 10,
    "start_time": "2023-08-23T14:09:55.245Z"
   },
   {
    "duration": 1205,
    "start_time": "2023-08-23T14:10:07.837Z"
   },
   {
    "duration": 69,
    "start_time": "2023-08-23T14:10:09.045Z"
   },
   {
    "duration": 13,
    "start_time": "2023-08-23T14:10:09.116Z"
   },
   {
    "duration": 17,
    "start_time": "2023-08-23T14:10:09.131Z"
   },
   {
    "duration": 16,
    "start_time": "2023-08-23T14:10:09.151Z"
   },
   {
    "duration": 29,
    "start_time": "2023-08-23T14:10:09.169Z"
   },
   {
    "duration": 7,
    "start_time": "2023-08-23T14:10:09.200Z"
   },
   {
    "duration": 19,
    "start_time": "2023-08-23T14:10:09.209Z"
   },
   {
    "duration": 11,
    "start_time": "2023-08-23T14:10:09.230Z"
   },
   {
    "duration": 38,
    "start_time": "2023-08-23T14:10:09.243Z"
   },
   {
    "duration": 5,
    "start_time": "2023-08-23T14:10:09.283Z"
   },
   {
    "duration": 5,
    "start_time": "2023-08-23T14:10:09.290Z"
   },
   {
    "duration": 261,
    "start_time": "2023-08-23T14:10:09.297Z"
   },
   {
    "duration": 6,
    "start_time": "2023-08-23T14:10:09.561Z"
   },
   {
    "duration": 16,
    "start_time": "2023-08-23T14:10:09.568Z"
   },
   {
    "duration": 10,
    "start_time": "2023-08-23T14:10:09.586Z"
   },
   {
    "duration": 5,
    "start_time": "2023-08-23T14:10:09.598Z"
   },
   {
    "duration": 693,
    "start_time": "2023-08-23T14:10:09.605Z"
   },
   {
    "duration": 9,
    "start_time": "2023-08-23T14:10:10.300Z"
   },
   {
    "duration": 640,
    "start_time": "2023-08-23T14:10:10.311Z"
   },
   {
    "duration": 8,
    "start_time": "2023-08-23T14:10:10.953Z"
   },
   {
    "duration": 273,
    "start_time": "2023-08-23T14:10:10.963Z"
   },
   {
    "duration": 152,
    "start_time": "2023-08-23T14:10:11.238Z"
   },
   {
    "duration": 209,
    "start_time": "2023-08-23T14:10:11.392Z"
   },
   {
    "duration": 254,
    "start_time": "2023-08-23T14:10:11.602Z"
   },
   {
    "duration": 7,
    "start_time": "2023-08-23T14:10:11.858Z"
   },
   {
    "duration": 304,
    "start_time": "2023-08-23T14:10:11.866Z"
   },
   {
    "duration": 49,
    "start_time": "2023-08-23T14:10:12.172Z"
   },
   {
    "duration": 18,
    "start_time": "2023-08-23T14:10:12.223Z"
   },
   {
    "duration": 38,
    "start_time": "2023-08-23T14:10:12.243Z"
   },
   {
    "duration": 58,
    "start_time": "2023-08-23T14:10:12.283Z"
   },
   {
    "duration": 215,
    "start_time": "2023-08-23T14:10:12.343Z"
   },
   {
    "duration": 21,
    "start_time": "2023-08-23T14:10:12.560Z"
   },
   {
    "duration": 8,
    "start_time": "2023-08-23T14:10:12.583Z"
   },
   {
    "duration": 97,
    "start_time": "2023-08-23T14:15:05.578Z"
   },
   {
    "duration": 9,
    "start_time": "2023-08-23T14:15:16.750Z"
   },
   {
    "duration": 12,
    "start_time": "2023-08-23T14:15:21.630Z"
   },
   {
    "duration": 9,
    "start_time": "2023-08-23T14:15:40.658Z"
   },
   {
    "duration": 12,
    "start_time": "2023-08-23T14:16:48.377Z"
   },
   {
    "duration": 12,
    "start_time": "2023-08-23T14:19:50.712Z"
   },
   {
    "duration": 13,
    "start_time": "2023-08-23T14:19:54.446Z"
   },
   {
    "duration": 9,
    "start_time": "2023-08-23T14:29:48.829Z"
   },
   {
    "duration": 6,
    "start_time": "2023-08-23T14:29:58.297Z"
   },
   {
    "duration": 5,
    "start_time": "2023-08-23T14:30:14.324Z"
   },
   {
    "duration": 149,
    "start_time": "2023-08-23T14:30:48.487Z"
   },
   {
    "duration": 268,
    "start_time": "2023-08-23T14:30:54.988Z"
   },
   {
    "duration": 1596,
    "start_time": "2023-08-23T14:30:58.024Z"
   },
   {
    "duration": 250,
    "start_time": "2023-08-23T14:31:02.081Z"
   },
   {
    "duration": 475,
    "start_time": "2023-08-23T14:31:12.332Z"
   },
   {
    "duration": 517,
    "start_time": "2023-08-23T14:31:39.104Z"
   },
   {
    "duration": 1175,
    "start_time": "2023-08-23T15:19:13.375Z"
   },
   {
    "duration": 70,
    "start_time": "2023-08-23T15:19:14.552Z"
   },
   {
    "duration": 12,
    "start_time": "2023-08-23T15:19:14.624Z"
   },
   {
    "duration": 12,
    "start_time": "2023-08-23T15:19:14.637Z"
   },
   {
    "duration": 8,
    "start_time": "2023-08-23T15:19:14.651Z"
   },
   {
    "duration": 13,
    "start_time": "2023-08-23T15:19:14.661Z"
   },
   {
    "duration": 7,
    "start_time": "2023-08-23T15:19:14.676Z"
   },
   {
    "duration": 15,
    "start_time": "2023-08-23T15:19:14.685Z"
   },
   {
    "duration": 12,
    "start_time": "2023-08-23T15:19:14.702Z"
   },
   {
    "duration": 8,
    "start_time": "2023-08-23T15:19:14.715Z"
   },
   {
    "duration": 5,
    "start_time": "2023-08-23T15:19:14.725Z"
   },
   {
    "duration": 9,
    "start_time": "2023-08-23T15:19:14.731Z"
   },
   {
    "duration": 248,
    "start_time": "2023-08-23T15:19:14.742Z"
   },
   {
    "duration": 4,
    "start_time": "2023-08-23T15:19:14.993Z"
   },
   {
    "duration": 36,
    "start_time": "2023-08-23T15:19:14.999Z"
   },
   {
    "duration": 43,
    "start_time": "2023-08-23T15:19:15.036Z"
   },
   {
    "duration": 4,
    "start_time": "2023-08-23T15:19:15.081Z"
   },
   {
    "duration": 640,
    "start_time": "2023-08-23T15:19:15.086Z"
   },
   {
    "duration": 8,
    "start_time": "2023-08-23T15:19:15.728Z"
   },
   {
    "duration": 686,
    "start_time": "2023-08-23T15:19:15.738Z"
   },
   {
    "duration": 8,
    "start_time": "2023-08-23T15:19:16.426Z"
   },
   {
    "duration": 246,
    "start_time": "2023-08-23T15:19:16.435Z"
   },
   {
    "duration": 146,
    "start_time": "2023-08-23T15:19:16.682Z"
   },
   {
    "duration": 273,
    "start_time": "2023-08-23T15:19:16.829Z"
   },
   {
    "duration": 262,
    "start_time": "2023-08-23T15:19:17.104Z"
   },
   {
    "duration": 8,
    "start_time": "2023-08-23T15:19:17.367Z"
   },
   {
    "duration": 271,
    "start_time": "2023-08-23T15:19:17.381Z"
   },
   {
    "duration": 36,
    "start_time": "2023-08-23T15:19:17.654Z"
   },
   {
    "duration": 19,
    "start_time": "2023-08-23T15:19:17.691Z"
   },
   {
    "duration": 488,
    "start_time": "2023-08-23T15:19:17.711Z"
   },
   {
    "duration": 15,
    "start_time": "2023-08-23T15:19:18.201Z"
   },
   {
    "duration": 586,
    "start_time": "2023-08-23T15:19:18.218Z"
   },
   {
    "duration": 77,
    "start_time": "2023-08-23T15:19:18.807Z"
   },
   {
    "duration": 240,
    "start_time": "2023-08-23T15:19:18.887Z"
   },
   {
    "duration": 5,
    "start_time": "2023-08-23T15:19:19.129Z"
   },
   {
    "duration": 22,
    "start_time": "2023-08-23T15:19:19.136Z"
   },
   {
    "duration": 39,
    "start_time": "2023-08-23T15:19:19.159Z"
   },
   {
    "duration": 1367,
    "start_time": "2023-08-23T17:26:10.527Z"
   },
   {
    "duration": 248,
    "start_time": "2023-08-23T17:26:11.896Z"
   },
   {
    "duration": 14,
    "start_time": "2023-08-23T17:26:12.146Z"
   },
   {
    "duration": 14,
    "start_time": "2023-08-23T17:26:12.162Z"
   },
   {
    "duration": 12,
    "start_time": "2023-08-23T17:26:12.180Z"
   },
   {
    "duration": 18,
    "start_time": "2023-08-23T17:26:12.194Z"
   },
   {
    "duration": 11,
    "start_time": "2023-08-23T17:26:12.214Z"
   },
   {
    "duration": 23,
    "start_time": "2023-08-23T17:26:12.227Z"
   },
   {
    "duration": 12,
    "start_time": "2023-08-23T17:26:12.252Z"
   },
   {
    "duration": 10,
    "start_time": "2023-08-23T17:26:12.266Z"
   },
   {
    "duration": 12,
    "start_time": "2023-08-23T17:26:12.309Z"
   },
   {
    "duration": 5,
    "start_time": "2023-08-23T17:26:12.330Z"
   },
   {
    "duration": 269,
    "start_time": "2023-08-23T17:26:12.337Z"
   },
   {
    "duration": 22,
    "start_time": "2023-08-23T17:26:12.610Z"
   },
   {
    "duration": 5,
    "start_time": "2023-08-23T17:26:12.635Z"
   },
   {
    "duration": 11,
    "start_time": "2023-08-23T17:26:12.643Z"
   },
   {
    "duration": 8,
    "start_time": "2023-08-23T17:26:12.657Z"
   },
   {
    "duration": 774,
    "start_time": "2023-08-23T17:26:12.668Z"
   },
   {
    "duration": 10,
    "start_time": "2023-08-23T17:26:13.444Z"
   },
   {
    "duration": 777,
    "start_time": "2023-08-23T17:26:13.455Z"
   },
   {
    "duration": 8,
    "start_time": "2023-08-23T17:26:14.234Z"
   },
   {
    "duration": 191,
    "start_time": "2023-08-23T17:26:14.244Z"
   },
   {
    "duration": 166,
    "start_time": "2023-08-23T17:26:14.436Z"
   },
   {
    "duration": 243,
    "start_time": "2023-08-23T17:26:14.604Z"
   },
   {
    "duration": 276,
    "start_time": "2023-08-23T17:26:14.848Z"
   },
   {
    "duration": 11,
    "start_time": "2023-08-23T17:26:15.125Z"
   },
   {
    "duration": 319,
    "start_time": "2023-08-23T17:26:15.138Z"
   },
   {
    "duration": 62,
    "start_time": "2023-08-23T17:26:15.460Z"
   },
   {
    "duration": 23,
    "start_time": "2023-08-23T17:26:15.524Z"
   },
   {
    "duration": 638,
    "start_time": "2023-08-23T17:26:15.549Z"
   },
   {
    "duration": 36,
    "start_time": "2023-08-23T17:26:16.189Z"
   },
   {
    "duration": 507,
    "start_time": "2023-08-23T17:26:16.228Z"
   },
   {
    "duration": 73,
    "start_time": "2023-08-23T17:26:16.736Z"
   },
   {
    "duration": 239,
    "start_time": "2023-08-23T17:26:16.813Z"
   },
   {
    "duration": 7,
    "start_time": "2023-08-23T17:26:17.054Z"
   },
   {
    "duration": 7,
    "start_time": "2023-08-23T17:26:17.063Z"
   },
   {
    "duration": 49,
    "start_time": "2023-08-23T17:26:17.072Z"
   },
   {
    "duration": 7,
    "start_time": "2023-08-23T17:33:25.048Z"
   },
   {
    "duration": 9,
    "start_time": "2023-08-23T17:47:06.535Z"
   },
   {
    "duration": 7,
    "start_time": "2023-08-23T17:47:13.472Z"
   },
   {
    "duration": 236,
    "start_time": "2023-08-23T17:49:40.120Z"
   },
   {
    "duration": 151,
    "start_time": "2023-08-23T17:49:46.194Z"
   },
   {
    "duration": 169,
    "start_time": "2023-08-23T17:50:05.799Z"
   },
   {
    "duration": 152,
    "start_time": "2023-08-23T17:50:13.544Z"
   },
   {
    "duration": 65,
    "start_time": "2023-08-23T17:51:45.773Z"
   },
   {
    "duration": 69,
    "start_time": "2023-08-23T17:52:34.670Z"
   },
   {
    "duration": 63,
    "start_time": "2023-08-23T17:53:29.793Z"
   },
   {
    "duration": 54,
    "start_time": "2023-08-23T17:53:48.550Z"
   },
   {
    "duration": 62,
    "start_time": "2023-08-23T17:54:01.173Z"
   },
   {
    "duration": 59,
    "start_time": "2023-08-23T17:54:11.992Z"
   },
   {
    "duration": 51,
    "start_time": "2023-08-23T17:54:13.647Z"
   },
   {
    "duration": 65,
    "start_time": "2023-08-23T17:54:15.604Z"
   },
   {
    "duration": 70,
    "start_time": "2023-08-23T17:54:17.976Z"
   },
   {
    "duration": 51,
    "start_time": "2023-08-23T17:54:20.650Z"
   },
   {
    "duration": 67,
    "start_time": "2023-08-23T17:54:22.103Z"
   },
   {
    "duration": 218,
    "start_time": "2023-08-23T17:54:45.613Z"
   },
   {
    "duration": 7,
    "start_time": "2023-08-23T18:04:10.331Z"
   },
   {
    "duration": 7,
    "start_time": "2023-08-23T18:04:15.614Z"
   },
   {
    "duration": 174,
    "start_time": "2023-08-23T18:07:06.585Z"
   },
   {
    "duration": 140,
    "start_time": "2023-08-23T18:07:11.024Z"
   },
   {
    "duration": 156,
    "start_time": "2023-08-23T18:07:13.544Z"
   },
   {
    "duration": 157,
    "start_time": "2023-08-23T18:08:18.454Z"
   },
   {
    "duration": 250,
    "start_time": "2023-08-23T18:08:34.212Z"
   },
   {
    "duration": 157,
    "start_time": "2023-08-23T18:09:15.984Z"
   },
   {
    "duration": 159,
    "start_time": "2023-08-23T18:09:36.075Z"
   },
   {
    "duration": 158,
    "start_time": "2023-08-23T18:09:43.125Z"
   },
   {
    "duration": 148,
    "start_time": "2023-08-23T18:10:11.194Z"
   },
   {
    "duration": 159,
    "start_time": "2023-08-23T18:10:21.820Z"
   },
   {
    "duration": 210,
    "start_time": "2023-08-23T18:10:26.578Z"
   },
   {
    "duration": 145,
    "start_time": "2023-08-23T18:10:33.309Z"
   },
   {
    "duration": 13,
    "start_time": "2023-08-23T18:12:31.484Z"
   },
   {
    "duration": 13,
    "start_time": "2023-08-23T18:13:35.722Z"
   },
   {
    "duration": 4,
    "start_time": "2023-08-23T18:14:07.789Z"
   },
   {
    "duration": 6,
    "start_time": "2023-08-23T18:14:25.576Z"
   },
   {
    "duration": 4,
    "start_time": "2023-08-23T18:16:15.454Z"
   },
   {
    "duration": 9,
    "start_time": "2023-08-23T18:19:11.385Z"
   },
   {
    "duration": 8,
    "start_time": "2023-08-23T18:19:29.228Z"
   },
   {
    "duration": 147,
    "start_time": "2023-08-23T18:19:33.872Z"
   },
   {
    "duration": 228,
    "start_time": "2023-08-23T18:19:43.384Z"
   },
   {
    "duration": 135,
    "start_time": "2023-08-23T18:19:50.894Z"
   },
   {
    "duration": 151,
    "start_time": "2023-08-23T18:20:03.358Z"
   },
   {
    "duration": 363,
    "start_time": "2023-08-23T18:20:11.854Z"
   },
   {
    "duration": 150,
    "start_time": "2023-08-23T18:20:31.104Z"
   },
   {
    "duration": 347,
    "start_time": "2023-08-23T18:20:52.334Z"
   },
   {
    "duration": 469,
    "start_time": "2023-08-23T18:21:20.234Z"
   },
   {
    "duration": 363,
    "start_time": "2023-08-23T18:21:34.172Z"
   },
   {
    "duration": 247,
    "start_time": "2023-08-23T18:21:40.284Z"
   },
   {
    "duration": 232,
    "start_time": "2023-08-23T18:22:04.194Z"
   },
   {
    "duration": 398,
    "start_time": "2023-08-23T18:22:12.514Z"
   },
   {
    "duration": 225,
    "start_time": "2023-08-23T18:22:17.734Z"
   },
   {
    "duration": 255,
    "start_time": "2023-08-23T18:22:33.533Z"
   },
   {
    "duration": 226,
    "start_time": "2023-08-23T18:22:35.354Z"
   },
   {
    "duration": 236,
    "start_time": "2023-08-23T18:22:40.435Z"
   },
   {
    "duration": 257,
    "start_time": "2023-08-23T18:22:44.384Z"
   },
   {
    "duration": 377,
    "start_time": "2023-08-23T18:22:47.474Z"
   },
   {
    "duration": 245,
    "start_time": "2023-08-23T18:22:59.314Z"
   },
   {
    "duration": 266,
    "start_time": "2023-08-23T18:23:52.974Z"
   },
   {
    "duration": 260,
    "start_time": "2023-08-23T18:24:04.334Z"
   },
   {
    "duration": 257,
    "start_time": "2023-08-23T18:24:11.621Z"
   },
   {
    "duration": 412,
    "start_time": "2023-08-23T18:24:14.934Z"
   },
   {
    "duration": 262,
    "start_time": "2023-08-23T18:24:21.694Z"
   },
   {
    "duration": 249,
    "start_time": "2023-08-23T18:24:25.443Z"
   },
   {
    "duration": 407,
    "start_time": "2023-08-23T18:25:27.984Z"
   },
   {
    "duration": 692,
    "start_time": "2023-08-23T18:25:35.549Z"
   },
   {
    "duration": 492,
    "start_time": "2023-08-23T18:25:49.794Z"
   },
   {
    "duration": 497,
    "start_time": "2023-08-23T18:26:45.289Z"
   },
   {
    "duration": 674,
    "start_time": "2023-08-23T18:26:57.591Z"
   },
   {
    "duration": 536,
    "start_time": "2023-08-23T18:27:21.171Z"
   },
   {
    "duration": 466,
    "start_time": "2023-08-23T18:28:53.532Z"
   },
   {
    "duration": 1360,
    "start_time": "2023-08-23T18:38:08.073Z"
   },
   {
    "duration": 71,
    "start_time": "2023-08-23T18:38:09.436Z"
   },
   {
    "duration": 12,
    "start_time": "2023-08-23T18:38:09.509Z"
   },
   {
    "duration": 12,
    "start_time": "2023-08-23T18:38:09.522Z"
   },
   {
    "duration": 9,
    "start_time": "2023-08-23T18:38:09.537Z"
   },
   {
    "duration": 12,
    "start_time": "2023-08-23T18:38:09.548Z"
   },
   {
    "duration": 21,
    "start_time": "2023-08-23T18:38:09.562Z"
   },
   {
    "duration": 22,
    "start_time": "2023-08-23T18:38:09.585Z"
   },
   {
    "duration": 7,
    "start_time": "2023-08-23T18:38:09.609Z"
   },
   {
    "duration": 12,
    "start_time": "2023-08-23T18:38:09.618Z"
   },
   {
    "duration": 9,
    "start_time": "2023-08-23T18:38:09.631Z"
   },
   {
    "duration": 44,
    "start_time": "2023-08-23T18:38:09.642Z"
   },
   {
    "duration": 8,
    "start_time": "2023-08-23T18:38:09.688Z"
   },
   {
    "duration": 238,
    "start_time": "2023-08-23T18:38:09.700Z"
   },
   {
    "duration": 5,
    "start_time": "2023-08-23T18:38:09.940Z"
   },
   {
    "duration": 6,
    "start_time": "2023-08-23T18:38:09.947Z"
   },
   {
    "duration": 28,
    "start_time": "2023-08-23T18:38:09.954Z"
   },
   {
    "duration": 5,
    "start_time": "2023-08-23T18:38:09.984Z"
   },
   {
    "duration": 659,
    "start_time": "2023-08-23T18:38:09.991Z"
   },
   {
    "duration": 632,
    "start_time": "2023-08-23T18:38:10.652Z"
   },
   {
    "duration": 261,
    "start_time": "2023-08-23T18:38:11.286Z"
   },
   {
    "duration": 161,
    "start_time": "2023-08-23T18:38:11.548Z"
   },
   {
    "duration": 224,
    "start_time": "2023-08-23T18:38:11.711Z"
   },
   {
    "duration": 282,
    "start_time": "2023-08-23T18:38:11.936Z"
   },
   {
    "duration": 7,
    "start_time": "2023-08-23T18:38:12.220Z"
   },
   {
    "duration": 278,
    "start_time": "2023-08-23T18:38:12.229Z"
   },
   {
    "duration": 33,
    "start_time": "2023-08-23T18:38:12.509Z"
   },
   {
    "duration": 38,
    "start_time": "2023-08-23T18:38:12.544Z"
   },
   {
    "duration": 17,
    "start_time": "2023-08-23T18:38:12.584Z"
   },
   {
    "duration": 15,
    "start_time": "2023-08-23T18:38:12.602Z"
   },
   {
    "duration": 12,
    "start_time": "2023-08-23T18:38:12.619Z"
   },
   {
    "duration": 5,
    "start_time": "2023-08-23T18:38:12.632Z"
   },
   {
    "duration": 145,
    "start_time": "2023-08-23T18:38:12.639Z"
   },
   {
    "duration": 0,
    "start_time": "2023-08-23T18:38:12.786Z"
   },
   {
    "duration": 0,
    "start_time": "2023-08-23T18:38:12.787Z"
   },
   {
    "duration": 0,
    "start_time": "2023-08-23T18:38:12.789Z"
   },
   {
    "duration": 0,
    "start_time": "2023-08-23T18:38:12.790Z"
   },
   {
    "duration": 0,
    "start_time": "2023-08-23T18:38:12.791Z"
   },
   {
    "duration": 0,
    "start_time": "2023-08-23T18:38:12.792Z"
   },
   {
    "duration": 208,
    "start_time": "2023-08-23T18:39:28.288Z"
   },
   {
    "duration": 209,
    "start_time": "2023-08-23T18:39:33.601Z"
   },
   {
    "duration": 559,
    "start_time": "2023-08-23T18:39:49.646Z"
   },
   {
    "duration": 73,
    "start_time": "2023-08-23T18:39:54.224Z"
   },
   {
    "duration": 213,
    "start_time": "2023-08-23T18:39:57.335Z"
   },
   {
    "duration": 8,
    "start_time": "2023-08-23T18:40:00.899Z"
   },
   {
    "duration": 7,
    "start_time": "2023-08-23T18:40:05.406Z"
   },
   {
    "duration": 7,
    "start_time": "2023-08-23T18:40:20.896Z"
   },
   {
    "duration": 17,
    "start_time": "2023-08-23T18:40:36.686Z"
   },
   {
    "duration": 1276,
    "start_time": "2023-08-24T06:30:41.992Z"
   },
   {
    "duration": 198,
    "start_time": "2023-08-24T06:30:43.270Z"
   },
   {
    "duration": 11,
    "start_time": "2023-08-24T06:30:43.470Z"
   },
   {
    "duration": 14,
    "start_time": "2023-08-24T06:30:43.482Z"
   },
   {
    "duration": 18,
    "start_time": "2023-08-24T06:30:43.498Z"
   },
   {
    "duration": 28,
    "start_time": "2023-08-24T06:30:43.517Z"
   },
   {
    "duration": 10,
    "start_time": "2023-08-24T06:30:43.547Z"
   },
   {
    "duration": 24,
    "start_time": "2023-08-24T06:30:43.558Z"
   },
   {
    "duration": 7,
    "start_time": "2023-08-24T06:30:43.584Z"
   },
   {
    "duration": 13,
    "start_time": "2023-08-24T06:30:43.592Z"
   },
   {
    "duration": 12,
    "start_time": "2023-08-24T06:30:43.606Z"
   },
   {
    "duration": 24,
    "start_time": "2023-08-24T06:30:43.619Z"
   },
   {
    "duration": 9,
    "start_time": "2023-08-24T06:30:43.645Z"
   },
   {
    "duration": 209,
    "start_time": "2023-08-24T06:30:43.657Z"
   },
   {
    "duration": 5,
    "start_time": "2023-08-24T06:30:43.867Z"
   },
   {
    "duration": 19,
    "start_time": "2023-08-24T06:30:43.873Z"
   },
   {
    "duration": 29,
    "start_time": "2023-08-24T06:30:43.894Z"
   },
   {
    "duration": 19,
    "start_time": "2023-08-24T06:30:43.924Z"
   },
   {
    "duration": 571,
    "start_time": "2023-08-24T06:30:43.945Z"
   },
   {
    "duration": 568,
    "start_time": "2023-08-24T06:30:44.518Z"
   },
   {
    "duration": 255,
    "start_time": "2023-08-24T06:30:45.087Z"
   },
   {
    "duration": 154,
    "start_time": "2023-08-24T06:30:45.344Z"
   },
   {
    "duration": 203,
    "start_time": "2023-08-24T06:30:45.500Z"
   },
   {
    "duration": 264,
    "start_time": "2023-08-24T06:30:45.705Z"
   },
   {
    "duration": 8,
    "start_time": "2023-08-24T06:30:45.971Z"
   },
   {
    "duration": 271,
    "start_time": "2023-08-24T06:30:45.981Z"
   },
   {
    "duration": 31,
    "start_time": "2023-08-24T06:30:46.254Z"
   },
   {
    "duration": 32,
    "start_time": "2023-08-24T06:30:46.287Z"
   },
   {
    "duration": 13,
    "start_time": "2023-08-24T06:30:46.321Z"
   },
   {
    "duration": 35,
    "start_time": "2023-08-24T06:30:46.336Z"
   },
   {
    "duration": 13,
    "start_time": "2023-08-24T06:30:46.373Z"
   },
   {
    "duration": 29,
    "start_time": "2023-08-24T06:30:46.387Z"
   },
   {
    "duration": 471,
    "start_time": "2023-08-24T06:30:46.417Z"
   },
   {
    "duration": 71,
    "start_time": "2023-08-24T06:30:46.890Z"
   },
   {
    "duration": 366,
    "start_time": "2023-08-24T06:30:46.962Z"
   },
   {
    "duration": 8,
    "start_time": "2023-08-24T06:30:47.329Z"
   },
   {
    "duration": 24,
    "start_time": "2023-08-24T06:30:47.338Z"
   },
   {
    "duration": 50,
    "start_time": "2023-08-24T06:30:47.364Z"
   },
   {
    "duration": 13,
    "start_time": "2023-08-24T06:30:47.415Z"
   },
   {
    "duration": 71,
    "start_time": "2023-08-24T06:31:43.768Z"
   },
   {
    "duration": 1263,
    "start_time": "2023-08-24T11:16:14.638Z"
   },
   {
    "duration": 195,
    "start_time": "2023-08-24T11:16:15.903Z"
   },
   {
    "duration": 11,
    "start_time": "2023-08-24T11:16:16.099Z"
   },
   {
    "duration": 20,
    "start_time": "2023-08-24T11:16:16.112Z"
   },
   {
    "duration": 8,
    "start_time": "2023-08-24T11:16:16.134Z"
   },
   {
    "duration": 13,
    "start_time": "2023-08-24T11:16:16.143Z"
   },
   {
    "duration": 6,
    "start_time": "2023-08-24T11:16:16.157Z"
   },
   {
    "duration": 18,
    "start_time": "2023-08-24T11:16:16.164Z"
   },
   {
    "duration": 6,
    "start_time": "2023-08-24T11:16:16.183Z"
   },
   {
    "duration": 11,
    "start_time": "2023-08-24T11:16:16.190Z"
   },
   {
    "duration": 7,
    "start_time": "2023-08-24T11:16:16.203Z"
   },
   {
    "duration": 12,
    "start_time": "2023-08-24T11:16:16.211Z"
   },
   {
    "duration": 6,
    "start_time": "2023-08-24T11:16:16.225Z"
   },
   {
    "duration": 194,
    "start_time": "2023-08-24T11:16:16.251Z"
   },
   {
    "duration": 8,
    "start_time": "2023-08-24T11:16:16.446Z"
   },
   {
    "duration": 8,
    "start_time": "2023-08-24T11:16:16.456Z"
   },
   {
    "duration": 10,
    "start_time": "2023-08-24T11:16:16.466Z"
   },
   {
    "duration": 4,
    "start_time": "2023-08-24T11:16:16.477Z"
   },
   {
    "duration": 601,
    "start_time": "2023-08-24T11:16:16.482Z"
   },
   {
    "duration": 577,
    "start_time": "2023-08-24T11:16:17.085Z"
   },
   {
    "duration": 238,
    "start_time": "2023-08-24T11:16:17.663Z"
   },
   {
    "duration": 133,
    "start_time": "2023-08-24T11:16:17.903Z"
   },
   {
    "duration": 181,
    "start_time": "2023-08-24T11:16:18.038Z"
   },
   {
    "duration": 260,
    "start_time": "2023-08-24T11:16:18.221Z"
   },
   {
    "duration": 6,
    "start_time": "2023-08-24T11:16:18.482Z"
   },
   {
    "duration": 256,
    "start_time": "2023-08-24T11:16:18.490Z"
   },
   {
    "duration": 31,
    "start_time": "2023-08-24T11:16:18.747Z"
   },
   {
    "duration": 15,
    "start_time": "2023-08-24T11:16:18.780Z"
   },
   {
    "duration": 12,
    "start_time": "2023-08-24T11:16:18.797Z"
   },
   {
    "duration": 14,
    "start_time": "2023-08-24T11:16:18.811Z"
   },
   {
    "duration": 35,
    "start_time": "2023-08-24T11:16:18.826Z"
   },
   {
    "duration": 8,
    "start_time": "2023-08-24T11:16:18.863Z"
   },
   {
    "duration": 416,
    "start_time": "2023-08-24T11:16:18.872Z"
   },
   {
    "duration": 147,
    "start_time": "2023-08-24T11:16:19.290Z"
   },
   {
    "duration": 192,
    "start_time": "2023-08-24T11:16:19.439Z"
   },
   {
    "duration": 20,
    "start_time": "2023-08-24T11:16:19.634Z"
   },
   {
    "duration": 5,
    "start_time": "2023-08-24T11:16:19.656Z"
   },
   {
    "duration": 8,
    "start_time": "2023-08-24T11:16:19.662Z"
   },
   {
    "duration": 11,
    "start_time": "2023-08-24T11:16:19.671Z"
   },
   {
    "duration": 134,
    "start_time": "2023-08-24T11:16:42.078Z"
   },
   {
    "duration": 96,
    "start_time": "2023-08-24T11:17:01.287Z"
   },
   {
    "duration": 139,
    "start_time": "2023-08-24T11:17:17.052Z"
   }
  ],
  "kernelspec": {
   "display_name": "Python 3 (ipykernel)",
   "language": "python",
   "name": "python3"
  },
  "language_info": {
   "codemirror_mode": {
    "name": "ipython",
    "version": 3
   },
   "file_extension": ".py",
   "mimetype": "text/x-python",
   "name": "python",
   "nbconvert_exporter": "python",
   "pygments_lexer": "ipython3",
   "version": "3.11.5"
  },
  "toc": {
   "base_numbering": 1,
   "nav_menu": {},
   "number_sections": true,
   "sideBar": true,
   "skip_h1_title": true,
   "title_cell": "СОДЕРЖАНИЕ",
   "title_sidebar": "Содержание",
   "toc_cell": true,
   "toc_position": {
    "height": "calc(100% - 180px)",
    "left": "10px",
    "top": "150px",
    "width": "296.375px"
   },
   "toc_section_display": false,
   "toc_window_display": true
  }
 },
 "nbformat": 4,
 "nbformat_minor": 5
}
